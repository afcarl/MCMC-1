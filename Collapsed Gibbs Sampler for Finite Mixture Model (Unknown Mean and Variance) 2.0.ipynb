{
 "metadata": {
  "name": "",
  "signature": "sha256:a7e6897566c54dd9d3b3180b143fde51dbec54acbb0b5ee1dcf0048ab46139f6"
 },
 "nbformat": 3,
 "nbformat_minor": 0,
 "worksheets": [
  {
   "cells": [
    {
     "cell_type": "code",
     "collapsed": false,
     "input": [
      "import numpy as np\n",
      "import matplotlib.pyplot as plt\n",
      "import pandas as pd\n",
      "\n",
      "from scipy import stats, special\n",
      "from numpy import random\n",
      "from collections import namedtuple, Counter\n",
      "\n",
      "np.set_printoptions(precision=2)"
     ],
     "language": "python",
     "metadata": {},
     "outputs": [],
     "prompt_number": 1
    },
    {
     "cell_type": "code",
     "collapsed": false,
     "input": [
      "def generate(weights, means, var, N):\n",
      "    \"\"\"Generate data from a mixture model with fixed mean variance\n",
      "    \"\"\"\n",
      "    samples = []\n",
      "    components = []\n",
      "    assert(len(weights) == len(means))\n",
      "    assert(sum(weights) == 1)\n",
      "    for i in range(N):\n",
      "        component = random.choice(range(len(means)), p=weights)\n",
      "        samples.append(random.normal(means[component], np.sqrt(var)))\n",
      "        components.append(component)\n",
      "    return np.array(samples), np.array(components)\n",
      "\n",
      "\n",
      "def group_data(X, c):\n",
      "    return {cluster: \n",
      "            [x for x, assignment in zip(X, c) \n",
      "             if assignment == cluster] \n",
      "            for cluster in set(c)}\n",
      "\n",
      "\n",
      "def shuffle(state):\n",
      "    z = list(zip(state['data'], state['c']))\n",
      "    random.shuffle(z)\n",
      "    state['data'], state['c'] = map(list, zip(*z))\n",
      "    return state\n",
      "\n",
      "\n",
      "def state_score(state):\n",
      "    \"\"\"Total likelihood of state\n",
      "    \"\"\"\n",
      "    cluster_labels = state['suffstats'].keys()\n",
      "    a = np.array([suffstat_score(cluster, state) \n",
      "                  for cluster in cluster_labels])\n",
      "\n",
      "    b = np.array([cluster_assign_score(cluster, state) \n",
      "                  for cluster in cluster_labels])\n",
      "    return (a + b).sum()"
     ],
     "language": "python",
     "metadata": {},
     "outputs": [],
     "prompt_number": 2
    },
    {
     "cell_type": "code",
     "collapsed": false,
     "input": [
      "SuffStat = namedtuple('SuffStat', 'N mu count_times_variance')\n",
      "\n",
      "def generate_suffstat(X):\n",
      "    X = np.array(X)\n",
      "    N = len(X)\n",
      "    count_times_variance = np.var(X) * N\n",
      "    return SuffStat(N, X.mean(), count_times_variance)\n",
      "\n",
      "## Update\n",
      "# def add_datapoint_to_suffstats(x, ss):\n",
      "#     \"\"\"Update sufficient stats for normal component with new datapoint\n",
      "#     \"\"\"\n",
      "#     N = ss.N + 1\n",
      "#     mu = (ss.mu * (N - 1) + x) / N\n",
      "#     return SuffStat(N, mu)\n",
      "\n",
      "## Update\n",
      "# def remove_datapoint_from_suffstats(x, ss):\n",
      "#     \"\"\"Remove datapoint from sufficient stats for normal component\n",
      "#     \"\"\"\n",
      "#     N = ss.N - 1\n",
      "#     mu = (ss.mu * (N + 1) - x * 1.0) / N\n",
      "#     return SuffStat(N, mu)\n",
      "\n",
      "def suffstat_score(cluster, state):\n",
      "#     \"\"\"https://github.com/forcedotcom/distributions/blob/8d4d8eebbcec14fa9f4c314425f127e1316d9951/distributions/dbg/models/nich.py#L180-L189\n",
      "#     \"\"\"\n",
      "    pass\n",
      "\n",
      "    \n",
      "\n",
      "def cluster_assign_score(cluster, state):\n",
      "    \"\"\"From Algorithm 24.1 in Murphy 2012\n",
      "    \n",
      "    What is the probability of the datapoint being in cluster?\n",
      "    \"\"\"\n",
      "    current_cluster_size, num_clusters, alpha = state['suffstats'][cluster].N, state['K'], state['alpha']\n",
      "    return np.log(current_cluster_size - 1 + alpha * 1. / num_clusters)\n",
      "\n",
      "\n",
      "def get_posterior_params_nich(cluster, state):\n",
      "    \"\"\"\n",
      "    \\cite{murphy2007conjugate}, Eqs.141-144\n",
      "    \"\"\"\n",
      "    count, mean, count_times_variance = state[\"suffstats\"][cluster]\n",
      "    mu0, sigmasq0, kappa0, nu0 = state['mu_0'], state['sigmasq_0'], state['kappa_0'], state['nu_0']\n",
      "\n",
      "    total = mean * count\n",
      "    mu_1 = mu0 - mean\n",
      "    kappa_n = kappa0 + count\n",
      "    mu_n = (kappa0 * mu0 + total) / kappa_n\n",
      "    nu_n = nu0 + count\n",
      "    sigmasq_n = 1. / nu_n * (\n",
      "        nu0 * sigmasq0\n",
      "        + count_times_variance\n",
      "        + (count * kappa0 * mu_1 * mu_1) / kappa_n)\n",
      "    return mu_n, sigmasq_n, kappa_n, nu_n \n",
      "\n",
      "\n",
      "def posterior_predictive_score(x, cluster, state):\n",
      "    \n",
      "    mu, sigmasq, kappa, nu = get_posterior_params_nich(cluster, state)\n",
      "    t_score = score_student_t(\n",
      "        x,\n",
      "        nu=nu,\n",
      "        mu=mu,\n",
      "        sigmasq=((1. + kappa) * sigmasq) / kappa)\n",
      "\n",
      "    return t_score\n",
      "\n",
      "\n",
      "def score_student_t(x, nu, mu, sigmasq):\n",
      "    \"\"\"\n",
      "    \\cite{murphy2007conjugate}, Eq. 304\n",
      "    \"\"\"\n",
      "    score = special.gammaln(.5 * (nu + 1.)) - special.gammaln(.5 * nu)\n",
      "    score -= .5 * np.log(nu * np.pi * sigmasq)\n",
      "    xt = (x - mu)\n",
      "    s = xt * xt / sigmasq\n",
      "    score += -(.5 * (nu + 1.)) * np.log(1. + s / nu)\n",
      "    return score\n",
      "\n",
      "\n",
      "## Update\n",
      "# def sample_marginalized_parameters(state):\n",
      "#     alpha = state['alpha']\n",
      "#     num_clusters = state[\"K\"]\n",
      "#     mu_0, sigmasq_0, param_var = state['mu_0'], state['sigmasq_0'], state['param_var']\n",
      "#     pi = stats.dirichlet([ss.N + alpha * 1.0 / num_clusters for ss in state[\"suffstats\"].values()]).rvs()[0]\n",
      "#     mus = []\n",
      "#     for cluster, ss in state[\"suffstats\"].iteritems():\n",
      "#         numerator = (mu_0 / sigmasq_0 + \n",
      "#                      ss.mu * ss.N / param_var)\n",
      "#         denominator = (1.0 / sigmasq_0 + ss.N / param_var)\n",
      "#         posterior_mu = numerator / denominator\n",
      "#         posterior_sigma2 = 1.0 / (1.0 / sigmasq_0 + ss.N)\n",
      "#         mus.append(stats.norm(posterior_mu, np.sqrt(posterior_sigma2)).rvs())\n",
      "#     return pi, np.array(mus)"
     ],
     "language": "python",
     "metadata": {},
     "outputs": [],
     "prompt_number": 3
    },
    {
     "cell_type": "code",
     "collapsed": false,
     "input": [
      "def gibbs_step(state, infer_mu0=True):\n",
      "    state = shuffle(state)\n",
      "    K = len(state['suffstats'])\n",
      "    for i, (datapoint, cluster) in enumerate(zip(state['data'], state['c'])):\n",
      "\n",
      "        #  state['suffstats'][cluster] = remove_datapoint_from_suffstats(datapoint, \n",
      "        #                                                                state['suffstats'][cluster])\n",
      "        pts = [x for index, x in enumerate(state['data']) if state[\"c\"][index] == cluster and i != index]\n",
      "        state['suffstats'][cluster] = generate_suffstat(pts)\n",
      "\n",
      "        cluster_labels = state['suffstats'].keys()\n",
      "        t = [posterior_predictive_score(0, cluster, state)\n",
      "                             for cluster in cluster_labels]\n",
      "        predictive_scores = [posterior_predictive_score(datapoint, cluster, state)\n",
      "                             for cluster in cluster_labels]\n",
      "        cluster_scores = [cluster_assign_score(cluster, state)\n",
      "                          for cluster in cluster_labels]\n",
      "        scores = np.array(predictive_scores) + np.array(cluster_scores)\n",
      "        scores = np.exp(scores) / np.exp(scores).sum()\n",
      "        new_cluster = random.choice(cluster_labels, p=scores)\n",
      "        state['c'][i] = new_cluster\n",
      "        # state['suffstats'][new_cluster] = add_datapoint_to_suffstats(datapoint, state['suffstats'][new_cluster])\n",
      "        pts = [x for index, x in enumerate(state['data']) if state['c'][index] == new_cluster]\n",
      "        state['suffstats'][new_cluster] = generate_suffstat(pts)\n",
      "        \n",
      "#     if infer_mu0:\n",
      "#         current_prior_mu = state['mu_0']\n",
      "#         current_score = state_score(state)\n",
      "#         state['mu_0'] = current_prior_mu + random.normal(scale=.1)\n",
      "#         proposal_score = state_score(state)\n",
      "#         diff = min(proposal_score - current_score, 0)\n",
      "#         if np.log(stats.uniform(0, 1).rvs()) < diff:\n",
      "#             pass\n",
      "#         else:\n",
      "#             state['mu_0'] = current_prior_mu\n",
      "    return state"
     ],
     "language": "python",
     "metadata": {},
     "outputs": [],
     "prompt_number": 4
    },
    {
     "cell_type": "code",
     "collapsed": false,
     "input": [
      "def initial_state(N=200):\n",
      "    state = {'data' : None, \n",
      "             'c' : None, \n",
      "             'suffstats' : None, \n",
      "             'mu_0' : 0., \n",
      "             'sigmasq_0' : 1., \n",
      "             'kappa_0': 1.,\n",
      "             'nu_0': 1.,\n",
      "             'alpha': 1}\n",
      "    ground_truth_weights, ground_truth_means = [.4, .6], [-1, 1]\n",
      "    state[\"K\"] = len(ground_truth_means)\n",
      "    state['data'], ground_truth_c = generate(ground_truth_weights, ground_truth_means, .5, N)\n",
      "    state['c'] = [random.choice(range(state[\"K\"])) for _ in state['data']]\n",
      "    grouped_data = group_data(state['data'], state['c'])\n",
      "\n",
      "    state['suffstats'] = {cluster: generate_suffstat(X) for cluster, X in grouped_data.iteritems()}\n",
      "    return state, ground_truth_c"
     ],
     "language": "python",
     "metadata": {},
     "outputs": [],
     "prompt_number": 5
    },
    {
     "cell_type": "code",
     "collapsed": false,
     "input": [
      "state, ground_truth_c = initial_state()\n",
      "bins = np.arange(min(state['data'])-1, max(state['data'])+1, .2)\n",
      "_ = plt.hist(group_data(state['data'], ground_truth_c).values(), \n",
      "             bins=bins, \n",
      "             histtype='stepfilled', alpha=.5)\n",
      "\n",
      "print \"initial suffstats\", state[\"suffstats\"]\n",
      "print \"actual suffstats\", {cluster: generate_suffstat(X) for cluster, X in group_data(state['data'], ground_truth_c).iteritems()}"
     ],
     "language": "python",
     "metadata": {},
     "outputs": [
      {
       "output_type": "stream",
       "stream": "stdout",
       "text": [
        "initial suffstats {0: SuffStat(N=93, mu=0.31136172797918099, count_times_variance=120.24504946006127), 1: SuffStat(N=107, mu=0.17320879038437559, count_times_variance=191.49932976075371)}\n",
        "actual suffstats {0: SuffStat(N=77, mu=-1.1046956538345842, count_times_variance=32.925553251199936), 1: SuffStat(N=123, mu=1.0776548505565451, count_times_variance=54.232994449760142)}\n"
       ]
      },
      {
       "metadata": {},
       "output_type": "display_data",
       "png": "[encoded data removed]",
       "text": [
        "<matplotlib.figure.Figure at 0x10adf55d0>"
       ]
      }
     ],
     "prompt_number": 6
    },
    {
     "cell_type": "code",
     "collapsed": false,
     "input": [
      "num_iterations = 500\n",
      "scores = []\n",
      "samples = []\n",
      "suffstats = []\n",
      "for i in range(num_iterations):\n",
      "    state = gibbs_step(state)\n",
      "#     pi, mu = sample_marginalized_parameters(state)\n",
      "    suffstats.append(state['suffstats'].copy())\n",
      "#     samples.append({\n",
      "#         \"mu_0\": state[\"mu_0\"],\n",
      "#         \"c\": np.array(state[\"c\"]),\n",
      "#         \"mu\": mu,\n",
      "#         \"pi\": pi\n",
      "#     })\n",
      "#     scores.append(state_score(state))"
     ],
     "language": "python",
     "metadata": {},
     "outputs": [],
     "prompt_number": 7
    },
    {
     "cell_type": "code",
     "collapsed": false,
     "input": [
      "pd.DataFrame(np.array([[ss.mu for ss in r.values()] for r in suffstats])).hist()"
     ],
     "language": "python",
     "metadata": {},
     "outputs": [
      {
       "metadata": {},
       "output_type": "pyout",
       "prompt_number": 8,
       "text": [
        "array([[<matplotlib.axes._subplots.AxesSubplot object at 0x10addfe90>,\n",
        "        <matplotlib.axes._subplots.AxesSubplot object at 0x10bca1790>]], dtype=object)"
       ]
      },
      {
       "metadata": {},
       "output_type": "display_data",
       "png": "[encoded data removed]",
       "text": [
        "<matplotlib.figure.Figure at 0x10addfad0>"
       ]
      }
     ],
     "prompt_number": 8
    },
    {
     "cell_type": "heading",
     "level": 3,
     "metadata": {},
     "source": [
      "Model Score"
     ]
    },
    {
     "cell_type": "code",
     "collapsed": false,
     "input": [
      "pd.Series(scores[:100]).plot(title=\"Model score\")"
     ],
     "language": "python",
     "metadata": {},
     "outputs": [
      {
       "metadata": {},
       "output_type": "pyout",
       "prompt_number": 8,
       "text": [
        "<matplotlib.axes._subplots.AxesSubplot at 0x107fb5890>"
       ]
      },
      {
       "metadata": {},
       "output_type": "display_data",
       "png": "[encoded data removed]",
       "text": [
        "<matplotlib.figure.Figure at 0x10b112950>"
       ]
      }
     ],
     "prompt_number": 8
    },
    {
     "cell_type": "heading",
     "level": 3,
     "metadata": {},
     "source": [
      "Cluster Means Distributions"
     ]
    },
    {
     "cell_type": "code",
     "collapsed": false,
     "input": [
      "mus = np.array([p[\"mu\"] for p in samples])"
     ],
     "language": "python",
     "metadata": {},
     "outputs": [],
     "prompt_number": 9
    },
    {
     "cell_type": "code",
     "collapsed": false,
     "input": [
      "_ = pd.DataFrame(mus).hist(normed=True, xrot=45, sharey=True, sharex=True)"
     ],
     "language": "python",
     "metadata": {},
     "outputs": [
      {
       "metadata": {},
       "output_type": "display_data",
       "png": "[encoded data removed]",
       "text": [
        "<matplotlib.figure.Figure at 0x10b2a6510>"
       ]
      }
     ],
     "prompt_number": 10
    },
    {
     "cell_type": "heading",
     "level": 3,
     "metadata": {},
     "source": [
      "$\\mu_0$ Distribution"
     ]
    },
    {
     "cell_type": "code",
     "collapsed": false,
     "input": [
      "mu0 = np.array([p[\"mu_0\"] for p in samples])"
     ],
     "language": "python",
     "metadata": {},
     "outputs": [],
     "prompt_number": 11
    },
    {
     "cell_type": "code",
     "collapsed": false,
     "input": [
      "pd.Series(mu0).hist()"
     ],
     "language": "python",
     "metadata": {},
     "outputs": [
      {
       "metadata": {},
       "output_type": "pyout",
       "prompt_number": 12,
       "text": [
        "<matplotlib.axes._subplots.AxesSubplot at 0x10b126310>"
       ]
      },
      {
       "metadata": {},
       "output_type": "display_data",
       "png": "[encoded data removed]",
       "text": [
        "<matplotlib.figure.Figure at 0x10b2a6810>"
       ]
      }
     ],
     "prompt_number": 12
    },
    {
     "cell_type": "heading",
     "level": 3,
     "metadata": {},
     "source": [
      "$\\pi$ Distribution"
     ]
    },
    {
     "cell_type": "code",
     "collapsed": false,
     "input": [
      "pd.DataFrame(pi).describe()"
     ],
     "language": "python",
     "metadata": {},
     "outputs": [
      {
       "html": [
        "<div style=\"max-height:1000px;max-width:1500px;overflow:auto;\">\n",
        "<table border=\"1\" class=\"dataframe\">\n",
        "  <thead>\n",
        "    <tr style=\"text-align: right;\">\n",
        "      <th></th>\n",
        "      <th>0</th>\n",
        "      <th>1</th>\n",
        "      <th>2</th>\n",
        "    </tr>\n",
        "  </thead>\n",
        "  <tbody>\n",
        "    <tr>\n",
        "      <th>count</th>\n",
        "      <td> 250.000000</td>\n",
        "      <td> 250.000000</td>\n",
        "      <td> 250.000000</td>\n",
        "    </tr>\n",
        "    <tr>\n",
        "      <th>mean</th>\n",
        "      <td>   0.214253</td>\n",
        "      <td>   0.458805</td>\n",
        "      <td>   0.326942</td>\n",
        "    </tr>\n",
        "    <tr>\n",
        "      <th>std</th>\n",
        "      <td>   0.033528</td>\n",
        "      <td>   0.037043</td>\n",
        "      <td>   0.035381</td>\n",
        "    </tr>\n",
        "    <tr>\n",
        "      <th>min</th>\n",
        "      <td>   0.088164</td>\n",
        "      <td>   0.338972</td>\n",
        "      <td>   0.224987</td>\n",
        "    </tr>\n",
        "    <tr>\n",
        "      <th>25%</th>\n",
        "      <td>   0.193370</td>\n",
        "      <td>   0.432467</td>\n",
        "      <td>   0.301983</td>\n",
        "    </tr>\n",
        "    <tr>\n",
        "      <th>50%</th>\n",
        "      <td>   0.214224</td>\n",
        "      <td>   0.459338</td>\n",
        "      <td>   0.324142</td>\n",
        "    </tr>\n",
        "    <tr>\n",
        "      <th>75%</th>\n",
        "      <td>   0.236366</td>\n",
        "      <td>   0.480968</td>\n",
        "      <td>   0.347784</td>\n",
        "    </tr>\n",
        "    <tr>\n",
        "      <th>max</th>\n",
        "      <td>   0.323687</td>\n",
        "      <td>   0.584172</td>\n",
        "      <td>   0.432516</td>\n",
        "    </tr>\n",
        "  </tbody>\n",
        "</table>\n",
        "</div>"
       ],
       "metadata": {},
       "output_type": "pyout",
       "prompt_number": 16,
       "text": [
        "                0           1           2\n",
        "count  250.000000  250.000000  250.000000\n",
        "mean     0.214253    0.458805    0.326942\n",
        "std      0.033528    0.037043    0.035381\n",
        "min      0.088164    0.338972    0.224987\n",
        "25%      0.193370    0.432467    0.301983\n",
        "50%      0.214224    0.459338    0.324142\n",
        "75%      0.236366    0.480968    0.347784\n",
        "max      0.323687    0.584172    0.432516"
       ]
      }
     ],
     "prompt_number": 16
    },
    {
     "cell_type": "code",
     "collapsed": false,
     "input": [
      "pi.mean(axis=0)"
     ],
     "language": "python",
     "metadata": {},
     "outputs": [
      {
       "metadata": {},
       "output_type": "pyout",
       "prompt_number": 15,
       "text": [
        "array([ 0.21,  0.46,  0.33])"
       ]
      }
     ],
     "prompt_number": 15
    },
    {
     "cell_type": "code",
     "collapsed": false,
     "input": [
      "pi = np.array([p[\"pi\"] for p in samples])\n",
      "_ = pd.DataFrame(pi).hist(normed=True, xrot=45, sharey=True, sharex=True)"
     ],
     "language": "python",
     "metadata": {},
     "outputs": [
      {
       "metadata": {},
       "output_type": "display_data",
       "png": "[encoded data removed]",
       "text": [
        "<matplotlib.figure.Figure at 0x10b9047d0>"
       ]
      }
     ],
     "prompt_number": 13
    }
   ],
   "metadata": {}
  }
 ]
}