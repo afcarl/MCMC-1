{
 "cells": [
  {
   "cell_type": "code",
   "execution_count": 1,
   "metadata": {
    "collapsed": true
   },
   "outputs": [],
   "source": [
    "%matplotlib inline"
   ]
  },
  {
   "cell_type": "code",
   "execution_count": 2,
   "metadata": {
    "collapsed": false
   },
   "outputs": [],
   "source": [
    "import numpy as np\n",
    "import pandas as pd\n",
    "from scipy.stats import dirichlet, poisson, norm, beta\n",
    "from numpy.random import choice\n",
    "from collections import defaultdict, Counter\n",
    "import matplotlib.pyplot as plt"
   ]
  },
  {
   "cell_type": "markdown",
   "metadata": {},
   "source": [
    "## Dirichlet Distribution"
   ]
  },
  {
   "cell_type": "markdown",
   "metadata": {},
   "source": [
    "The Dirichlet distribution (DD) can be considered a distribution of distributions. Each sample from the DD is a categorial distribution over $K$ categories. It is parameterized $G_0$, a distribution over $K$ categories and $\\alpha$, a scale factor.\n",
    "\n",
    "The expected value of the DD is $G_0$. The variance of the DD is a function of the scale factor. When $\\alpha$ is large, samples from $DD(\\alpha\\cdot G_0)$ will be very close to $G_0$. When $\\alpha$ is small, samples will vary more widely. We can demonstrate by setting $G_0=[.2, .2, .6]$ and varying $\\alpha$."
   ]
  },
  {
   "cell_type": "code",
   "execution_count": 4,
   "metadata": {
    "collapsed": false
   },
   "outputs": [
    {
     "name": "stdout",
     "output_type": "stream",
     "text": [
      "scale factor 0.1\n",
      "sample: [  6.30e-23   4.88e-37   1.00e+00]\n",
      "  mean: [ 0.2  0.2  0.6]\n",
      "   std: [ 0.38  0.38  0.47]\n",
      "\n",
      "scale factor 1\n",
      "sample: [ 0.05  0.01  0.94]\n",
      "  mean: [ 0.2  0.2  0.6]\n",
      "   std: [ 0.28  0.28  0.35]\n",
      "\n",
      "scale factor 10\n",
      "sample: [ 0.11  0.13  0.75]\n",
      "  mean: [ 0.2  0.2  0.6]\n",
      "   std: [ 0.12  0.12  0.15]\n",
      "\n",
      "scale factor 100\n",
      "sample: [ 0.18  0.2   0.62]\n",
      "  mean: [ 0.2  0.2  0.6]\n",
      "   std: [ 0.04  0.04  0.05]\n",
      "\n",
      "scale factor 1000\n",
      "sample: [ 0.21  0.19  0.6 ]\n",
      "  mean: [ 0.2  0.2  0.6]\n",
      "   std: [ 0.01  0.01  0.02]\n",
      "\n"
     ]
    }
   ],
   "source": [
    "np.set_printoptions(precision=2)\n",
    "\n",
    "def stats(scale_factor, G0=[.2, .2, .6], N=10000):\n",
    "    samples = dirichlet(alpha = scale_factor * np.array(G0)).rvs(N)\n",
    "    print \"scale factor\", scale_factor\n",
    "    print \"sample:\", samples[0]\n",
    "    print \"  mean:\", samples.mean(axis=0)\n",
    "    print \"   std:\", samples.std(axis=0)\n",
    "    print\n",
    "    \n",
    "_=[stats(scale) for scale in [0.1, 1, 10, 100, 1000]]"
   ]
  },
  {
   "cell_type": "markdown",
   "metadata": {},
   "source": [
    "## Dirichlet Process"
   ]
  },
  {
   "cell_type": "markdown",
   "metadata": {},
   "source": [
    "Heinrich:\n",
    "\n",
    "> Informally speaking, the DP extends the DD by generalising the base distribution from the discrete $G_0$ to “almost any” distribution $H_0$ defined on some support set $S (H_0)$.\n",
    "\n",
    "Mathematically, we can construct a sample $H$ (recall that $H$ is a probability distribution) from a Dirichlet process $\\text{DP}(\\alpha H_0)$ by drawing a countably infinite number of samples $\\theta_k$ from $H_0$) and setting:\n",
    "\n",
    "$$H=\\sum_{k=1}^\\infty \\pi_k \\cdot\\delta(x-\\theta_k)$$\n",
    "\n",
    "where the $\\pi_k$ are carefully chosen weights (more later) that sum to 1.\n",
    "\n",
    "Thus samples from the Dirichlet process are _discrete_ distributions (even if $H_0$ is continuous) over a countably infinite subset of $S(H_0)$. Again, as $\\alpha\\rightarrow\\infty$, the samples vary less from the base distribution. $H$, above, is a probability mass function for a discrete distribution. \n",
    "\n",
    "So how are the weights $\\pi_k$ chosen? Heinrich, again:\n",
    "\n",
    "> The defining property of the DP is that its samples have weights $\\pi_k$ and locations $\\theta_k$ distributed in such a way that when partitioning S(H) into finitely many arbitrary disjoint subsets $S_1, \\ldots, S_j$ $J<\\infty$, the sums of the weights $\\pi_k$ in each of these $J$ subsets are distributed according to a Dirichlet distribution that is parameterized by $\\alpha$ and a discrete base distribution (like $G_0$) whose weights are equal to the integrals of the base distribution $H_0$ over the subsets $S_n$.\n",
    "\n",
    "As an example, Heinrich notes that given $H_0\\sim \\mathcal{N}(0,1)$ and $S_1=(-\\infty, -1]$, $S_2=(-1, 1]$, and  and $S_3=(1, \\infty]$ then\n",
    "\n",
    "$$H(S_1),H(S_2), H(S_3) \\sim \\text{Dir}\\left(\\alpha\\,\\text{erf}(-1), \\alpha\\,(\\text{erf}(1) - \\text{erf}(-1)), \\alpha\\,(1-\\text{erf}(1))\\right)$$\n",
    "\n",
    "where $H(S_n)$ be the sum of the $\\pi_k$ values whose $\\theta_k$ lie in $S_n$. These $S_n$ subsets are chosen for convenience, however similar results would hold for _any_ choice of $S_n$. "
   ]
  },
  {
   "cell_type": "markdown",
   "metadata": {},
   "source": [
    "There are several equivalent ways to choose the $\\pi_k$ so that this property is satisfied: the Chinese restaurant process, the stick-breaking process, and the Pólya urn scheme. \n",
    "\n",
    "To generate $\\left\\{\\pi_k\\right\\}$ according to a stick-breaking process we defined $\\beta_k$ to be a sample from $\\text{Beta}(1,\\alpha)$. $\\pi_1$ is defined simple $\\beta_1$. Successive values are defined recursively by\n",
    "\n",
    "$$\\pi_k=\\beta_k \\prod_{j=1}^{k-1}(1-\\beta_j).$$"
   ]
  },
  {
   "cell_type": "markdown",
   "metadata": {},
   "source": [
    "Supposed we want to sample from a Dirichlet process. In theory, we could sample an infinite number of $\\theta_k$ values and generated a corresponding number of $\\pi_k$ weights. Sampling an infinite number of values is easier in theory than in practice.\n",
    "\n",
    "However, by noting that the $\\pi_k$ values are _positive_ values summing to 1, we note that, in expectation, they must get increasingly small as $k\\rightarrow\\infty$. Thus, we can reasonably approximate a sample $H\\sim DP(\\alpha H_0)$ by drawing a $K$ of samples such that $\\sum_{k=1}^K \\pi_k\\approx 1$.\n",
    "\n",
    "Below we draw (approximate) samples from several Dirichlet distribution with a standard normal ($\\mathcal{N}(0,1)$) base distribution but varying $\\alpha$ values. The blue line is the PDF for a standard normal. The black lines represent the $\\theta_k$ and $\\pi_k$ values; $\\theta_k$ is indicated by the position of the black line on the $x$-axis; $\\pi_k$ is proportional to the height of each line. Enough $\\pi_k$ values are generated so their sum is greater than 0.99. When $\\alpha$ is small, very few $\\theta_k$'s will have corresponding $\\pi_k$ values larger than $0.01$. However, as $\\alpha$ grows large, the sample becomes a more accurate (though still discrete) approximation of $\\mathcal{N}(0,1)$."
   ]
  },
  {
   "cell_type": "code",
   "execution_count": 5,
   "metadata": {
    "collapsed": false
   },
   "outputs": [
    {
     "data": {
      "image/png": "[encoded data removed]",
      "text/plain": [
       "<matplotlib.figure.Figure at 0x10b1118d0>"
      ]
     },
     "metadata": {},
     "output_type": "display_data"
    },
    {
     "data": {
      "image/png": "[encoded data removed]",
      "text/plain": [
       "<matplotlib.figure.Figure at 0x10b111950>"
      ]
     },
     "metadata": {},
     "output_type": "display_data"
    },
    {
     "data": {
      "image/png": "[encoded data removed]",
      "text/plain": [
       "<matplotlib.figure.Figure at 0x10b1d0590>"
      ]
     },
     "metadata": {},
     "output_type": "display_data"
    },
    {
     "data": {
      "image/png": "[encoded data removed]",
      "text/plain": [
       "<matplotlib.figure.Figure at 0x10b1c31d0>"
      ]
     },
     "metadata": {},
     "output_type": "display_data"
    }
   ],
   "source": [
    "def dirichlet_sample_approximation(base_measure, alpha, tol=0.01):\n",
    "    betas = []\n",
    "    pis = []\n",
    "    betas.append(beta(1, alpha).rvs())\n",
    "    pis.append(betas[0])\n",
    "    while sum(pis) < (1.-tol):\n",
    "        s = np.sum([np.log(1 - b) for b in betas])\n",
    "        new_beta = beta(1, alpha).rvs() \n",
    "        betas.append(new_beta)\n",
    "        pis.append(new_beta * np.exp(s))\n",
    "    pis = np.array(pis)\n",
    "    thetas = np.array([base_measure() for _ in pis])\n",
    "    return pis, thetas\n",
    "\n",
    "def plot_normal_dp_approximation(alpha):\n",
    "    plt.figure()\n",
    "    plt.title(\"Dirichlet Process Sample with N(0,1) Base Measure\")\n",
    "    plt.suptitle(\"alpha: %s\" % alpha)\n",
    "    pis, thetas = dirichlet_sample_approximation(lambda: norm().rvs(), alpha)\n",
    "    pis = pis * (norm.pdf(0) / pis.max())\n",
    "    plt.vlines(thetas, 0, pis, )\n",
    "    X = np.linspace(-4,4,100)\n",
    "    plt.plot(X, norm.pdf(X))\n",
    "\n",
    "plot_normal_dp_approximation(.1)\n",
    "plot_normal_dp_approximation(1)\n",
    "plot_normal_dp_approximation(10)\n",
    "plot_normal_dp_approximation(1000)"
   ]
  },
  {
   "cell_type": "markdown",
   "metadata": {},
   "source": [
    "Often we want to draw samples from a _distribution sampled from a Dirichlet process_ instead of from the Dirichlet process itself. Much of the literature on the topic unhelpful refers to this as sampling from a Dirichlet process. \n",
    "\n",
    "Fortunately, we don't have to draw an infinite number of samples from the base distribution and stick breaking process to do this. Instead, we can draw these samples _as they are needed_. \n",
    "\n",
    "Suppose, for example, we know a finite number of the $\\theta_k$ and $\\pi_k$ values for a sample $H\\sim \\text{Dir}(\\alpha H_0)$. For example, we know\n",
    "\n",
    "$$\\pi_1=0.5,\\; \\pi_3=0.3,\\; \\theta_1=0.1,\\; \\theta_2=-0.5.$$\n",
    "\n",
    "To sample from $H$, we can generate a uniform random $u$ number between 0 and 1. If $u$ is less than 0.5, our sample is $0.1$. If $0.5<=u<0.8$, our sample is $-0.5$. If $u>=0.8$, our sample (from $H$ will be a new sample $\\theta_3$ from $H_0$. At the same time, we should also sample and store $\\pi_3$. When we draw our next sample, we will again draw $u\\sim\\text{Uniform}(0,1)$ but will compare against $\\pi_1, \\pi_2$, AND $\\pi_3$.\n",
    "\n",
    "The class below will take a base distribution $H_0$ and $\\alpha$ as arguments to its constructor. The class instance can then be called to generate samples from $H\\sim \\text{DP}(\\alpha H_0)$."
   ]
  },
  {
   "cell_type": "code",
   "execution_count": 6,
   "metadata": {
    "collapsed": true
   },
   "outputs": [],
   "source": [
    "class DirichletProcessSample():\n",
    "    def __init__(self, base_measure, alpha):\n",
    "        self.base_measure = base_measure\n",
    "        self.alpha = alpha\n",
    "        \n",
    "        self.cache = []\n",
    "        self.weights = []\n",
    "        self.total_stick_used = 0.\n",
    "\n",
    "    def __call__(self):\n",
    "        remaining = 1.0 - self.total_stick_used\n",
    "        i = DirichletProcessSample.roll_die(self.weights + [remaining])\n",
    "        if i is not None and i < len(self.weights) :\n",
    "            return self.cache[i]\n",
    "        else:\n",
    "            stick_piece = beta(1, self.alpha).rvs() * remaining\n",
    "            self.total_stick_used += stick_piece\n",
    "            self.weights.append(stick_piece)\n",
    "            new_value = self.base_measure()\n",
    "            self.cache.append(new_value)\n",
    "            return new_value\n",
    "        \n",
    "    @staticmethod \n",
    "    def roll_die(weights):\n",
    "        if weights:\n",
    "            return choice(range(len(weights)), p=weights)\n",
    "        else:\n",
    "            return None"
   ]
  },
  {
   "cell_type": "markdown",
   "metadata": {},
   "source": [
    "Below are histograms of 10000 samples drawn from _samples_ drawn from Dirichlet processes with standard normal base distribution and varying $\\alpha$ values. \n",
    "\n",
    "Note that these histograms look very similar to the corresponding plots of sampled distributions above. However, these histograms are plotting _points sampled from a distribution sampled from a Dirichlet process_ while the plots above were showing _distributions smapled from the Dirichlet process_. Of course, as the number of samples from each $H$ grows large, we would expect the histogram to be a very good empirical approximation of $H$."
   ]
  },
  {
   "cell_type": "code",
   "execution_count": 7,
   "metadata": {
    "collapsed": false
   },
   "outputs": [
    {
     "data": {
      "image/png": "[encoded data removed]",
      "text/plain": [
       "<matplotlib.figure.Figure at 0x10b722f90>"
      ]
     },
     "metadata": {},
     "output_type": "display_data"
    }
   ],
   "source": [
    "base_measure = lambda: norm().rvs()\n",
    "n_samples = 10000\n",
    "samples = {}\n",
    "for alpha in [1, 10, 100, 1000]:\n",
    "    dirichlet_norm = DirichletProcessSample(base_measure=base_measure, alpha=alpha)\n",
    "    samples[\"Alpha: %s\" % alpha] = [dirichlet_norm() for _ in range(n_samples)]\n",
    "\n",
    "_ = pd.DataFrame(samples).hist()"
   ]
  },
  {
   "cell_type": "markdown",
   "metadata": {},
   "source": [
    "## Vanilla LDA Generative Model Sampler"
   ]
  },
  {
   "cell_type": "markdown",
   "metadata": {},
   "source": [
    "In _Parameter estimation for text analysis_, Gregor Heinrich provides pseudocode for sampling from a Latent Dirichlet Process using Dirichlet distributions:\n",
    "\n",
    "\n",
    "![](http://i.imgur.com/2l0Klva.png)\n",
    "\n",
    "Implementing this is fairly straight forward:"
   ]
  },
  {
   "cell_type": "code",
   "execution_count": 8,
   "metadata": {
    "collapsed": false
   },
   "outputs": [],
   "source": [
    "num_documents = 5\n",
    "num_topics = 2\n",
    "topic_dirichlet_parameter = 1 # beta\n",
    "term_dirichlet_parameter = 1 # alpha\n",
    "vocabulary = [\"see\", \"spot\", \"run\"]\n",
    "num_terms = len(vocabulary) \n",
    "length_param = 10 # xi\n",
    "\n",
    "term_distribution_by_topic = {} # Phi\n",
    "topic_distribution_by_document = {} # Theta\n",
    "document_length = {}\n",
    "topic_index = defaultdict(list)\n",
    "word_index = defaultdict(list)\n",
    "\n",
    "term_distribution = dirichlet(num_terms * [term_dirichlet_parameter])\n",
    "topic_distribution = dirichlet(num_topics * [topic_dirichlet_parameter])\n",
    "\n",
    "# Topic plate: for each topic...\n",
    "for topic in range(num_topics):\n",
    "    # ...sample a multinomial distribution over the terms.\n",
    "    term_distribution_by_topic[topic] = term_distribution.rvs()[0]\n",
    "\n",
    "# Document plate: for each document...\n",
    "for document in range(num_documents):\n",
    "    # ...sample a multinomial distribution over the topics.\n",
    "    topic_distribution_by_document[document] = topic_distribution.rvs()[0]\n",
    "    topic_distribution_param = topic_distribution_by_document[document]\n",
    "    # ...sample the document length from a poisson distribution.\n",
    "    document_length[document] = poisson(length_param).rvs()\n",
    "    \n",
    "    # Word plate: for each word in the document...\n",
    "    for word in range(document_length[document]):\n",
    "        topics = range(num_topics)\n",
    "        # ...sample the topic generating the word.\n",
    "        topic = choice(topics, p=topic_distribution_param)\n",
    "        topic_index[document].append(topic)\n",
    "        # ...sample the term generated by the topic.\n",
    "        term_distribution_param = term_distribution_by_topic[topic]\n",
    "        word_index[document].append(choice(vocabulary, p=term_distribution_param))"
   ]
  },
  {
   "cell_type": "markdown",
   "metadata": {},
   "source": [
    "Each word in the document was generated by a two-step process:\n",
    "\n",
    "1. We sampled a topic from the topic distribution for the document.\n",
    "2. We sampled a word from the word distribution from the topic. \n",
    "\n",
    "A key, but subtle, observation is that a given term (unique word) could be generated by multiple topics, i.e. there's not a 1-1 correspondance between words and topics. In the same way, there's not a 1-1 correspondance between topics and documents: a given document is a mixture of topics. \n",
    "\n",
    "The table below summarizes the first document by showing how many times each word is generated by each topic."
   ]
  },
  {
   "cell_type": "markdown",
   "metadata": {},
   "source": [
    "Each document $m$ corresponds to a multinomial parameter ($\\overrightarrow\\theta_m$) that describes the mixture of topics in the document.  "
   ]
  },
  {
   "cell_type": "code",
   "execution_count": 9,
   "metadata": {
    "collapsed": false
   },
   "outputs": [
    {
     "name": "stdout",
     "output_type": "stream",
     "text": [
      "             Top 1  Top 2\n",
      "Document 0: [ 0.72  0.28]\n",
      "Document 1: [ 0.6  0.4]\n",
      "Document 2: [ 0.98  0.02]\n",
      "Document 3: [ 1.  0.]\n",
      "Document 4: [ 0.74  0.26]\n"
     ]
    }
   ],
   "source": [
    "print \"             Top 1  Top 2\"\n",
    "for doc, dist in topic_distribution_by_document.iteritems():\n",
    "    print \"Document %s: %s\" % (doc, np.round(dist, 2))"
   ]
  },
  {
   "cell_type": "markdown",
   "metadata": {},
   "source": [
    "Each term $k$ corresponds to a multinomial parameter ($\\overrightarrow\\phi_k$) that describes the mixture of terms in that topic."
   ]
  },
  {
   "cell_type": "code",
   "execution_count": 10,
   "metadata": {
    "collapsed": false
   },
   "outputs": [
    {
     "name": "stdout",
     "output_type": "stream",
     "text": [
      "        ['see', 'spot', 'run']\n",
      "Term 0: [ 0.26  0.32  0.42]\n",
      "Term 1: [ 0.26  0.18  0.55]\n"
     ]
    }
   ],
   "source": [
    "print \"       \", vocabulary\n",
    "for doc, dist in term_distribution_by_topic.iteritems():\n",
    "    print \"Term %s: %s\" % (doc, np.round(dist, 2))"
   ]
  },
  {
   "cell_type": "markdown",
   "metadata": {},
   "source": [
    "__When we fit the LDA model to a given text corpus, our primary objective is to find the set of topic distributions $\\underline \\Theta$ and term distributions $\\underline \\Phi$ that generated the documents.__"
   ]
  },
  {
   "cell_type": "markdown",
   "metadata": {},
   "source": [
    "### Generated Documents"
   ]
  },
  {
   "cell_type": "code",
   "execution_count": 11,
   "metadata": {
    "collapsed": false
   },
   "outputs": [
    {
     "name": "stdout",
     "output_type": "stream",
     "text": [
      "document 0: run run run run see run spot run run see run run\n",
      "document 1: spot see spot see spot run see spot see see\n",
      "document 2: see spot run see run run spot see spot spot run run spot run\n",
      "document 3: spot spot run run run run run run run run run\n",
      "document 4: see run run run run see spot spot see see spot spot run run run\n"
     ]
    }
   ],
   "source": [
    "for doc in range(num_documents):\n",
    "    print 'document %s:' % doc, ' '.join(word_index[doc])    "
   ]
  },
  {
   "cell_type": "markdown",
   "metadata": {},
   "source": [
    "### Word Distribution by Topic for Each Document"
   ]
  },
  {
   "cell_type": "code",
   "execution_count": 12,
   "metadata": {
    "collapsed": false
   },
   "outputs": [
    {
     "name": "stdout",
     "output_type": "stream",
     "text": [
      "Document 0\n",
      "topic  0  1\n",
      "run    7  2\n",
      "see    1  1\n",
      "spot   1  0\n",
      "\n",
      "Document 1\n",
      "topic  0  1\n",
      "run    0  1\n",
      "see    4  1\n",
      "spot   3  1\n",
      "\n",
      "Document 2\n",
      "topic  0\n",
      "run    6\n",
      "spot   5\n",
      "see    3\n",
      "\n",
      "Document 3\n",
      "topic  0\n",
      "run    9\n",
      "spot   2\n",
      "\n",
      "Document 4\n",
      "topic  0  1\n",
      "run    5  2\n",
      "see    4  0\n",
      "spot   4  0\n",
      "\n"
     ]
    }
   ],
   "source": [
    "for document in range(num_documents):\n",
    "    print \"Document %s\" % document\n",
    "    df = pd.DataFrame([topic_index[document], word_index[document]], index=['topic', 'word']).T\n",
    "    print df.groupby('topic')['word'].value_counts().unstack(level=0).fillna(0)\n",
    "    print "
   ]
  },
  {
   "cell_type": "markdown",
   "metadata": {},
   "source": [
    "## LDA: A Dirichlet Process Perspective"
   ]
  },
  {
   "cell_type": "markdown",
   "metadata": {},
   "source": [
    "When we sample the topic index in the Latent Dirichlet Allocation topic, we are using a sample from a Dirichlet distribution ($\\overrightarrow\\theta_m$) as the input to our categorical distribution. In other words, we are effectively sampling from a probability distribution (defined by $\\overrightarrow\\theta_m$) that was sampled from a probability distribution, $\\text{Dir}(\\overrightarrow\\alpha)$. That sounds a lot like a Dirichlet process, and indeed it is.\n",
    "\n",
    "In our earlier algorithm, we generated a topic distribution parameter for each document from a Dirichlet _distribution_. We then used that to sample a topic from each word, and then a term for each of those topic. \n",
    "\n",
    "Now we will draw a _sample_ from a Dirichlet _Process_ for each document. The base distribution for the Dirichlet process is a categorical distribution over term distributions; we can think of the base distribution as an $n$-sided die where $n$ is the number of topics and each side of the die is a distribution over terms for that topic. \n",
    "\n",
    "For each word in the document, we will draw a _sample_ (a term distribution) from the distribution (over term distributions) _sampled_ from the Dirichlet process (with a distribution over term distributions as its base measure). Each term distribution uniquely identifies the topic for the word. We can sample from this term distribution to get the word."
   ]
  },
  {
   "cell_type": "code",
   "execution_count": 13,
   "metadata": {
    "collapsed": true
   },
   "outputs": [],
   "source": [
    "\n",
    "term_distribution = dirichlet(num_terms * [term_dirichlet_parameter])\n",
    "term_distributions = [term_distribution.rvs()[0] for _ in range(num_topics)]\n",
    "term_distribution_rvs = lambda: term_distributions[choice(range(num_topics))]\n",
    "topic_map = {topic: topic_id for topic_id, topic in enumerate(set(map(str, term_distributions)))}\n",
    "\n",
    "topic_index = defaultdict(list)\n",
    "word_index = defaultdict(list)\n",
    "\n",
    "\n",
    "for doc in range(num_documents):\n",
    "    topic_distribution_rvs = DirichletProcessSample(base_measure=term_distribution_rvs, \n",
    "                                                alpha=topic_dirichlet_parameter)\n",
    "    document_length = poisson(length_param).rvs()\n",
    "    for word in range(document_length):\n",
    "        topic_distribution = topic_distribution_rvs()\n",
    "        topic_index[doc].append(topic_map[str(topic_distribution)])\n",
    "        word_index[doc].append(choice(vocabulary, p=topic_distribution))"
   ]
  },
  {
   "cell_type": "markdown",
   "metadata": {},
   "source": [
    "Below we print the generated documents and annotate each word with the topic it was generated from. (We see again that a given word can come from multiple topics.)"
   ]
  },
  {
   "cell_type": "code",
   "execution_count": 14,
   "metadata": {
    "collapsed": false
   },
   "outputs": [
    {
     "name": "stdout",
     "output_type": "stream",
     "text": [
      "document 0: spot-1 spot-1 see-1 spot-1 see-1 run-1 run-1 spot-1 see-1 spot-1 spot-1 spot-1\n",
      "document 1: see-0 see-0 run-0 see-0 spot-1 see-0 see-0 see-0 see-0 run-0 see-0 run-0\n",
      "document 2: run-0 spot-1 spot-1 spot-1 see-0 see-1 spot-1\n",
      "document 3: see-1 see-1 spot-1 spot-1 spot-1 run-1 spot-1 spot-1 see-1 see-1 spot-1\n",
      "document 4: see-0 see-0 see-1 see-0 see-0 spot-1 see-1 see-0 spot-0 spot-1 see-1 spot-0 see-0\n"
     ]
    }
   ],
   "source": [
    "for doc in range(num_documents):\n",
    "    words = [ '-'.join(map(str, x)) for x in zip(word_index[doc], topic_index[doc])]\n",
    "    print 'document %s:' % doc, ' '.join(words)    "
   ]
  },
  {
   "cell_type": "markdown",
   "metadata": {},
   "source": [
    "## HDP-LDA Generative Model Sampler"
   ]
  },
  {
   "cell_type": "markdown",
   "metadata": {},
   "source": [
    "Given this last formulation, we might ask if we can roll an _infinite_ sided die to draw from an unbounded number of topics (term distributions). We can do exactly this with a _Hierarchical_ Dirichlet process. Instead of the base distribution of our Dirichlet process being a _finite_ distribution over topics (term distributions) we will instead make it an infinite Distribution over topics (term distributions) by using yet another Dirichlet process! This base Dirichlet process will have as its base distribution a Dirichlet _distribution_ over terms. \n",
    "\n",
    "We will again draw a _sample_ from a Dirichlet _Process_ for each document. The base distribution for the Dirichlet process is itself a Dirichlet process whose base distribution is a Dirichlet distribution over terms. We can think of this as a countably infinite die each side of the die is a distribution over terms for that topic. The sample we draw is a topic (distribution over terms).\n",
    "\n",
    "For each word in the document, we will draw a _sample_ (a term distribution) from the distribution (over term distributions) _sampled_ from the Dirichlet process (with a distribution over term distributions as its base measure). Each term distribution uniquely identifies the topic for the word. We can sample from this term distribution to get the word."
   ]
  },
  {
   "cell_type": "code",
   "execution_count": 15,
   "metadata": {
    "collapsed": false
   },
   "outputs": [],
   "source": [
    "num_documents = 5\n",
    "topic_dirichlet_parameter = 3 # beta\n",
    "gamma = 1 # gamma\n",
    "alpha0 = 1 # alpha0\n",
    "\n",
    "vocabulary = [\"see\", \"spot\", \"run\"]\n",
    "num_terms = len(vocabulary) \n",
    "length_param = 10 # xi\n",
    "\n",
    "base_distribution = lambda: dirichlet(alpha=num_terms * [gamma]).rvs()[0]\n",
    "term_distribution_rvs = DirichletProcessSample(base_distribution, alpha=alpha0)\n",
    "\n",
    "topic_map = {}\n",
    "\n",
    "topic_index = defaultdict(list)\n",
    "word_index = defaultdict(list)\n",
    "\n",
    "\n",
    "for doc in range(num_documents):\n",
    "    topic_distribution_rvs = DirichletProcessSample(base_measure=term_distribution_rvs, \n",
    "                                                alpha=topic_dirichlet_parameter)\n",
    "    document_length = poisson(length_param).rvs()\n",
    "    for word in range(document_length):\n",
    "        topic_distribution = topic_distribution_rvs()\n",
    "        \n",
    "        if str(topic_distribution) not in topic_map:\n",
    "            topic_map[str(topic_distribution)] = max(topic_map.values() or [-1]) + 1\n",
    "        topic_index[doc].append(topic_map[str(topic_distribution)])\n",
    "        word_index[doc].append(choice(vocabulary, p=topic_distribution))"
   ]
  },
  {
   "cell_type": "markdown",
   "metadata": {},
   "source": [
    "### Generated Documents"
   ]
  },
  {
   "cell_type": "code",
   "execution_count": 16,
   "metadata": {
    "collapsed": false
   },
   "outputs": [
    {
     "name": "stdout",
     "output_type": "stream",
     "text": [
      "document 0: run spot see spot run run see\n",
      "document 1: run see run see run run see see spot spot run see see run run spot\n",
      "document 2: run spot see run run see run see spot see see run\n",
      "document 3: run spot see spot see spot run run spot see see\n",
      "document 4: run see see spot run see run see see run see\n"
     ]
    }
   ],
   "source": [
    "for doc in range(num_documents):\n",
    "    print 'document %s:' % doc, ' '.join(word_index[doc])    "
   ]
  },
  {
   "cell_type": "markdown",
   "metadata": {},
   "source": [
    "### Term Distributions by Topic"
   ]
  },
  {
   "cell_type": "code",
   "execution_count": 17,
   "metadata": {
    "collapsed": false
   },
   "outputs": [
    {
     "name": "stdout",
     "output_type": "stream",
     "text": [
      "          see   spot   run\n",
      "topic 0 [ 0.46  0.28  0.26]\n",
      "topic 1 [ 0.53  0.09  0.37]\n",
      "topic 2 [ 0.34  0.07  0.6 ]\n",
      "topic 3 [ 0.48  0.2   0.32]\n"
     ]
    }
   ],
   "source": [
    "print '         ', '   '.join(vocabulary)\n",
    "for s, d in enumerate(term_distribution_rvs.cache):\n",
    "    print 'topic %s' % s, d"
   ]
  },
  {
   "cell_type": "markdown",
   "metadata": {},
   "source": [
    "### Word Distribution by Topic for Each Document"
   ]
  },
  {
   "cell_type": "code",
   "execution_count": 18,
   "metadata": {
    "collapsed": false
   },
   "outputs": [
    {
     "name": "stdout",
     "output_type": "stream",
     "text": [
      "Document 0\n",
      "topic  0\n",
      "run    3\n",
      "see    2\n",
      "spot   2\n",
      "\n",
      "Document 1\n",
      "topic  0  1  2\n",
      "run    1  5  1\n",
      "see    2  4  0\n",
      "spot   0  3  0\n",
      "\n",
      "Document 2\n",
      "topic  0  3\n",
      "run    4  1\n",
      "see    4  1\n",
      "spot   2  0\n",
      "\n",
      "Document 3\n",
      "topic  0\n",
      "see    4\n",
      "spot   4\n",
      "run    3\n",
      "\n",
      "Document 4\n",
      "topic  0  1\n",
      "run    4  0\n",
      "see    5  1\n",
      "spot   1  0\n",
      "\n"
     ]
    }
   ],
   "source": [
    "for document in range(num_documents):\n",
    "    print \"Document %s\" % document\n",
    "    df = pd.DataFrame([topic_index[document], word_index[document]], index=['topic', 'word']).T\n",
    "    print df.groupby('topic')['word'].value_counts().unstack(level=0).fillna(0)\n",
    "    print "
   ]
  }
 ],
 "metadata": {
  "kernelspec": {
   "display_name": "Python 2",
   "language": "python",
   "name": "python2"
  },
  "language_info": {
   "codemirror_mode": {
    "name": "ipython",
    "version": 2
   },
   "file_extension": ".py",
   "mimetype": "text/x-python",
   "name": "python",
   "nbconvert_exporter": "python",
   "pygments_lexer": "ipython2",
   "version": "2.7.9"
  }
 },
 "nbformat": 4,
 "nbformat_minor": 0
}
