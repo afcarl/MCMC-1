{
 "metadata": {
  "name": "",
  "signature": "sha256:ff1e75c5a5e8c34f0bba65a350602013dd756e614775cdf9fdf6c2c65304ef25"
 },
 "nbformat": 3,
 "nbformat_minor": 0,
 "worksheets": [
  {
   "cells": [
    {
     "cell_type": "code",
     "collapsed": false,
     "input": [
      "import numpy as np\n",
      "import matplotlib.pyplot as plt\n",
      "import pandas as pd\n",
      "\n",
      "from scipy import stats, special\n",
      "from numpy import random\n",
      "from collections import namedtuple, Counter\n",
      "\n",
      "np.set_printoptions(precision=2)"
     ],
     "language": "python",
     "metadata": {},
     "outputs": [],
     "prompt_number": 1
    },
    {
     "cell_type": "code",
     "collapsed": false,
     "input": [
      "SuffStat = namedtuple('SuffStat', 'N mu')\n",
      "\n",
      "def generate(weights, means, var, N):\n",
      "    \"\"\"Generate data from a mixture model with fixed mean variance\n",
      "    \"\"\"\n",
      "    samples = []\n",
      "    components = []\n",
      "    assert(len(weights) == len(means))\n",
      "    assert(sum(weights) == 1)\n",
      "    for i in range(N):\n",
      "        component = random.choice(range(len(means)), p=weights)\n",
      "        samples.append(random.normal(means[component], np.sqrt(var)))\n",
      "        components.append(component)\n",
      "    return np.array(samples), np.array(components)\n",
      "\n",
      "\n",
      "def generate_suffstat(X):\n",
      "    X = np.array(X)\n",
      "    return SuffStat(N=len(X), mu=X.mean())\n",
      "\n",
      "\n",
      "def add_datapoint_to_suffstats(x, ss):\n",
      "    \"\"\"Update sufficient stats for normal component with new datapoint\n",
      "    \"\"\"\n",
      "    N = ss.N + 1\n",
      "    mu = (ss.mu * (N - 1) + x) / N\n",
      "    return SuffStat(N, mu)\n",
      "\n",
      "\n",
      "def remove_datapoint_from_suffstats(x, ss):\n",
      "    \"\"\"Remove datapoint from sufficient stats for normal component\n",
      "    \"\"\"\n",
      "    N = ss.N - 1\n",
      "    mu = (ss.mu * (N + 1) - x * 1.0) / N\n",
      "    return SuffStat(N, mu)\n",
      "\n",
      "\n",
      "def group_data(X, c):\n",
      "    return {cluster: \n",
      "            [x for x, assignment in zip(X, c) \n",
      "             if assignment == cluster] \n",
      "            for cluster in set(c)}\n",
      "\n",
      "\n",
      "def state_score(state):\n",
      "    \"\"\"Totally likelihood of state\n",
      "    \"\"\"\n",
      "    cluster_labels = state['suffstats'].keys()\n",
      "    a = np.array([suffstat_score(cluster, state) \n",
      "                  for cluster in cluster_labels])\n",
      "\n",
      "    b = np.array([cluster_assign_score(cluster, state) \n",
      "                  for cluster in cluster_labels])\n",
      "    return (a + b).sum()\n",
      "\n",
      "\n",
      "def suffstat_score(cluster, state):\n",
      "    \"\"\"p(D) Murphy eq 55\n",
      "    \"\"\"\n",
      "    X = [x for x, cluster2 in zip(state['data'], state['c']) if cluster2 == cluster]\n",
      "    xx = np.square(np.array(X)).sum()\n",
      "    ss = state['suffstats'][cluster]\n",
      "    mu_0, sigmasq_0, param_var = state['mu_0'], state['sigmasq_0'], state['param_var']\n",
      "    sigma = np.sqrt(param_var)\n",
      "    denom = (2 * (ss.N * sigmasq_0 + param_var))\n",
      "    terms = np.array([np.log(sigma),\n",
      "                      -np.log((np.sqrt(2*np.pi)*sigma)**ss.N * np.sqrt(ss.N*sigmasq_0 + param_var)),\n",
      "                      -xx * 1. / (2 * param_var),\n",
      "                      -mu_0**2 * 1. / (2 * sigmasq_0),\n",
      "                      sigmasq_0 * ss.N**2 * ss.mu**2 * 1. / param_var / denom,\n",
      "                      param_var * mu_0**2 * 1. / sigmasq_0 / denom,\n",
      "                      2. * ss.N * ss.mu * mu_0 / denom\n",
      "                      ])\n",
      "    return np.array(terms).sum()\n",
      "    \n",
      "\n",
      "def cluster_assign_score(cluster, state):\n",
      "    \"\"\"From Algorithm 24.1 in Murphy 2012\n",
      "    \n",
      "    What is the probability of the datapoint being in cluster?\n",
      "    \"\"\"\n",
      "    current_cluster_size, num_clusters, alpha = state['suffstats'][cluster].N, state['K'], state['alpha']\n",
      "    return np.log(current_cluster_size - 1 + alpha * 1. / num_clusters)\n",
      "\n",
      "\n",
      "def posterior_predictive_score(x, cluster, state):\n",
      "    \"\"\"From Section 2.3 of http://www.cs.ubc.ca/~murphyk/Papers/bayesGauss.pdf\n",
      "    \"\"\"\n",
      "    ss = state['suffstats'][cluster]\n",
      "    sigmasq_0 = state['sigmasq_0']\n",
      "    mu_0 = state['mu_0']\n",
      "    param_var = state['param_var']\n",
      "    posterior_sigma2 = 1 / (ss.N * 1. / param_var + 1. / sigmasq_0)\n",
      "    predictive_mu = posterior_sigma2 * (mu_0 * 1. / sigmasq_0 + ss.N * ss.mu * 1. / param_var)\n",
      "    predictive_sigma2 = param_var + posterior_sigma2\n",
      "    predictive_sd = np.sqrt(predictive_sigma2)\n",
      "    return stats.norm(predictive_mu, predictive_sd).logpdf(x)\n",
      "\n",
      "\n",
      "def shuffle(state):\n",
      "    z = list(zip(state['data'], state['c']))\n",
      "    random.shuffle(z)\n",
      "    state['data'], state['c'] = map(list, zip(*z))\n",
      "    return state\n",
      "\n",
      "\n",
      "def sample_marginalized_parameters(state):\n",
      "    alpha = state['alpha']\n",
      "    num_clusters = state[\"K\"]\n",
      "    mu_0, sigmasq_0, param_var = state['mu_0'], state['sigmasq_0'], state['param_var']\n",
      "    pi = stats.dirichlet([ss.N + alpha * 1.0 / num_clusters for ss in state[\"suffstats\"].values()]).rvs()[0]\n",
      "    mus = []\n",
      "    for cluster, ss in state[\"suffstats\"].iteritems():\n",
      "        numerator = (mu_0 / sigmasq_0 + \n",
      "                     ss.mu * ss.N / param_var)\n",
      "        denominator = (1.0 / sigmasq_0 + ss.N / param_var)\n",
      "        posterior_mu = numerator / denominator\n",
      "        posterior_sigma2 = 1.0 / (1.0 / sigmasq_0 + ss.N)\n",
      "        mus.append(stats.norm(posterior_mu, np.sqrt(posterior_sigma2)).rvs())\n",
      "    return pi, np.array(mus)"
     ],
     "language": "python",
     "metadata": {},
     "outputs": [],
     "prompt_number": 8
    },
    {
     "cell_type": "code",
     "collapsed": false,
     "input": [
      "def gibbs_step(state, infer_mu0=True):\n",
      "    state = shuffle(state)\n",
      "    K = len(state['suffstats'])\n",
      "    for i, (datapoint, cluster) in enumerate(zip(state['data'], state['c'])):\n",
      "\n",
      "        state['suffstats'][cluster] = remove_datapoint_from_suffstats(datapoint, \n",
      "                                                                      state['suffstats'][cluster])\n",
      "        cluster_labels = state['suffstats'].keys()\n",
      "        t = [posterior_predictive_score(0, cluster, state)\n",
      "                             for cluster in cluster_labels]\n",
      "        predictive_scores = [posterior_predictive_score(datapoint, cluster, state)\n",
      "                             for cluster in cluster_labels]\n",
      "        cluster_scores = [cluster_assign_score(cluster, state)\n",
      "                          for cluster in cluster_labels]\n",
      "        scores = np.array(predictive_scores) + np.array(cluster_scores)\n",
      "        scores = np.exp(scores) / np.exp(scores).sum()\n",
      "        new_cluster = random.choice(cluster_labels, p=scores)\n",
      "        state['c'][i] = new_cluster\n",
      "                \n",
      "        state['suffstats'][new_cluster] = add_datapoint_to_suffstats(datapoint, state['suffstats'][new_cluster])\n",
      "        \n",
      "    if infer_mu0:\n",
      "        current_prior_mu = state['mu_0']\n",
      "        current_score = state_score(state)\n",
      "        state['mu_0'] = current_prior_mu + random.normal(scale=.1)\n",
      "        proposal_score = state_score(state)\n",
      "        diff = min(proposal_score - current_score, 0)\n",
      "        if np.log(stats.uniform(0, 1).rvs()) < diff:\n",
      "            pass\n",
      "        else:\n",
      "            state['mu_0'] = current_prior_mu\n",
      "    return state"
     ],
     "language": "python",
     "metadata": {},
     "outputs": [],
     "prompt_number": 3
    },
    {
     "cell_type": "code",
     "collapsed": false,
     "input": [
      "def initial_state(N=200):\n",
      "    state = {'data' : None, \n",
      "             'c' : None, \n",
      "             'suffstats' : None, \n",
      "             'mu_0' : 0, \n",
      "             'sigmasq_0' : 1, \n",
      "             'param_var' : .3,\n",
      "             'alpha': 1}\n",
      "    ground_truth_weights, ground_truth_means = [.3, .2, .5], [-2, 0, 2]\n",
      "    state[\"K\"] = len(ground_truth_means)\n",
      "    state['data'], ground_truth_c = generate(ground_truth_weights, ground_truth_means, state[\"param_var\"], N)\n",
      "    state['c'] = [random.choice(range(state[\"K\"])) for _ in state['data']]\n",
      "    grouped_data = group_data(state['data'], state['c'])\n",
      "\n",
      "    state['suffstats'] = {cluster: generate_suffstat(X) for cluster, X in grouped_data.iteritems()}\n",
      "    return state, ground_truth_c"
     ],
     "language": "python",
     "metadata": {},
     "outputs": [],
     "prompt_number": 4
    },
    {
     "cell_type": "code",
     "collapsed": false,
     "input": [
      "state, ground_truth_c = initial_state()\n",
      "bins = np.arange(min(state['data'])-1, max(state['data'])+1, .2)\n",
      "_ = plt.hist(group_data(state['data'], ground_truth_c).values(), \n",
      "             bins=bins, \n",
      "             histtype='stepfilled', alpha=.5)\n",
      "\n",
      "{cluster: generate_suffstat(X) for cluster, X in group_data(state['data'], ground_truth_c).iteritems()}"
     ],
     "language": "python",
     "metadata": {},
     "outputs": [
      {
       "metadata": {},
       "output_type": "pyout",
       "prompt_number": 5,
       "text": [
        "{0: SuffStat(N=71, mu=-2.0815084731334736),\n",
        " 1: SuffStat(N=40, mu=0.13758588055873214),\n",
        " 2: SuffStat(N=89, mu=2.1148384610006299)}"
       ]
      },
      {
       "metadata": {},
       "output_type": "display_data",
       "png": "[encoded data removed]",
       "text": [
        "<matplotlib.figure.Figure at 0x10b81e210>"
       ]
      }
     ],
     "prompt_number": 5
    },
    {
     "cell_type": "code",
     "collapsed": false,
     "input": [
      "state, c = initial_state()"
     ],
     "language": "python",
     "metadata": {},
     "outputs": [],
     "prompt_number": 6
    },
    {
     "cell_type": "code",
     "collapsed": false,
     "input": [
      "num_iterations = 250\n",
      "scores = []\n",
      "samples = []\n",
      "state, _ = initial_state()\n",
      "for i in range(num_iterations):\n",
      "    state = gibbs_step(state)\n",
      "    pi, mu = sample_marginalized_parameters(state)\n",
      "    samples.append({\n",
      "        \"mu_0\": state[\"mu_0\"],\n",
      "        \"c\": np.array(state[\"c\"]),\n",
      "        \"mu\": mu,\n",
      "        \"pi\": pi\n",
      "    })\n",
      "    scores.append(state_score(state))"
     ],
     "language": "python",
     "metadata": {},
     "outputs": [],
     "prompt_number": 19
    },
    {
     "cell_type": "heading",
     "level": 3,
     "metadata": {},
     "source": [
      "Model Score"
     ]
    },
    {
     "cell_type": "code",
     "collapsed": false,
     "input": [
      "pd.Series(scores[:100]).plot(title=\"Model score\")"
     ],
     "language": "python",
     "metadata": {},
     "outputs": [
      {
       "metadata": {},
       "output_type": "pyout",
       "prompt_number": 20,
       "text": [
        "<matplotlib.axes._subplots.AxesSubplot at 0x10c5b4310>"
       ]
      },
      {
       "metadata": {},
       "output_type": "display_data",
       "png": "[encoded data removed]",
       "text": [
        "<matplotlib.figure.Figure at 0x10cbac350>"
       ]
      }
     ],
     "prompt_number": 20
    },
    {
     "cell_type": "heading",
     "level": 3,
     "metadata": {},
     "source": [
      "Cluster Means Distributions"
     ]
    },
    {
     "cell_type": "code",
     "collapsed": false,
     "input": [
      "mus = np.array([p[\"mu\"] for p in samples])"
     ],
     "language": "python",
     "metadata": {},
     "outputs": [],
     "prompt_number": 21
    },
    {
     "cell_type": "code",
     "collapsed": false,
     "input": [
      "_ = pd.DataFrame(mus).hist(normed=True, xrot=45, sharey=True, sharex=True)"
     ],
     "language": "python",
     "metadata": {},
     "outputs": [
      {
       "metadata": {},
       "output_type": "display_data",
       "png": "[encoded data removed]",
       "text": [
        "<matplotlib.figure.Figure at 0x10cb46d90>"
       ]
      }
     ],
     "prompt_number": 22
    },
    {
     "cell_type": "heading",
     "level": 3,
     "metadata": {},
     "source": [
      "$\\mu_0$ Distribution"
     ]
    },
    {
     "cell_type": "code",
     "collapsed": false,
     "input": [
      "mu0 = np.array([p[\"mu_0\"] for p in samples])"
     ],
     "language": "python",
     "metadata": {},
     "outputs": [],
     "prompt_number": 23
    },
    {
     "cell_type": "code",
     "collapsed": false,
     "input": [
      "pd.Series(mu0).hist()"
     ],
     "language": "python",
     "metadata": {},
     "outputs": [
      {
       "metadata": {},
       "output_type": "pyout",
       "prompt_number": 24,
       "text": [
        "<matplotlib.axes._subplots.AxesSubplot at 0x10c2b8d10>"
       ]
      },
      {
       "metadata": {},
       "output_type": "display_data",
       "png": "[encoded data removed]",
       "text": [
        "<matplotlib.figure.Figure at 0x10b8c3890>"
       ]
      }
     ],
     "prompt_number": 24
    },
    {
     "cell_type": "heading",
     "level": 3,
     "metadata": {},
     "source": [
      "$\\pi$ Distribution"
     ]
    },
    {
     "cell_type": "code",
     "collapsed": false,
     "input": [
      "pi = np.array([p[\"pi\"] for p in samples])\n",
      "_ = pd.DataFrame(pi).hist(normed=True, xrot=45, sharey=True, sharex=True)"
     ],
     "language": "python",
     "metadata": {},
     "outputs": [
      {
       "metadata": {},
       "output_type": "display_data",
       "png": "[encoded data removed]",
       "text": [
        "<matplotlib.figure.Figure at 0x10c45ff90>"
       ]
      }
     ],
     "prompt_number": 25
    },
    {
     "cell_type": "code",
     "collapsed": false,
     "input": [],
     "language": "python",
     "metadata": {},
     "outputs": []
    }
   ],
   "metadata": {}
  }
 ]
}