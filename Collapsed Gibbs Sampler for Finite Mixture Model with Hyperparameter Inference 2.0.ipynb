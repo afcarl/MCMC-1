{
 "cells": [
  {
   "cell_type": "code",
   "execution_count": 1,
   "metadata": {
    "collapsed": false
   },
   "outputs": [],
   "source": [
    "import numpy as np\n",
    "import matplotlib.pyplot as plt\n",
    "import pandas as pd\n",
    "\n",
    "from scipy import stats, special\n",
    "from numpy import random\n",
    "from collections import namedtuple, Counter\n",
    "\n",
    "np.set_printoptions(precision=2)"
   ]
  },
  {
   "cell_type": "code",
   "execution_count": 2,
   "metadata": {
    "collapsed": false
   },
   "outputs": [],
   "source": [
    "def generate(weights, means, var, N):\n",
    "    \"\"\"Generate data from a mixture model with fixed mean variance\n",
    "    \"\"\"\n",
    "    samples = []\n",
    "    components = []\n",
    "    assert(len(weights) == len(means))\n",
    "    assert(sum(weights) == 1)\n",
    "    for i in range(N):\n",
    "        component = random.choice(range(len(means)), p=weights)\n",
    "        samples.append(random.normal(means[component], np.sqrt(var)))\n",
    "        components.append(component)\n",
    "    return np.array(samples), np.array(components)\n",
    "\n",
    "\n",
    "def group_data(X, c):\n",
    "    return {cluster: \n",
    "            [x for x, assignment in zip(X, c) \n",
    "             if assignment == cluster] \n",
    "            for cluster in set(c)}\n",
    "\n",
    "\n",
    "def shuffle(state):\n",
    "    z = list(zip(state['data'], state['c']))\n",
    "    random.shuffle(z)\n",
    "    state['data'], state['c'] = map(list, zip(*z))\n",
    "    return state\n",
    "\n",
    "\n",
    "def state_score(state):\n",
    "    \"\"\"Total likelihood of state\n",
    "    \"\"\"\n",
    "    cluster_labels = state['suffstats'].keys()\n",
    "    a = np.array([suffstat_score(cluster, state) \n",
    "                  for cluster in cluster_labels])\n",
    "\n",
    "    b = np.array([cluster_assign_score(cluster, state) \n",
    "                  for cluster in cluster_labels])\n",
    "    return (a + b).sum()"
   ]
  },
  {
   "cell_type": "code",
   "execution_count": 3,
   "metadata": {
    "collapsed": false
   },
   "outputs": [],
   "source": [
    "SuffStat = namedtuple('SuffStat', 'N mu')\n",
    "\n",
    "def generate_suffstat(X):\n",
    "    X = np.array(X)\n",
    "    return SuffStat(N=len(X), mu=X.mean())\n",
    "\n",
    "\n",
    "def add_datapoint_to_suffstats(x, ss):\n",
    "    \"\"\"Update sufficient stats for normal component with new datapoint\n",
    "    \"\"\"\n",
    "    N = ss.N + 1\n",
    "    mu = (ss.mu * (N - 1) + x) / N\n",
    "    return SuffStat(N, mu)\n",
    "\n",
    "\n",
    "def remove_datapoint_from_suffstats(x, ss):\n",
    "    \"\"\"Remove datapoint from sufficient stats for normal component\n",
    "    \"\"\"\n",
    "    N = ss.N - 1\n",
    "    mu = (ss.mu * (N + 1) - x * 1.0) / N\n",
    "    return SuffStat(N, mu)\n",
    "\n",
    "\n",
    "def suffstat_score(cluster, state):\n",
    "    \"\"\"p(D) Murphy eq 55\n",
    "    \"\"\"\n",
    "    X = [x for x, cluster2 in zip(state['data'], state['c']) if cluster2 == cluster]\n",
    "    xx = np.square(np.array(X)).sum()\n",
    "    ss = state['suffstats'][cluster]\n",
    "    mu_0, sigmasq_0, param_var = state['mu_0'], state['sigmasq_0'], state['param_var']\n",
    "    sigma = np.sqrt(param_var)\n",
    "    denom = (2 * (ss.N * sigmasq_0 + param_var))\n",
    "    terms = np.array([np.log(sigma),\n",
    "                      -np.log((np.sqrt(2*np.pi)*sigma)**ss.N * np.sqrt(ss.N*sigmasq_0 + param_var)),\n",
    "                      -xx * 1. / (2 * param_var),\n",
    "                      -mu_0**2 * 1. / (2 * sigmasq_0),\n",
    "                      sigmasq_0 * ss.N**2 * ss.mu**2 * 1. / param_var / denom,\n",
    "                      param_var * mu_0**2 * 1. / sigmasq_0 / denom,\n",
    "                      2. * ss.N * ss.mu * mu_0 / denom\n",
    "                      ])\n",
    "    return np.array(terms).sum()\n",
    "    \n",
    "\n",
    "def cluster_assign_score(cluster, state):\n",
    "    \"\"\"From Algorithm 24.1 in Murphy 2012\n",
    "    \n",
    "    What is the probability of the datapoint being in cluster?\n",
    "    \"\"\"\n",
    "    current_cluster_size, num_clusters, alpha = state['suffstats'][cluster].N, state['K'], state['alpha']\n",
    "    return np.log(current_cluster_size - 1 + alpha * 1. / num_clusters)\n",
    "\n",
    "\n",
    "def posterior_predictive_score(x, cluster, state):\n",
    "    \"\"\"From Section 2.3 of http://www.cs.ubc.ca/~murphyk/Papers/bayesGauss.pdf\n",
    "    \"\"\"\n",
    "    ss = state['suffstats'][cluster]\n",
    "    sigmasq_0 = state['sigmasq_0']\n",
    "    mu_0 = state['mu_0']\n",
    "    param_var = state['param_var']\n",
    "    posterior_sigma2 = 1 / (ss.N * 1. / param_var + 1. / sigmasq_0)\n",
    "    predictive_mu = posterior_sigma2 * (mu_0 * 1. / sigmasq_0 + ss.N * ss.mu * 1. / param_var)\n",
    "    predictive_sigma2 = param_var + posterior_sigma2\n",
    "    predictive_sd = np.sqrt(predictive_sigma2)\n",
    "    return stats.norm(predictive_mu, predictive_sd).logpdf(x)\n",
    "\n",
    "\n",
    "def sample_marginalized_parameters(state):\n",
    "    alpha = state['alpha']\n",
    "    num_clusters = state[\"K\"]\n",
    "    mu_0, sigmasq_0, param_var = state['mu_0'], state['sigmasq_0'], state['param_var']\n",
    "    pi = stats.dirichlet([ss.N + alpha * 1.0 / num_clusters for ss in state[\"suffstats\"].values()]).rvs()[0]\n",
    "    mus = []\n",
    "    for cluster, ss in state[\"suffstats\"].iteritems():\n",
    "        numerator = (mu_0 / sigmasq_0 + \n",
    "                     ss.mu * ss.N / param_var)\n",
    "        denominator = (1.0 / sigmasq_0 + ss.N / param_var)\n",
    "        posterior_mu = numerator / denominator\n",
    "        posterior_sigma2 = 1.0 / (1.0 / sigmasq_0 + ss.N)\n",
    "        mus.append(stats.norm(posterior_mu, np.sqrt(posterior_sigma2)).rvs())\n",
    "    return pi, np.array(mus)"
   ]
  },
  {
   "cell_type": "code",
   "execution_count": 4,
   "metadata": {
    "collapsed": false
   },
   "outputs": [],
   "source": [
    "def gibbs_step(state, infer_mu0=True):\n",
    "    state = shuffle(state)\n",
    "    K = len(state['suffstats'])\n",
    "    for i, (datapoint, cluster) in enumerate(zip(state['data'], state['c'])):\n",
    "\n",
    "        state['suffstats'][cluster] = remove_datapoint_from_suffstats(datapoint, \n",
    "                                                                      state['suffstats'][cluster])\n",
    "        cluster_labels = state['suffstats'].keys()\n",
    "        t = [posterior_predictive_score(0, cluster, state)\n",
    "                             for cluster in cluster_labels]\n",
    "        predictive_scores = [posterior_predictive_score(datapoint, cluster, state)\n",
    "                             for cluster in cluster_labels]\n",
    "        cluster_scores = [cluster_assign_score(cluster, state)\n",
    "                          for cluster in cluster_labels]\n",
    "        scores = np.array(predictive_scores) + np.array(cluster_scores)\n",
    "        scores = np.exp(scores) / np.exp(scores).sum()\n",
    "        new_cluster = random.choice(cluster_labels, p=scores)\n",
    "        state['c'][i] = new_cluster\n",
    "                \n",
    "        state['suffstats'][new_cluster] = add_datapoint_to_suffstats(datapoint, state['suffstats'][new_cluster])\n",
    "        \n",
    "    if infer_mu0:\n",
    "        current_prior_mu = state['mu_0']\n",
    "        current_score = state_score(state)\n",
    "        state['mu_0'] = current_prior_mu + random.normal(scale=.1)\n",
    "        proposal_score = state_score(state)\n",
    "        diff = min(proposal_score - current_score, 0)\n",
    "        if np.log(stats.uniform(0, 1).rvs()) < diff:\n",
    "            pass\n",
    "        else:\n",
    "            state['mu_0'] = current_prior_mu\n",
    "    return state"
   ]
  },
  {
   "cell_type": "code",
   "execution_count": 5,
   "metadata": {
    "collapsed": false
   },
   "outputs": [],
   "source": [
    "def initial_state(N=200):\n",
    "    state = {'data' : None, \n",
    "             'c' : None, \n",
    "             'suffstats' : None, \n",
    "             'mu_0' : 0, \n",
    "             'sigmasq_0' : 1, \n",
    "             'param_var' : .3,\n",
    "             'alpha': 1}\n",
    "    ground_truth_weights, ground_truth_means = [.3, .2, .5], [-2, 0, 2]\n",
    "    state[\"K\"] = len(ground_truth_means)\n",
    "    state['data'], ground_truth_c = generate(ground_truth_weights, ground_truth_means, state[\"param_var\"], N)\n",
    "    state['c'] = [random.choice(range(state[\"K\"])) for _ in state['data']]\n",
    "    grouped_data = group_data(state['data'], state['c'])\n",
    "\n",
    "    state['suffstats'] = {cluster: generate_suffstat(X) for cluster, X in grouped_data.iteritems()}\n",
    "    return state, ground_truth_c"
   ]
  },
  {
   "cell_type": "code",
   "execution_count": 6,
   "metadata": {
    "collapsed": false
   },
   "outputs": [
    {
     "data": {
      "text/plain": [
       "{0: SuffStat(N=63, mu=-1.9288726957665485),\n",
       " 1: SuffStat(N=47, mu=0.010342055351286999),\n",
       " 2: SuffStat(N=90, mu=2.0179126512901222)}"
      ]
     },
     "execution_count": 6,
     "metadata": {},
     "output_type": "execute_result"
    },
    {
     "data": {
      "image/png": "[encoded data removed]",
      "text/plain": [
       "<matplotlib.figure.Figure at 0x10b016210>"
      ]
     },
     "metadata": {},
     "output_type": "display_data"
    }
   ],
   "source": [
    "state, ground_truth_c = initial_state()\n",
    "bins = np.arange(min(state['data'])-1, max(state['data'])+1, .2)\n",
    "_ = plt.hist(group_data(state['data'], ground_truth_c).values(), \n",
    "             bins=bins, \n",
    "             histtype='stepfilled', alpha=.5)\n",
    "\n",
    "{cluster: generate_suffstat(X) for cluster, X in group_data(state['data'], ground_truth_c).iteritems()}"
   ]
  },
  {
   "cell_type": "code",
   "execution_count": 7,
   "metadata": {
    "collapsed": false
   },
   "outputs": [],
   "source": [
    "num_iterations = 250\n",
    "scores = []\n",
    "samples = []\n",
    "for i in range(num_iterations):\n",
    "    state = gibbs_step(state)\n",
    "    pi, mu = sample_marginalized_parameters(state)\n",
    "    samples.append({\n",
    "        \"mu_0\": state[\"mu_0\"],\n",
    "        \"c\": np.array(state[\"c\"]),\n",
    "        \"mu\": mu,\n",
    "        \"pi\": pi\n",
    "    })\n",
    "    scores.append(state_score(state))"
   ]
  },
  {
   "cell_type": "markdown",
   "metadata": {},
   "source": [
    "### Model Score"
   ]
  },
  {
   "cell_type": "code",
   "execution_count": 8,
   "metadata": {
    "collapsed": false
   },
   "outputs": [
    {
     "data": {
      "text/plain": [
       "<matplotlib.axes._subplots.AxesSubplot at 0x107fb5890>"
      ]
     },
     "execution_count": 8,
     "metadata": {},
     "output_type": "execute_result"
    },
    {
     "data": {
      "image/png": "[encoded data removed]",
      "text/plain": [
       "<matplotlib.figure.Figure at 0x10b112950>"
      ]
     },
     "metadata": {},
     "output_type": "display_data"
    }
   ],
   "source": [
    "pd.Series(scores[:100]).plot(title=\"Model score\")"
   ]
  },
  {
   "cell_type": "markdown",
   "metadata": {},
   "source": [
    "### Cluster Means Distributions"
   ]
  },
  {
   "cell_type": "code",
   "execution_count": 9,
   "metadata": {
    "collapsed": false
   },
   "outputs": [],
   "source": [
    "mus = np.array([p[\"mu\"] for p in samples])"
   ]
  },
  {
   "cell_type": "code",
   "execution_count": 10,
   "metadata": {
    "collapsed": false
   },
   "outputs": [
    {
     "data": {
      "image/png": "[encoded data removed]",
      "text/plain": [
       "<matplotlib.figure.Figure at 0x10b2a6510>"
      ]
     },
     "metadata": {},
     "output_type": "display_data"
    }
   ],
   "source": [
    "_ = pd.DataFrame(mus).hist(normed=True, xrot=45, sharey=True, sharex=True)"
   ]
  },
  {
   "cell_type": "markdown",
   "metadata": {},
   "source": [
    "### $\\mu_0$ Distribution"
   ]
  },
  {
   "cell_type": "code",
   "execution_count": 11,
   "metadata": {
    "collapsed": false
   },
   "outputs": [],
   "source": [
    "mu0 = np.array([p[\"mu_0\"] for p in samples])"
   ]
  },
  {
   "cell_type": "code",
   "execution_count": 12,
   "metadata": {
    "collapsed": false
   },
   "outputs": [
    {
     "data": {
      "text/plain": [
       "<matplotlib.axes._subplots.AxesSubplot at 0x10b126310>"
      ]
     },
     "execution_count": 12,
     "metadata": {},
     "output_type": "execute_result"
    },
    {
     "data": {
      "image/png": "[encoded data removed]",
      "text/plain": [
       "<matplotlib.figure.Figure at 0x10b2a6810>"
      ]
     },
     "metadata": {},
     "output_type": "display_data"
    }
   ],
   "source": [
    "pd.Series(mu0).hist()"
   ]
  },
  {
   "cell_type": "markdown",
   "metadata": {},
   "source": [
    "### $\\pi$ Distribution"
   ]
  },
  {
   "cell_type": "code",
   "execution_count": 16,
   "metadata": {
    "collapsed": false
   },
   "outputs": [
    {
     "data": {
      "text/html": [
       "<div style=\"max-height:1000px;max-width:1500px;overflow:auto;\">\n",
       "<table border=\"1\" class=\"dataframe\">\n",
       "  <thead>\n",
       "    <tr style=\"text-align: right;\">\n",
       "      <th></th>\n",
       "      <th>0</th>\n",
       "      <th>1</th>\n",
       "      <th>2</th>\n",
       "    </tr>\n",
       "  </thead>\n",
       "  <tbody>\n",
       "    <tr>\n",
       "      <th>count</th>\n",
       "      <td> 250.000000</td>\n",
       "      <td> 250.000000</td>\n",
       "      <td> 250.000000</td>\n",
       "    </tr>\n",
       "    <tr>\n",
       "      <th>mean</th>\n",
       "      <td>   0.214253</td>\n",
       "      <td>   0.458805</td>\n",
       "      <td>   0.326942</td>\n",
       "    </tr>\n",
       "    <tr>\n",
       "      <th>std</th>\n",
       "      <td>   0.033528</td>\n",
       "      <td>   0.037043</td>\n",
       "      <td>   0.035381</td>\n",
       "    </tr>\n",
       "    <tr>\n",
       "      <th>min</th>\n",
       "      <td>   0.088164</td>\n",
       "      <td>   0.338972</td>\n",
       "      <td>   0.224987</td>\n",
       "    </tr>\n",
       "    <tr>\n",
       "      <th>25%</th>\n",
       "      <td>   0.193370</td>\n",
       "      <td>   0.432467</td>\n",
       "      <td>   0.301983</td>\n",
       "    </tr>\n",
       "    <tr>\n",
       "      <th>50%</th>\n",
       "      <td>   0.214224</td>\n",
       "      <td>   0.459338</td>\n",
       "      <td>   0.324142</td>\n",
       "    </tr>\n",
       "    <tr>\n",
       "      <th>75%</th>\n",
       "      <td>   0.236366</td>\n",
       "      <td>   0.480968</td>\n",
       "      <td>   0.347784</td>\n",
       "    </tr>\n",
       "    <tr>\n",
       "      <th>max</th>\n",
       "      <td>   0.323687</td>\n",
       "      <td>   0.584172</td>\n",
       "      <td>   0.432516</td>\n",
       "    </tr>\n",
       "  </tbody>\n",
       "</table>\n",
       "</div>"
      ],
      "text/plain": [
       "                0           1           2\n",
       "count  250.000000  250.000000  250.000000\n",
       "mean     0.214253    0.458805    0.326942\n",
       "std      0.033528    0.037043    0.035381\n",
       "min      0.088164    0.338972    0.224987\n",
       "25%      0.193370    0.432467    0.301983\n",
       "50%      0.214224    0.459338    0.324142\n",
       "75%      0.236366    0.480968    0.347784\n",
       "max      0.323687    0.584172    0.432516"
      ]
     },
     "execution_count": 16,
     "metadata": {},
     "output_type": "execute_result"
    }
   ],
   "source": [
    "pd.DataFrame(pi).describe()"
   ]
  },
  {
   "cell_type": "code",
   "execution_count": 15,
   "metadata": {
    "collapsed": false
   },
   "outputs": [
    {
     "data": {
      "text/plain": [
       "array([ 0.21,  0.46,  0.33])"
      ]
     },
     "execution_count": 15,
     "metadata": {},
     "output_type": "execute_result"
    }
   ],
   "source": [
    "pi.mean(axis=0)"
   ]
  },
  {
   "cell_type": "code",
   "execution_count": 13,
   "metadata": {
    "collapsed": false
   },
   "outputs": [
    {
     "data": {
      "image/png": "[encoded data removed]",
      "text/plain": [
       "<matplotlib.figure.Figure at 0x10b9047d0>"
      ]
     },
     "metadata": {},
     "output_type": "display_data"
    }
   ],
   "source": [
    "pi = np.array([p[\"pi\"] for p in samples])\n",
    "_ = pd.DataFrame(pi).hist(normed=True, xrot=45, sharey=True, sharex=True)"
   ]
  }
 ],
 "metadata": {
  "kernelspec": {
   "display_name": "Python 2",
   "language": "python",
   "name": "python2"
  },
  "language_info": {
   "codemirror_mode": {
    "name": "ipython",
    "version": 2
   },
   "file_extension": ".py",
   "mimetype": "text/x-python",
   "name": "python",
   "nbconvert_exporter": "python",
   "pygments_lexer": "ipython2",
   "version": "2.7.9"
  }
 },
 "nbformat": 4,
 "nbformat_minor": 0
}
