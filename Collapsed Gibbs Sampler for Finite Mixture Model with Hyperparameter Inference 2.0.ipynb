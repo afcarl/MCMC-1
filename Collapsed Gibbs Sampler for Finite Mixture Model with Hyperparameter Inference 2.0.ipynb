{
 "metadata": {
  "name": "",
  "signature": "sha256:e41ffd11fcc86e7c2f327c01bd448703d8a2d9a1d5bba1e8220d423f9dc89b7d"
 },
 "nbformat": 3,
 "nbformat_minor": 0,
 "worksheets": [
  {
   "cells": [
    {
     "cell_type": "code",
     "collapsed": false,
     "input": [
      "import numpy as np\n",
      "import matplotlib.pyplot as plt\n",
      "import pandas as pd\n",
      "\n",
      "from scipy import stats, special\n",
      "from numpy import random\n",
      "from collections import namedtuple, Counter\n",
      "\n",
      "np.set_printoptions(precision=2)"
     ],
     "language": "python",
     "metadata": {},
     "outputs": [],
     "prompt_number": 1
    },
    {
     "cell_type": "code",
     "collapsed": false,
     "input": [
      "def generate(weights, means, var, N):\n",
      "    \"\"\"Generate data from a mixture model with fixed mean variance\n",
      "    \"\"\"\n",
      "    samples = []\n",
      "    components = []\n",
      "    assert(len(weights) == len(means))\n",
      "    assert(sum(weights) == 1)\n",
      "    for i in range(N):\n",
      "        component = random.choice(range(len(means)), p=weights)\n",
      "        samples.append(random.normal(means[component], np.sqrt(var)))\n",
      "        components.append(component)\n",
      "    return np.array(samples), np.array(components)\n",
      "\n",
      "def generate_suffstat(X):\n",
      "    X = np.array(X)\n",
      "    return SuffStat(N=len(X), mu=X.mean())\n",
      "\n",
      "def group_data(X, c):\n",
      "    return {cluster: \n",
      "            [x for x, assignment in zip(X, c) \n",
      "             if assignment == cluster] \n",
      "            for cluster in set(c)}\n",
      "\n",
      "def suffstat_score(ss, hp):\n",
      "    \"\"\"P(D|\u03bc,\u03c3^2) \\prop Norm(ss.mu | mu0, sigmasq0/ss.N)\n",
      "    \"\"\"\n",
      "    mu0, sigmasq0 = hp['mu_0'], hp['sigmasq_0']\n",
      "    sd = np.sqrt(sigmasq0 * 1. / ss.N)\n",
      "    return stats.norm(mu0, sd).logpdf(ss.mu)\n",
      "\n",
      "def cluster_assign_score(current_cluster_size, num_clusters, alpha):\n",
      "    \"\"\"From Algorithm 24.1 in Murphy 2012\n",
      "    \n",
      "    What is the probability of the datapoint being in cluster?\n",
      "    \"\"\"\n",
      "    return np.log(current_cluster_size + alpha * 1.0 / num_clusters)\n",
      "\n",
      "## TODO: Fix below for new data format\n",
      "\n",
      "# def posterior_predictive_score(x_i, suffstat, sigma2, prior_mu, prior_sigma2):\n",
      "#     \"\"\"\n",
      "#     From Section 2.3 of http://www.cs.ubc.ca/~murphyk/Papers/bayesGauss.pdf\n",
      "    \n",
      "#     x_i: New data point\n",
      "#     N: Number of current data points\n",
      "#     mu: Current estimate of mu for component\n",
      "#     sigma2: Known mu for component\n",
      "#     prior_mu: Prior mean for mu (mu ~ Normal(prior_mu, prior_sigma2))\n",
      "#     prior: Prior variance for mu (mu ~ Normal(prior_mu, prior_sigma2))\n",
      "#     \"\"\"\n",
      "    \n",
      "#     posterior_sigma2 = 1 / (suffstat.N * 1.0 / sigma2 + 1.0 / prior_sigma2)\n",
      "#     predictive_mu = posterior_sigma2 * (prior_mu / prior_sigma2 + suffstat.N * suffstat.mu / sigma2)\n",
      "#     predictive_sigma2 = sigma2 + posterior_sigma2\n",
      "#     predictive_sd = np.sqrt(predictive_sigma2)\n",
      "    \n",
      "#     return stats.norm(predictive_mu, predictive_sd).logpdf(x_i)\n",
      "\n",
      "def shuffle(state):\n",
      "    z = list(zip(state['data'], state['c']))\n",
      "    random.shuffle(z)\n",
      "    state['data'], state['c'] = map(list, zip(*z))\n",
      "    return state"
     ],
     "language": "python",
     "metadata": {},
     "outputs": [],
     "prompt_number": 63
    },
    {
     "cell_type": "code",
     "collapsed": false,
     "input": [
      "def gibbs_step(state)\n",
      "    state = shuffle(state)\n",
      "    \n",
      "    for i, (datapoint, cluster) in enumerate(zip(state['data'], state['c'])):\n",
      "\n",
      "        state['suffstats'][cluster] = remove_datapoint_from_suffstats(datapoint, \n",
      "                                                                      state['suffstats'][cluster])\n",
      "        cluster_labels = all_suffstats.keys()\n",
      "        predictive_score = None # TODO\n",
      "        cluster_score = None # TODO\n",
      "        scores = predictive_score + cluster_score\n",
      "        scores = np.exp(scores) / np.exp(scores).sum()\n",
      "        new_cluster = random.choice(cluster_labels, p=scores)\n",
      "        c[i] = new_cluster\n",
      "                \n",
      "        state['suffstats'][new_cluster] = add_datapoint_to_suffstats(datapoint, all_suffstats[new_cluster]\n",
      "    # TODO: Step prior parameter\n",
      "    # TODO: Sample marginalized parameters"
     ],
     "language": "python",
     "metadata": {},
     "outputs": []
    },
    {
     "cell_type": "code",
     "collapsed": false,
     "input": [
      "SuffStat = namedtuple('SuffStat', 'N mu')"
     ],
     "language": "python",
     "metadata": {},
     "outputs": [],
     "prompt_number": 41
    },
    {
     "cell_type": "code",
     "collapsed": false,
     "input": [
      "state = {'data' : None, \n",
      "         'c' : None, \n",
      "         'suffstats' : None, \n",
      "         'mu_0' : 0, \n",
      "         'sigmasq_0' : 1, \n",
      "         'param_var' : .5}"
     ],
     "language": "python",
     "metadata": {},
     "outputs": [],
     "prompt_number": 42
    },
    {
     "cell_type": "code",
     "collapsed": false,
     "input": [
      "ground_truth_weights, ground_truth_means = [.3, .7], [-1, 1]\n",
      "K = len(ground_truth_means)\n",
      "state['data'], ground_truth_c = generate(ground_truth_weights, ground_truth_means, state[\"param_var\"], 100)\n",
      "state['c'] = [random.choice(range(K)) for _ in state['data']]\n",
      "grouped_data = group_data(state['data'], state['c'])\n",
      "state['suffstats'] = {cluster: generate_suffstat(X) for cluster, X in grouped_data.iteritems()}\n",
      "\n",
      "bins = np.arange(min(state['data'])-1, max(state['data'])+1, .2)\n",
      "_ = plt.hist(group_data(state['data'], ground_truth_c).values(), \n",
      "             bins=bins, \n",
      "             histtype='stepfilled', normed=True, alpha=.5)"
     ],
     "language": "python",
     "metadata": {},
     "outputs": [
      {
       "metadata": {},
       "output_type": "display_data",
       "png": "[encoded data removed]",
       "text": [
        "<matplotlib.figure.Figure at 0x10b2b9450>"
       ]
      }
     ],
     "prompt_number": 43
    },
    {
     "cell_type": "code",
     "collapsed": false,
     "input": [
      "state.keys()"
     ],
     "language": "python",
     "metadata": {},
     "outputs": [
      {
       "metadata": {},
       "output_type": "pyout",
       "prompt_number": 52,
       "text": [
        "['c', 'sigmasq_0', 'suffstats', 'mu_0', 'param_var', 'data']"
       ]
      }
     ],
     "prompt_number": 52
    },
    {
     "cell_type": "code",
     "collapsed": false,
     "input": [
      "\n",
      "    \n",
      "[suffstat_score(ss, state) for ss in state['suffstats'].values()]"
     ],
     "language": "python",
     "metadata": {},
     "outputs": [
      {
       "metadata": {},
       "output_type": "pyout",
       "prompt_number": 61,
       "text": [
        "[-4.0206286512946576, -0.173404552366903]"
       ]
      }
     ],
     "prompt_number": 61
    },
    {
     "cell_type": "code",
     "collapsed": false,
     "input": [
      "def total_model_score(state):\n",
      "#     a = np.sum([suffstat_score(ss, sigmasq_0, mu_0, param_var) for ss in state['suffstats']])\n",
      "    #b = np.sum([cluster_size(ss.n, TOTAL_POINT_N, alpha) for ss in state['suffstats'])\n",
      "\n",
      "    return a + b"
     ],
     "language": "python",
     "metadata": {},
     "outputs": []
    }
   ],
   "metadata": {}
  }
 ]
}