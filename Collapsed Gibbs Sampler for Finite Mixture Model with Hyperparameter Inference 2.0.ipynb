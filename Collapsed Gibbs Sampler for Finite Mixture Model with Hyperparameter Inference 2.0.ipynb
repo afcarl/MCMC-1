{
 "metadata": {
  "name": "",
  "signature": "sha256:c5555a1ed7b4d5e1672d1c5c2b2f01c5a9f23a256725bd70225a2995a9014b8e"
 },
 "nbformat": 3,
 "nbformat_minor": 0,
 "worksheets": [
  {
   "cells": [
    {
     "cell_type": "code",
     "collapsed": false,
     "input": [
      "import numpy as np\n",
      "import matplotlib.pyplot as plt\n",
      "import pandas as pd\n",
      "\n",
      "from scipy import stats, special\n",
      "from numpy import random\n",
      "from collections import namedtuple, Counter\n",
      "\n",
      "np.set_printoptions(precision=2)"
     ],
     "language": "python",
     "metadata": {},
     "outputs": [],
     "prompt_number": 80
    },
    {
     "cell_type": "code",
     "collapsed": false,
     "input": [
      "def generate(weights, means, var, N):\n",
      "    \"\"\"Generate data from a mixture model with fixed mean variance\n",
      "    \"\"\"\n",
      "    samples = []\n",
      "    components = []\n",
      "    assert(len(weights) == len(means))\n",
      "    assert(sum(weights) == 1)\n",
      "    for i in range(N):\n",
      "        component = random.choice(range(len(means)), p=weights)\n",
      "        samples.append(random.normal(means[component], np.sqrt(var)))\n",
      "        components.append(component)\n",
      "    return np.array(samples), np.array(components)\n",
      "\n",
      "\n",
      "def generate_suffstat(X):\n",
      "    X = np.array(X)\n",
      "    return SuffStat(N=len(X), mu=X.mean())\n",
      "\n",
      "\n",
      "def add_datapoint_to_suffstats(x, ss):\n",
      "    \"\"\"Update sufficient stats for normal component with new datapoint\n",
      "    \"\"\"\n",
      "    N = ss.N + 1\n",
      "    mu = (ss.mu * (N - 1) + x) / N\n",
      "    return SuffStat(N, mu)\n",
      "\n",
      "\n",
      "def remove_datapoint_from_suffstats(x, ss):\n",
      "    \"\"\"Remove datapoint from sufficient stats for normal component\n",
      "    \"\"\"\n",
      "    N = ss.N - 1\n",
      "    mu = (ss.mu * (N + 1) - x * 1.0) / N\n",
      "    return SuffStat(N, mu)\n",
      "\n",
      "\n",
      "def group_data(X, c):\n",
      "    return {cluster: \n",
      "            [x for x, assignment in zip(X, c) \n",
      "             if assignment == cluster] \n",
      "            for cluster in set(c)}\n",
      "\n",
      "\n",
      "def state_score(state):\n",
      "    \"\"\"Totally likelihood of state\n",
      "    \"\"\"\n",
      "    cluster_labels = state['suffstats'].keys()\n",
      "    a = np.array([suffstat_score(state['suffstats'][cluster], state) \n",
      "                  for cluster in cluster_labels])\n",
      "\n",
      "    b = np.array([cluster_assign_score(state['suffstats'][cluster].N, \n",
      "                                       state[\"K\"], \n",
      "                                       state['alpha']) \n",
      "                  for cluster in cluster_labels])\n",
      "    return (a + b).sum()\n",
      "\n",
      "\n",
      "def suffstat_score(ss, hp):\n",
      "    \"\"\"p(D) Murphy eq 55\n",
      "    \"\"\"\n",
      "    mu_0, sigmasq_0, param_var = hp['mu_0'], hp['sigmasq_0'], hp['param_var']\n",
      "    sigma = np.sqrt(param_var)\n",
      "    terms = np.array([np.log(sigma),\n",
      "                      - np.log((np.sqrt(2*np.pi)*sigma)**ss.N * np.sqrt(ss.N*sigmasq_0 + param_var)),\n",
      "                      -ss.mu * ss.N * 1. / (2 * param_var),\n",
      "                      - mu_0 * 1. / (2 * sigmasq_0),\n",
      "                      sigmasq_0 * ss.N**2 * ss.mu**2 * 1. / param_var,\n",
      "                      param_var * mu_0 * 1. / sigmasq_0,\n",
      "                      2 * ss.N * ss.mu * mu_0,\n",
      "                      -2 * (ss.N * sigmasq_0 + param_var)])\n",
      "    return np.array(terms).sum()\n",
      "    \n",
      "\n",
      "\n",
      "def cluster_assign_score(current_cluster_size, num_clusters, alpha):\n",
      "    \"\"\"From Algorithm 24.1 in Murphy 2012\n",
      "    \n",
      "    What is the probability of the datapoint being in cluster?\n",
      "    \"\"\"\n",
      "    return np.log(current_cluster_size + alpha * 1.0 / num_clusters)\n",
      "\n",
      "\n",
      "def posterior_predictive_score(x, cluster, state):\n",
      "    \"\"\"From Section 2.3 of http://www.cs.ubc.ca/~murphyk/Papers/bayesGauss.pdf\n",
      "    \"\"\"\n",
      "    ss = state['suffstats'][cluster]\n",
      "    sigmasq_0 = state['sigmasq_0']\n",
      "    mu_0 = state['mu_0']\n",
      "    param_var = state['param_var']\n",
      "    posterior_sigma2 = 1 / (ss.N * 1. / param_var + 1. / sigmasq_0)\n",
      "    predictive_mu = posterior_sigma2 * (mu_0 * 1. / sigmasq_0 + ss.N * ss.mu * 1. / param_var)\n",
      "    predictive_sigma2 = param_var + posterior_sigma2\n",
      "    predictive_sd = np.sqrt(predictive_sigma2)\n",
      "    return stats.norm(predictive_mu, predictive_sd).logpdf(x)\n",
      "\n",
      "\n",
      "\n",
      "def shuffle(state):\n",
      "    z = list(zip(state['data'], state['c']))\n",
      "    random.shuffle(z)\n",
      "    state['data'], state['c'] = map(list, zip(*z))\n",
      "    return state"
     ],
     "language": "python",
     "metadata": {},
     "outputs": [],
     "prompt_number": 112
    },
    {
     "cell_type": "code",
     "collapsed": false,
     "input": [
      "def gibbs_step(state):\n",
      "    state = shuffle(state)\n",
      "    K = len(state['suffstats'])\n",
      "    for i, (datapoint, cluster) in enumerate(zip(state['data'], state['c'])):\n",
      "\n",
      "        state['suffstats'][cluster] = remove_datapoint_from_suffstats(datapoint, \n",
      "                                                                      state['suffstats'][cluster])\n",
      "        cluster_labels = state['suffstats'].keys()\n",
      "        t = [posterior_predictive_score(0, cluster, state)\n",
      "                             for cluster in cluster_labels]\n",
      "        predictive_scores = [posterior_predictive_score(datapoint, cluster, state)\n",
      "                             for cluster in cluster_labels]\n",
      "        cluster_scores = [cluster_assign_score(state['suffstats'][cluster].N, K, state['alpha'])\n",
      "                          for cluster in cluster_labels]\n",
      "        scores = np.array(predictive_scores) + np.array(cluster_scores)\n",
      "        scores = np.exp(scores) / np.exp(scores).sum()\n",
      "        new_cluster = random.choice(cluster_labels, p=scores)\n",
      "        state['c'][i] = new_cluster\n",
      "                \n",
      "        state['suffstats'][new_cluster] = add_datapoint_to_suffstats(datapoint, state['suffstats'][new_cluster])\n",
      "        \n",
      "#     # Prior mu MH step\n",
      "#     current_prior_mu = state['mu_0']\n",
      "#     current_score = state_score(state)\n",
      "#     state['mu_0'] = current_prior_mu + random.normal(scale=.1)\n",
      "#     proposal_score = state_score(state)\n",
      "#     diff = min(proposal_score - current_score, 0)\n",
      "#     if np.log(stats.uniform(0, 1).rvs()) < diff:\n",
      "#         pass\n",
      "#     else:\n",
      "#         state['mu_0'] = current_prior_mu\n",
      "    return state"
     ],
     "language": "python",
     "metadata": {},
     "outputs": [],
     "prompt_number": 125
    },
    {
     "cell_type": "code",
     "collapsed": false,
     "input": [
      "SuffStat = namedtuple('SuffStat', 'N mu')"
     ],
     "language": "python",
     "metadata": {},
     "outputs": [],
     "prompt_number": 115
    },
    {
     "cell_type": "code",
     "collapsed": false,
     "input": [
      "def initial_state(N=200):\n",
      "    state = {'data' : None, \n",
      "             'c' : None, \n",
      "             'suffstats' : None, \n",
      "             'mu_0' : 0, \n",
      "             'sigmasq_0' : 1, \n",
      "             'param_var' : .3,\n",
      "             'alpha': 1}\n",
      "    ground_truth_weights, ground_truth_means = [.3, .7], [-1, 1]\n",
      "    state[\"K\"] = len(ground_truth_means)\n",
      "    state['data'], ground_truth_c = generate(ground_truth_weights, ground_truth_means, state[\"param_var\"], N)\n",
      "    state['c'] = [random.choice(range(state[\"K\"])) for _ in state['data']]\n",
      "    grouped_data = group_data(state['data'], state['c'])\n",
      "\n",
      "    state['suffstats'] = {cluster: generate_suffstat(X) for cluster, X in grouped_data.iteritems()}\n",
      "    return state, ground_truth_c"
     ],
     "language": "python",
     "metadata": {},
     "outputs": [],
     "prompt_number": 84
    },
    {
     "cell_type": "code",
     "collapsed": false,
     "input": [
      "state, ground_truth_c = initial_state()\n",
      "bins = np.arange(min(state['data'])-1, max(state['data'])+1, .2)\n",
      "_ = plt.hist(group_data(state['data'], ground_truth_c).values(), \n",
      "             bins=bins, \n",
      "             histtype='stepfilled', alpha=.5)\n",
      "\n",
      "{cluster: generate_suffstat(X) for cluster, X in group_data(state['data'], ground_truth_c).iteritems()}"
     ],
     "language": "python",
     "metadata": {},
     "outputs": [
      {
       "metadata": {},
       "output_type": "pyout",
       "prompt_number": 86,
       "text": [
        "{0: SuffStat(N=51, mu=-0.89069650067866546),\n",
        " 1: SuffStat(N=149, mu=1.0484644112578616)}"
       ]
      },
      {
       "metadata": {},
       "output_type": "display_data",
       "png": "[encoded data removed]",
       "text": [
        "<matplotlib.figure.Figure at 0x10b4f4690>"
       ]
      }
     ],
     "prompt_number": 86
    },
    {
     "cell_type": "code",
     "collapsed": false,
     "input": [
      "state, c = initial_state(N=100)\n",
      "print state_score(state)\n",
      "state['c'] = c\n",
      "grouped_data = group_data(state['data'], state['c'])\n",
      "\n",
      "state['suffstats'] = {cluster: generate_suffstat(X) for cluster, X in grouped_data.iteritems()}\n",
      "print state_score(state)"
     ],
     "language": "python",
     "metadata": {},
     "outputs": [
      {
       "output_type": "stream",
       "stream": "stdout",
       "text": [
        "(array([ 1663.06,  4527.63]), array([ 3.94,  3.9 ]))\n",
        "(array([  1477.57,  22219.83]), array([ 3.28,  4.31]))\n"
       ]
      }
     ],
     "prompt_number": 111
    },
    {
     "cell_type": "code",
     "collapsed": false,
     "input": [
      "\n",
      "num_iterations = 100\n",
      "state, _ = initial_state()\n",
      "for i in range(num_iterations):\n",
      "    \n",
      "#     print state['suffstats']\n",
      "\n",
      "#     print state_score(state)\n",
      "    state = gibbs_step(state)\n",
      "    print state['mu_0']\n",
      "    "
     ],
     "language": "python",
     "metadata": {},
     "outputs": [
      {
       "output_type": "stream",
       "stream": "stdout",
       "text": [
        "0\n",
        "0.0637656925962"
       ]
      },
      {
       "output_type": "stream",
       "stream": "stdout",
       "text": [
        "\n",
        "0.113435354963"
       ]
      },
      {
       "output_type": "stream",
       "stream": "stdout",
       "text": [
        "\n",
        "0.101981672471"
       ]
      },
      {
       "output_type": "stream",
       "stream": "stdout",
       "text": [
        "\n",
        "0.177731942692"
       ]
      },
      {
       "output_type": "stream",
       "stream": "stdout",
       "text": [
        "\n",
        "0.177731942692"
       ]
      },
      {
       "output_type": "stream",
       "stream": "stdout",
       "text": [
        "\n",
        "0.244788509034"
       ]
      },
      {
       "output_type": "stream",
       "stream": "stdout",
       "text": [
        "\n",
        "0.268957628647"
       ]
      },
      {
       "output_type": "stream",
       "stream": "stdout",
       "text": [
        "\n",
        "0.268957628647"
       ]
      },
      {
       "output_type": "stream",
       "stream": "stdout",
       "text": [
        "\n",
        "0.29061052113"
       ]
      },
      {
       "output_type": "stream",
       "stream": "stdout",
       "text": [
        "\n",
        "0.400678982521"
       ]
      },
      {
       "output_type": "stream",
       "stream": "stdout",
       "text": [
        "\n",
        "0.40155854128"
       ]
      },
      {
       "output_type": "stream",
       "stream": "stdout",
       "text": [
        "\n",
        "0.5756534219"
       ]
      },
      {
       "output_type": "stream",
       "stream": "stdout",
       "text": [
        "\n",
        "0.645029332303"
       ]
      },
      {
       "output_type": "stream",
       "stream": "stdout",
       "text": [
        "\n",
        "0.76401687065"
       ]
      },
      {
       "output_type": "stream",
       "stream": "stdout",
       "text": [
        "\n",
        "0.76401687065"
       ]
      },
      {
       "output_type": "stream",
       "stream": "stdout",
       "text": [
        "\n",
        "0.76401687065"
       ]
      },
      {
       "output_type": "stream",
       "stream": "stdout",
       "text": [
        "\n",
        "0.76401687065"
       ]
      },
      {
       "output_type": "stream",
       "stream": "stdout",
       "text": [
        "\n",
        "0.76401687065"
       ]
      },
      {
       "output_type": "stream",
       "stream": "stdout",
       "text": [
        "\n",
        "0.880018112206"
       ]
      },
      {
       "output_type": "stream",
       "stream": "stdout",
       "text": [
        "\n",
        "0.880018112206"
       ]
      },
      {
       "output_type": "stream",
       "stream": "stdout",
       "text": [
        "\n",
        "0.880018112206"
       ]
      },
      {
       "output_type": "stream",
       "stream": "stdout",
       "text": [
        "\n",
        "0.880018112206"
       ]
      },
      {
       "output_type": "stream",
       "stream": "stdout",
       "text": [
        "\n",
        "0.880018112206"
       ]
      },
      {
       "output_type": "stream",
       "stream": "stdout",
       "text": [
        "\n",
        "0.880018112206"
       ]
      },
      {
       "output_type": "stream",
       "stream": "stdout",
       "text": [
        "\n",
        "0.964234882908"
       ]
      },
      {
       "output_type": "stream",
       "stream": "stdout",
       "text": [
        "\n",
        "0.964234882908"
       ]
      },
      {
       "output_type": "stream",
       "stream": "stdout",
       "text": [
        "\n",
        "0.964234882908"
       ]
      },
      {
       "output_type": "stream",
       "stream": "stdout",
       "text": [
        "\n",
        "1.05936528443"
       ]
      },
      {
       "output_type": "stream",
       "stream": "stdout",
       "text": [
        "\n",
        "1.08273989387"
       ]
      },
      {
       "output_type": "stream",
       "stream": "stdout",
       "text": [
        "\n",
        "1.10668612108"
       ]
      },
      {
       "output_type": "stream",
       "stream": "stdout",
       "text": [
        "\n",
        "1.14629957135"
       ]
      },
      {
       "output_type": "stream",
       "stream": "stdout",
       "text": [
        "\n",
        "1.14629957135"
       ]
      },
      {
       "output_type": "stream",
       "stream": "stdout",
       "text": [
        "\n",
        "1.14629957135"
       ]
      },
      {
       "output_type": "stream",
       "stream": "stdout",
       "text": [
        "\n",
        "1.14629957135"
       ]
      },
      {
       "output_type": "stream",
       "stream": "stdout",
       "text": [
        "\n",
        "1.14629957135"
       ]
      },
      {
       "output_type": "stream",
       "stream": "stdout",
       "text": [
        "\n",
        "1.24441921331"
       ]
      },
      {
       "output_type": "stream",
       "stream": "stdout",
       "text": [
        "\n",
        "1.24441921331"
       ]
      },
      {
       "output_type": "stream",
       "stream": "stdout",
       "text": [
        "\n",
        "1.42121292303"
       ]
      },
      {
       "output_type": "stream",
       "stream": "stdout",
       "text": [
        "\n",
        "1.50009622295"
       ]
      },
      {
       "output_type": "stream",
       "stream": "stdout",
       "text": [
        "\n",
        "1.50009622295"
       ]
      },
      {
       "output_type": "stream",
       "stream": "stdout",
       "text": [
        "\n",
        "1.54456463561"
       ]
      },
      {
       "output_type": "stream",
       "stream": "stdout",
       "text": [
        "\n",
        "1.54456463561"
       ]
      },
      {
       "output_type": "stream",
       "stream": "stdout",
       "text": [
        "\n",
        "1.54456463561"
       ]
      },
      {
       "output_type": "stream",
       "stream": "stdout",
       "text": [
        "\n",
        "1.54456463561"
       ]
      },
      {
       "output_type": "stream",
       "stream": "stdout",
       "text": [
        "\n",
        "1.54456463561"
       ]
      },
      {
       "output_type": "stream",
       "stream": "stdout",
       "text": [
        "\n",
        "1.5641342857"
       ]
      },
      {
       "output_type": "stream",
       "stream": "stdout",
       "text": [
        "\n",
        "1.58244627381"
       ]
      },
      {
       "output_type": "stream",
       "stream": "stdout",
       "text": [
        "\n",
        "1.58244627381"
       ]
      },
      {
       "output_type": "stream",
       "stream": "stdout",
       "text": [
        "\n",
        "1.65176234231"
       ]
      },
      {
       "output_type": "stream",
       "stream": "stdout",
       "text": [
        "\n",
        "1.65176234231"
       ]
      },
      {
       "output_type": "stream",
       "stream": "stdout",
       "text": [
        "\n",
        "1.65176234231"
       ]
      },
      {
       "output_type": "stream",
       "stream": "stdout",
       "text": [
        "\n",
        "1.65176234231"
       ]
      },
      {
       "output_type": "stream",
       "stream": "stdout",
       "text": [
        "\n",
        "1.91969927716"
       ]
      },
      {
       "output_type": "stream",
       "stream": "stdout",
       "text": [
        "\n",
        "2.10021593174"
       ]
      },
      {
       "output_type": "stream",
       "stream": "stdout",
       "text": [
        "\n",
        "2.10021593174"
       ]
      },
      {
       "output_type": "stream",
       "stream": "stdout",
       "text": [
        "\n",
        "2.23881230171"
       ]
      },
      {
       "output_type": "stream",
       "stream": "stdout",
       "text": [
        "\n",
        "2.38579502866"
       ]
      },
      {
       "output_type": "stream",
       "stream": "stdout",
       "text": [
        "\n",
        "2.38579502866"
       ]
      },
      {
       "output_type": "stream",
       "stream": "stdout",
       "text": [
        "\n",
        "2.38579502866"
       ]
      },
      {
       "output_type": "stream",
       "stream": "stdout",
       "text": [
        "\n",
        "2.42870216054"
       ]
      },
      {
       "output_type": "stream",
       "stream": "stdout",
       "text": [
        "\n",
        "2.42870216054"
       ]
      },
      {
       "output_type": "stream",
       "stream": "stdout",
       "text": [
        "\n",
        "2.65113302371"
       ]
      },
      {
       "output_type": "stream",
       "stream": "stdout",
       "text": [
        "\n",
        "2.80689482369"
       ]
      },
      {
       "output_type": "stream",
       "stream": "stdout",
       "text": [
        "\n",
        "2.91810623857"
       ]
      },
      {
       "output_type": "stream",
       "stream": "stdout",
       "text": [
        "\n",
        "2.91810623857"
       ]
      },
      {
       "output_type": "stream",
       "stream": "stdout",
       "text": [
        "\n",
        "2.91810623857"
       ]
      },
      {
       "output_type": "stream",
       "stream": "stdout",
       "text": [
        "\n",
        "2.91810623857"
       ]
      },
      {
       "output_type": "stream",
       "stream": "stdout",
       "text": [
        "\n",
        "2.91810623857"
       ]
      },
      {
       "output_type": "stream",
       "stream": "stdout",
       "text": [
        "\n",
        "3.05356195645"
       ]
      },
      {
       "output_type": "stream",
       "stream": "stdout",
       "text": [
        "\n",
        "3.05356195645"
       ]
      },
      {
       "output_type": "stream",
       "stream": "stdout",
       "text": [
        "\n",
        "3.1797702218"
       ]
      },
      {
       "output_type": "stream",
       "stream": "stdout",
       "text": [
        "\n",
        "3.43280444516"
       ]
      },
      {
       "output_type": "stream",
       "stream": "stdout",
       "text": [
        "\n",
        "3.43280444516"
       ]
      },
      {
       "output_type": "stream",
       "stream": "stdout",
       "text": [
        "\n",
        "3.52072959495"
       ]
      },
      {
       "output_type": "stream",
       "stream": "stdout",
       "text": [
        "\n",
        "3.52072959495"
       ]
      },
      {
       "output_type": "stream",
       "stream": "stdout",
       "text": [
        "\n",
        "3.53407812043"
       ]
      },
      {
       "output_type": "stream",
       "stream": "stdout",
       "text": [
        "\n",
        "3.53407812043"
       ]
      },
      {
       "output_type": "stream",
       "stream": "stdout",
       "text": [
        "\n",
        "3.53407812043"
       ]
      },
      {
       "output_type": "stream",
       "stream": "stdout",
       "text": [
        "\n",
        "3.53407812043"
       ]
      },
      {
       "output_type": "stream",
       "stream": "stdout",
       "text": [
        "\n",
        "3.60494327222"
       ]
      },
      {
       "output_type": "stream",
       "stream": "stdout",
       "text": [
        "\n",
        "3.68850883797"
       ]
      },
      {
       "output_type": "stream",
       "stream": "stdout",
       "text": [
        "\n",
        "3.68850883797"
       ]
      },
      {
       "output_type": "stream",
       "stream": "stdout",
       "text": [
        "\n",
        "3.73644381211"
       ]
      },
      {
       "output_type": "stream",
       "stream": "stdout",
       "text": [
        "\n",
        "3.78968021291"
       ]
      },
      {
       "output_type": "stream",
       "stream": "stdout",
       "text": [
        "\n",
        "3.81013173747"
       ]
      },
      {
       "output_type": "stream",
       "stream": "stdout",
       "text": [
        "\n",
        "3.80931830705"
       ]
      },
      {
       "output_type": "stream",
       "stream": "stdout",
       "text": [
        "\n",
        "3.80931830705"
       ]
      },
      {
       "output_type": "stream",
       "stream": "stdout",
       "text": [
        "\n",
        "3.84107132982"
       ]
      },
      {
       "output_type": "stream",
       "stream": "stdout",
       "text": [
        "\n",
        "3.84107132982"
       ]
      },
      {
       "output_type": "stream",
       "stream": "stdout",
       "text": [
        "\n",
        "3.84399640062"
       ]
      },
      {
       "output_type": "stream",
       "stream": "stdout",
       "text": [
        "\n",
        "3.9186641864"
       ]
      },
      {
       "output_type": "stream",
       "stream": "stdout",
       "text": [
        "\n",
        "3.9186641864"
       ]
      },
      {
       "output_type": "stream",
       "stream": "stdout",
       "text": [
        "\n",
        "3.96689211358"
       ]
      },
      {
       "output_type": "stream",
       "stream": "stdout",
       "text": [
        "\n",
        "3.99103788397"
       ]
      },
      {
       "output_type": "stream",
       "stream": "stdout",
       "text": [
        "\n",
        "4.21048347949"
       ]
      },
      {
       "output_type": "stream",
       "stream": "stdout",
       "text": [
        "\n",
        "4.27972716031"
       ]
      },
      {
       "output_type": "stream",
       "stream": "stdout",
       "text": [
        "\n",
        "4.29608753561"
       ]
      },
      {
       "output_type": "stream",
       "stream": "stdout",
       "text": [
        "\n",
        "4.29608753561"
       ]
      },
      {
       "output_type": "stream",
       "stream": "stdout",
       "text": [
        "\n",
        "4.29608753561"
       ]
      },
      {
       "output_type": "stream",
       "stream": "stdout",
       "text": [
        "\n"
       ]
      }
     ],
     "prompt_number": 126
    },
    {
     "cell_type": "code",
     "collapsed": false,
     "input": [],
     "language": "python",
     "metadata": {},
     "outputs": [],
     "prompt_number": 13
    },
    {
     "cell_type": "code",
     "collapsed": false,
     "input": [],
     "language": "python",
     "metadata": {},
     "outputs": []
    }
   ],
   "metadata": {}
  }
 ]
}