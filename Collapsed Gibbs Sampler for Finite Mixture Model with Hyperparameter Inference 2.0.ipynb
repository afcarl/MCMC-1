{
 "metadata": {
  "name": "",
  "signature": "sha256:1499b47af8006b71504e65658bdc7e268b11262238d00a891b9373ee9649850d"
 },
 "nbformat": 3,
 "nbformat_minor": 0,
 "worksheets": [
  {
   "cells": [
    {
     "cell_type": "code",
     "collapsed": false,
     "input": [
      "import numpy as np\n",
      "import matplotlib.pyplot as plt\n",
      "import pandas as pd\n",
      "\n",
      "from scipy import stats, special\n",
      "from numpy import random\n",
      "from collections import namedtuple, Counter\n",
      "\n",
      "np.set_printoptions(precision=2)"
     ],
     "language": "python",
     "metadata": {},
     "outputs": [],
     "prompt_number": 1
    },
    {
     "cell_type": "code",
     "collapsed": false,
     "input": [
      "def generate(weights, means, var, N):\n",
      "    \"\"\"Generate data from a mixture model with fixed mean variance\n",
      "    \"\"\"\n",
      "    samples = []\n",
      "    components = []\n",
      "    assert(len(weights) == len(means))\n",
      "    assert(sum(weights) == 1)\n",
      "    for i in range(N):\n",
      "        component = random.choice(range(len(means)), p=weights)\n",
      "        samples.append(random.normal(means[component], np.sqrt(var)))\n",
      "        components.append(component)\n",
      "    return np.array(samples), np.array(components)\n",
      "\n",
      "\n",
      "def generate_suffstat(X):\n",
      "    X = np.array(X)\n",
      "    return SuffStat(N=len(X), mu=X.mean())\n",
      "\n",
      "\n",
      "def add_datapoint_to_suffstats(x, ss):\n",
      "    \"\"\"Update sufficient stats for normal component with new datapoint\n",
      "    \"\"\"\n",
      "    N = ss.N + 1\n",
      "    mu = (ss.mu * (N - 1) + x) / N\n",
      "    return SuffStat(N, mu)\n",
      "\n",
      "\n",
      "def remove_datapoint_from_suffstats(x, ss):\n",
      "    \"\"\"Remove datapoint from sufficient stats for normal component\n",
      "    \"\"\"\n",
      "    N = ss.N - 1\n",
      "    mu = (ss.mu * (N + 1) - x * 1.0) / N\n",
      "    return SuffStat(N, mu)\n",
      "\n",
      "\n",
      "def group_data(X, c):\n",
      "    return {cluster: \n",
      "            [x for x, assignment in zip(X, c) \n",
      "             if assignment == cluster] \n",
      "            for cluster in set(c)}\n",
      "\n",
      "\n",
      "def suffstat_score(ss, hp):\n",
      "    \"\"\"P(D|\u03bc,\u03c3^2) \\prop Norm(ss.mu | mu0, sigmasq0/ss.N)\n",
      "    \"\"\"\n",
      "    mu0, sigmasq0 = hp['mu_0'], hp['sigmasq_0']\n",
      "    sd = np.sqrt(sigmasq0 * 1. / ss.N)\n",
      "    return stats.norm(mu0, sd).logpdf(ss.mu)\n",
      "\n",
      "\n",
      "def cluster_assign_score(current_cluster_size, num_clusters, alpha):\n",
      "    \"\"\"From Algorithm 24.1 in Murphy 2012\n",
      "    \n",
      "    What is the probability of the datapoint being in cluster?\n",
      "    \"\"\"\n",
      "    return np.log(current_cluster_size + alpha * 1.0 / num_clusters)\n",
      "\n",
      "\n",
      "def posterior_predictive_score(x, cluster, state):\n",
      "    \"\"\"From Section 2.3 of http://www.cs.ubc.ca/~murphyk/Papers/bayesGauss.pdf\n",
      "    \"\"\"\n",
      "    ss = state['suffstats'][cluster]\n",
      "    sigmasq_0 = state['sigmasq_0']\n",
      "    mu_0 = state['mu_0']\n",
      "    param_var = state['param_var']\n",
      "    posterior_sigma2 = 1 / (ss.N * 1. / param_var + 1. / sigmasq_0)\n",
      "    predictive_mu = posterior_sigma2 * (mu_0 * 1. / sigmasq_0 + ss.N * ss.mu * 1. / param_var)\n",
      "    predictive_sigma2 = param_var + posterior_sigma2\n",
      "    predictive_sd = np.sqrt(predictive_sigma2)\n",
      "    return stats.norm(predictive_mu, predictive_sd).logpdf(x)\n",
      "\n",
      "\n",
      "def shuffle(state):\n",
      "    z = list(zip(state['data'], state['c']))\n",
      "    random.shuffle(z)\n",
      "    state['data'], state['c'] = map(list, zip(*z))\n",
      "    return state"
     ],
     "language": "python",
     "metadata": {},
     "outputs": [],
     "prompt_number": 43
    },
    {
     "cell_type": "code",
     "collapsed": false,
     "input": [
      "def gibbs_step(state, alpha=1):\n",
      "    state = shuffle(state)\n",
      "    K = len(state['suffstats'])\n",
      "    for i, (datapoint, cluster) in enumerate(zip(state['data'], state['c'])):\n",
      "\n",
      "        state['suffstats'][cluster] = remove_datapoint_from_suffstats(datapoint, \n",
      "                                                                      state['suffstats'][cluster])\n",
      "        cluster_labels = state['suffstats'].keys()\n",
      "        t = [posterior_predictive_score(0, cluster, state)\n",
      "                             for cluster in cluster_labels]\n",
      "        predictive_scores = [posterior_predictive_score(datapoint, cluster, state)\n",
      "                             for cluster in cluster_labels]\n",
      "        cluster_scores = [cluster_assign_score(state['suffstats'][cluster].N, K, alpha)\n",
      "                          for cluster in cluster_labels]\n",
      "        scores = np.array(predictive_scores) + np.array(cluster_scores)\n",
      "        scores = np.exp(scores) / np.exp(scores).sum()\n",
      "#         print np.round(datapoint, 1), [round(n, 2) for n in np.exp(predictive_scores) / np.exp(predictive_scores).sum()], np.exp(cluster_scores) / np.exp(cluster_scores).sum()\n",
      "        new_cluster = random.choice(cluster_labels, p=scores)\n",
      "        state['c'][i] = new_cluster\n",
      "                \n",
      "        state['suffstats'][new_cluster] = add_datapoint_to_suffstats(datapoint, state['suffstats'][new_cluster])\n",
      "        # TODO: Step prior parameter\n",
      "    return state"
     ],
     "language": "python",
     "metadata": {},
     "outputs": [],
     "prompt_number": 44
    },
    {
     "cell_type": "code",
     "collapsed": false,
     "input": [
      "SuffStat = namedtuple('SuffStat', 'N mu')"
     ],
     "language": "python",
     "metadata": {},
     "outputs": [],
     "prompt_number": 45
    },
    {
     "cell_type": "code",
     "collapsed": false,
     "input": [
      "state = {'data' : None, \n",
      "         'c' : None, \n",
      "         'suffstats' : None, \n",
      "         'mu_0' : 0, \n",
      "         'sigmasq_0' : 1, \n",
      "         'param_var' : .3}"
     ],
     "language": "python",
     "metadata": {},
     "outputs": [],
     "prompt_number": 51
    },
    {
     "cell_type": "code",
     "collapsed": false,
     "input": [
      "N = 200\n",
      "ground_truth_weights, ground_truth_means = [.3, .7], [-1, 1]\n",
      "K = len(ground_truth_means)\n",
      "state['data'], ground_truth_c = generate(ground_truth_weights, ground_truth_means, state[\"param_var\"], N)\n",
      "state['c'] = [random.choice(range(K)) for _ in state['data']]\n",
      "grouped_data = group_data(state['data'], state['c'])\n",
      "state['suffstats'] = {cluster: generate_suffstat(X) for cluster, X in grouped_data.iteritems()}\n",
      "\n",
      "bins = np.arange(min(state['data'])-1, max(state['data'])+1, .2)\n",
      "_ = plt.hist(group_data(state['data'], ground_truth_c).values(), \n",
      "             bins=bins, \n",
      "             histtype='stepfilled', alpha=.5)\n",
      "\n",
      "{cluster: generate_suffstat(X) for cluster, X in group_data(state['data'], ground_truth_c).iteritems()}"
     ],
     "language": "python",
     "metadata": {},
     "outputs": [
      {
       "metadata": {},
       "output_type": "pyout",
       "prompt_number": 52,
       "text": [
        "{0: SuffStat(N=53, mu=-0.99221243121814862),\n",
        " 1: SuffStat(N=147, mu=1.0812223917541306)}"
       ]
      },
      {
       "metadata": {},
       "output_type": "display_data",
       "png": "[encoded data removed]",
       "text": [
        "<matplotlib.figure.Figure at 0x10bd72950>"
       ]
      }
     ],
     "prompt_number": 52
    },
    {
     "cell_type": "code",
     "collapsed": false,
     "input": [
      "num_iterations = 100\n",
      "print state['suffstats']\n",
      "for i in range(num_iterations):\n",
      "    \n",
      "    state = gibbs_step(state)\n",
      "    print state['suffstats']\n"
     ],
     "language": "python",
     "metadata": {},
     "outputs": [
      {
       "output_type": "stream",
       "stream": "stdout",
       "text": [
        "{0: SuffStat(N=97, mu=0.499686296707962), 1: SuffStat(N=103, mu=0.56196953352061174)}\n",
        "{0: SuffStat(N=105, mu=0.0226159384957067), 1: SuffStat(N=95, mu=1.0945027283289068)}"
       ]
      },
      {
       "output_type": "stream",
       "stream": "stdout",
       "text": [
        "\n",
        "{0: SuffStat(N=74, mu=-0.58617115943380083), 1: SuffStat(N=126, mu=1.1883261788206072)}"
       ]
      },
      {
       "output_type": "stream",
       "stream": "stdout",
       "text": [
        "\n",
        "{0: SuffStat(N=57, mu=-0.90390393740176445), 1: SuffStat(N=143, mu=1.1040206794768952)}"
       ]
      },
      {
       "output_type": "stream",
       "stream": "stdout",
       "text": [
        "\n",
        "{0: SuffStat(N=50, mu=-1.0608729470823099), 1: SuffStat(N=150, mu=1.0626405339160729)}"
       ]
      },
      {
       "output_type": "stream",
       "stream": "stdout",
       "text": [
        "\n",
        "{0: SuffStat(N=45, mu=-1.1686125287297922), 1: SuffStat(N=155, mu=1.0254193324266836)}"
       ]
      },
      {
       "output_type": "stream",
       "stream": "stdout",
       "text": [
        "\n",
        "{0: SuffStat(N=48, mu=-1.0895427634182699), 1: SuffStat(N=152, mu=1.043753193272184)}"
       ]
      },
      {
       "output_type": "stream",
       "stream": "stdout",
       "text": [
        "\n",
        "{0: SuffStat(N=49, mu=-1.0781926499347763), 1: SuffStat(N=151, mu=1.0541978316562839)}"
       ]
      },
      {
       "output_type": "stream",
       "stream": "stdout",
       "text": [
        "\n",
        "{0: SuffStat(N=47, mu=-1.1282768466031974), 1: SuffStat(N=153, mu=1.0417087877362412)}"
       ]
      },
      {
       "output_type": "stream",
       "stream": "stdout",
       "text": [
        "\n",
        "{0: SuffStat(N=52, mu=-1.0197110097816524), 1: SuffStat(N=148, mu=1.076874359742843)}"
       ]
      },
      {
       "output_type": "stream",
       "stream": "stdout",
       "text": [
        "\n",
        "{0: SuffStat(N=50, mu=-1.0688633838323343), 1: SuffStat(N=150, mu=1.0653040128327431)}"
       ]
      },
      {
       "output_type": "stream",
       "stream": "stdout",
       "text": [
        "\n",
        "{0: SuffStat(N=46, mu=-1.1431232686120238), 1: SuffStat(N=154, mu=1.0320526174639477)}"
       ]
      },
      {
       "output_type": "stream",
       "stream": "stdout",
       "text": [
        "\n",
        "{0: SuffStat(N=49, mu=-1.0764576276363207), 1: SuffStat(N=151, mu=1.0536348111753278)}"
       ]
      },
      {
       "output_type": "stream",
       "stream": "stdout",
       "text": [
        "\n",
        "{0: SuffStat(N=48, mu=-1.1080891303761324), 1: SuffStat(N=152, mu=1.0496099407325579)}"
       ]
      },
      {
       "output_type": "stream",
       "stream": "stdout",
       "text": [
        "\n",
        "{0: SuffStat(N=47, mu=-1.1317191222622409), 1: SuffStat(N=153, mu=1.0427662188210436)}"
       ]
      },
      {
       "output_type": "stream",
       "stream": "stdout",
       "text": [
        "\n",
        "{0: SuffStat(N=53, mu=-1.0042473799877629), 1: SuffStat(N=147, mu=1.0855615229431677)}"
       ]
      },
      {
       "output_type": "stream",
       "stream": "stdout",
       "text": [
        "\n",
        "{0: SuffStat(N=48, mu=-1.1076216584117076), 1: SuffStat(N=152, mu=1.049462318006948)}"
       ]
      },
      {
       "output_type": "stream",
       "stream": "stdout",
       "text": [
        "\n",
        "{0: SuffStat(N=49, mu=-1.0780515842949501), 1: SuffStat(N=151, mu=1.054152055389052)}"
       ]
      },
      {
       "output_type": "stream",
       "stream": "stdout",
       "text": [
        "\n",
        "{0: SuffStat(N=52, mu=-1.0152229402583026), 1: SuffStat(N=148, mu=1.0752974704508516)}"
       ]
      },
      {
       "output_type": "stream",
       "stream": "stdout",
       "text": [
        "\n",
        "{0: SuffStat(N=52, mu=-1.0259852825555433), 1: SuffStat(N=148, mu=1.0790788339606927)}"
       ]
      },
      {
       "output_type": "stream",
       "stream": "stdout",
       "text": [
        "\n",
        "{0: SuffStat(N=47, mu=-1.0783788942379013), 1: SuffStat(N=153, mu=1.0263806585782749)}"
       ]
      },
      {
       "output_type": "stream",
       "stream": "stdout",
       "text": [
        "\n",
        "{0: SuffStat(N=49, mu=-1.0802818162847161), 1: SuffStat(N=151, mu=1.0548757730546081)}"
       ]
      },
      {
       "output_type": "stream",
       "stream": "stdout",
       "text": [
        "\n",
        "{0: SuffStat(N=46, mu=-1.1261124334031927), 1: SuffStat(N=154, mu=1.0269714588950762)}"
       ]
      },
      {
       "output_type": "stream",
       "stream": "stdout",
       "text": [
        "\n",
        "{0: SuffStat(N=54, mu=-1.0032824383664032), 1: SuffStat(N=146, mu=1.0995183863361693)}"
       ]
      },
      {
       "output_type": "stream",
       "stream": "stdout",
       "text": [
        "\n",
        "{0: SuffStat(N=49, mu=-1.0780592894473511), 1: SuffStat(N=151, mu=1.0541545557365239)}"
       ]
      },
      {
       "output_type": "stream",
       "stream": "stdout",
       "text": [
        "\n",
        "{0: SuffStat(N=53, mu=-1.0168049350237549), 1: SuffStat(N=147, mu=1.090089076799686)}"
       ]
      },
      {
       "output_type": "stream",
       "stream": "stdout",
       "text": [
        "\n",
        "{0: SuffStat(N=48, mu=-1.1089051426850405), 1: SuffStat(N=152, mu=1.0498676288301092)}"
       ]
      },
      {
       "output_type": "stream",
       "stream": "stdout",
       "text": [
        "\n",
        "{0: SuffStat(N=52, mu=-1.0275685624055404), 1: SuffStat(N=148, mu=1.0796351214755588)}"
       ]
      },
      {
       "output_type": "stream",
       "stream": "stdout",
       "text": [
        "\n",
        "{0: SuffStat(N=50, mu=-1.0740168275536757), 1: SuffStat(N=150, mu=1.0670218274065224)}"
       ]
      },
      {
       "output_type": "stream",
       "stream": "stdout",
       "text": [
        "\n",
        "{0: SuffStat(N=48, mu=-1.1109078609119665), 1: SuffStat(N=152, mu=1.0505000661649264)}"
       ]
      },
      {
       "output_type": "stream",
       "stream": "stdout",
       "text": [
        "\n",
        "{0: SuffStat(N=46, mu=-1.1348718182230826), 1: SuffStat(N=154, mu=1.0295878985165985)}"
       ]
      },
      {
       "output_type": "stream",
       "stream": "stdout",
       "text": [
        "\n",
        "{0: SuffStat(N=46, mu=-1.137100959791812), 1: SuffStat(N=154, mu=1.0302537459981653)}"
       ]
      },
      {
       "output_type": "stream",
       "stream": "stdout",
       "text": [
        "\n",
        "{0: SuffStat(N=46, mu=-1.1506532977679917), 1: SuffStat(N=154, mu=1.0343018469520875)}"
       ]
      },
      {
       "output_type": "stream",
       "stream": "stdout",
       "text": [
        "\n",
        "{0: SuffStat(N=49, mu=-1.0671259964231445), 1: SuffStat(N=151, mu=1.0506066659472066)}"
       ]
      },
      {
       "output_type": "stream",
       "stream": "stdout",
       "text": [
        "\n",
        "{0: SuffStat(N=50, mu=-1.0542552307517896), 1: SuffStat(N=150, mu=1.0604346284725565)}"
       ]
      },
      {
       "output_type": "stream",
       "stream": "stdout",
       "text": [
        "\n",
        "{0: SuffStat(N=50, mu=-1.0448315333651614), 1: SuffStat(N=150, mu=1.0572933960103472)}"
       ]
      },
      {
       "output_type": "stream",
       "stream": "stdout",
       "text": [
        "\n",
        "{0: SuffStat(N=47, mu=-1.1089431170567334), 1: SuffStat(N=153, mu=1.0357696682023558)}"
       ]
      },
      {
       "output_type": "stream",
       "stream": "stdout",
       "text": [
        "\n",
        "{0: SuffStat(N=50, mu=-1.0639761660537446), 1: SuffStat(N=150, mu=1.0636749402398751)}"
       ]
      },
      {
       "output_type": "stream",
       "stream": "stdout",
       "text": [
        "\n",
        "{0: SuffStat(N=45, mu=-1.1659656017605284), 1: SuffStat(N=155, mu=1.0246508697581787)}"
       ]
      },
      {
       "output_type": "stream",
       "stream": "stdout",
       "text": [
        "\n",
        "{0: SuffStat(N=48, mu=-1.1018188025211832), 1: SuffStat(N=152, mu=1.0476298371994135)}"
       ]
      },
      {
       "output_type": "stream",
       "stream": "stdout",
       "text": [
        "\n",
        "{0: SuffStat(N=48, mu=-1.0971031636775741), 1: SuffStat(N=152, mu=1.0461406880909061)}"
       ]
      },
      {
       "output_type": "stream",
       "stream": "stdout",
       "text": [
        "\n",
        "{0: SuffStat(N=49, mu=-1.0624316457302916), 1: SuffStat(N=151, mu=1.0490833336031666)}"
       ]
      },
      {
       "output_type": "stream",
       "stream": "stdout",
       "text": [
        "\n",
        "{0: SuffStat(N=49, mu=-1.0881364106866871), 1: SuffStat(N=151, mu=1.0574246149466313)}"
       ]
      },
      {
       "output_type": "stream",
       "stream": "stdout",
       "text": [
        "\n",
        "{0: SuffStat(N=50, mu=-1.0670921286746822), 1: SuffStat(N=150, mu=1.0647135944468509)}"
       ]
      },
      {
       "output_type": "stream",
       "stream": "stdout",
       "text": [
        "\n",
        "{0: SuffStat(N=54, mu=-1.0021702036709417), 1: SuffStat(N=146, mu=1.0991070118597557)}"
       ]
      },
      {
       "output_type": "stream",
       "stream": "stdout",
       "text": [
        "\n",
        "{0: SuffStat(N=49, mu=-1.0802351264576242), 1: SuffStat(N=151, mu=1.0548606220511054)}"
       ]
      },
      {
       "output_type": "stream",
       "stream": "stdout",
       "text": [
        "\n",
        "{0: SuffStat(N=50, mu=-1.05788480630929), 1: SuffStat(N=150, mu=1.0616444869917174)}"
       ]
      },
      {
       "output_type": "stream",
       "stream": "stdout",
       "text": [
        "\n",
        "{0: SuffStat(N=50, mu=-1.0621747500889338), 1: SuffStat(N=150, mu=1.0630744682516002)}"
       ]
      },
      {
       "output_type": "stream",
       "stream": "stdout",
       "text": [
        "\n",
        "{0: SuffStat(N=50, mu=-1.0522060740950325), 1: SuffStat(N=150, mu=1.0597515762536329)}"
       ]
      },
      {
       "output_type": "stream",
       "stream": "stdout",
       "text": [
        "\n",
        "{0: SuffStat(N=52, mu=-1.0088977682950786), 1: SuffStat(N=148, mu=1.0730751127340348)}"
       ]
      },
      {
       "output_type": "stream",
       "stream": "stdout",
       "text": [
        "\n",
        "{0: SuffStat(N=51, mu=-1.0633298219777296), 1: SuffStat(N=149, mu=1.0777332460010547)}"
       ]
      },
      {
       "output_type": "stream",
       "stream": "stdout",
       "text": [
        "\n",
        "{0: SuffStat(N=48, mu=-1.0886407828224318), 1: SuffStat(N=152, mu=1.043468357294536)}"
       ]
      },
      {
       "output_type": "stream",
       "stream": "stdout",
       "text": [
        "\n",
        "{0: SuffStat(N=52, mu=-1.0369848176582361), 1: SuffStat(N=148, mu=1.0829435354832495)}"
       ]
      },
      {
       "output_type": "stream",
       "stream": "stdout",
       "text": [
        "\n",
        "{0: SuffStat(N=51, mu=-1.0374138991380599), 1: SuffStat(N=149, mu=1.0688626952304272)}"
       ]
      },
      {
       "output_type": "stream",
       "stream": "stdout",
       "text": [
        "\n",
        "{0: SuffStat(N=52, mu=-1.0282772228918207), 1: SuffStat(N=148, mu=1.07988411029505)}"
       ]
      },
      {
       "output_type": "stream",
       "stream": "stdout",
       "text": [
        "\n",
        "{0: SuffStat(N=53, mu=-1.0152474140170602), 1: SuffStat(N=147, mu=1.0895275216067832)}"
       ]
      },
      {
       "output_type": "stream",
       "stream": "stdout",
       "text": [
        "\n",
        "{0: SuffStat(N=52, mu=-1.0135356931483286), 1: SuffStat(N=148, mu=1.074704653898692)}"
       ]
      },
      {
       "output_type": "stream",
       "stream": "stdout",
       "text": [
        "\n",
        "{0: SuffStat(N=54, mu=-0.9902379283261683), 1: SuffStat(N=146, mu=1.0946937045404528)}"
       ]
      },
      {
       "output_type": "stream",
       "stream": "stdout",
       "text": [
        "\n",
        "{0: SuffStat(N=49, mu=-1.0894727854588611), 1: SuffStat(N=151, mu=1.0578582729852781)}"
       ]
      },
      {
       "output_type": "stream",
       "stream": "stdout",
       "text": [
        "\n",
        "{0: SuffStat(N=48, mu=-1.1105738260022597), 1: SuffStat(N=152, mu=1.0503945814565869)}"
       ]
      },
      {
       "output_type": "stream",
       "stream": "stdout",
       "text": [
        "\n",
        "{0: SuffStat(N=50, mu=-1.0656439385846672), 1: SuffStat(N=150, mu=1.0642308644168395)}"
       ]
      },
      {
       "output_type": "stream",
       "stream": "stdout",
       "text": [
        "\n",
        "{0: SuffStat(N=53, mu=-1.0103217668982853), 1: SuffStat(N=147, mu=1.0877516080197398)}"
       ]
      },
      {
       "output_type": "stream",
       "stream": "stdout",
       "text": [
        "\n",
        "{0: SuffStat(N=50, mu=-1.0590401112763086), 1: SuffStat(N=150, mu=1.0620295886473878)}"
       ]
      },
      {
       "output_type": "stream",
       "stream": "stdout",
       "text": [
        "\n",
        "{0: SuffStat(N=51, mu=-1.0317023373442089), 1: SuffStat(N=149, mu=1.0669077311264901)}"
       ]
      },
      {
       "output_type": "stream",
       "stream": "stdout",
       "text": [
        "\n",
        "{0: SuffStat(N=54, mu=-0.97640790526648846), 1: SuffStat(N=146, mu=1.089578490532074)}"
       ]
      },
      {
       "output_type": "stream",
       "stream": "stdout",
       "text": [
        "\n",
        "{0: SuffStat(N=50, mu=-1.0592380731896398), 1: SuffStat(N=150, mu=1.0620955759518276)}"
       ]
      },
      {
       "output_type": "stream",
       "stream": "stdout",
       "text": [
        "\n",
        "{0: SuffStat(N=48, mu=-1.1074075017874911), 1: SuffStat(N=152, mu=1.0493946895992876)}"
       ]
      },
      {
       "output_type": "stream",
       "stream": "stdout",
       "text": [
        "\n",
        "{0: SuffStat(N=48, mu=-1.1093725760825977), 1: SuffStat(N=152, mu=1.0500152393766893)}"
       ]
      },
      {
       "output_type": "stream",
       "stream": "stdout",
       "text": [
        "\n",
        "{0: SuffStat(N=47, mu=-1.1190083408784508), 1: SuffStat(N=153, mu=1.0388615997031305)}"
       ]
      },
      {
       "output_type": "stream",
       "stream": "stdout",
       "text": [
        "\n",
        "{0: SuffStat(N=50, mu=-1.0408361837138596), 1: SuffStat(N=150, mu=1.055961612793231)}"
       ]
      },
      {
       "output_type": "stream",
       "stream": "stdout",
       "text": [
        "\n",
        "{0: SuffStat(N=48, mu=-1.0961729105128952), 1: SuffStat(N=152, mu=1.0458469239336221)}"
       ]
      },
      {
       "output_type": "stream",
       "stream": "stdout",
       "text": [
        "\n",
        "{0: SuffStat(N=49, mu=-1.0815666837382942), 1: SuffStat(N=151, mu=1.055292716797801)}"
       ]
      },
      {
       "output_type": "stream",
       "stream": "stdout",
       "text": [
        "\n",
        "{0: SuffStat(N=51, mu=-1.0395178963927134), 1: SuffStat(N=149, mu=1.0695828553645614)}"
       ]
      },
      {
       "output_type": "stream",
       "stream": "stdout",
       "text": [
        "\n",
        "{0: SuffStat(N=51, mu=-1.0544075393345034), 1: SuffStat(N=149, mu=1.0746793103312133)}"
       ]
      },
      {
       "output_type": "stream",
       "stream": "stdout",
       "text": [
        "\n",
        "{0: SuffStat(N=45, mu=-1.1538998619368213), 1: SuffStat(N=155, mu=1.0211479130351491)}"
       ]
      },
      {
       "output_type": "stream",
       "stream": "stdout",
       "text": [
        "\n",
        "{0: SuffStat(N=47, mu=-1.1064852605220634), 1: SuffStat(N=153, mu=1.0350146403779621)}"
       ]
      },
      {
       "output_type": "stream",
       "stream": "stdout",
       "text": [
        "\n",
        "{0: SuffStat(N=49, mu=-1.0776823693916069), 1: SuffStat(N=151, mu=1.0540322439303313)}"
       ]
      },
      {
       "output_type": "stream",
       "stream": "stdout",
       "text": [
        "\n",
        "{0: SuffStat(N=51, mu=-1.0326167855496058), 1: SuffStat(N=149, mu=1.0672207301766501)}"
       ]
      },
      {
       "output_type": "stream",
       "stream": "stdout",
       "text": [
        "\n",
        "{0: SuffStat(N=49, mu=-1.0906010905405978), 1: SuffStat(N=151, mu=1.0582244117203981)}"
       ]
      },
      {
       "output_type": "stream",
       "stream": "stdout",
       "text": [
        "\n",
        "{0: SuffStat(N=50, mu=-1.0744958554259809), 1: SuffStat(N=150, mu=1.0671815033639334)}"
       ]
      },
      {
       "output_type": "stream",
       "stream": "stdout",
       "text": [
        "\n",
        "{0: SuffStat(N=50, mu=-1.0607365779025615), 1: SuffStat(N=150, mu=1.0625950775227917)}"
       ]
      },
      {
       "output_type": "stream",
       "stream": "stdout",
       "text": [
        "\n",
        "{0: SuffStat(N=47, mu=-1.1181701177359304), 1: SuffStat(N=153, mu=1.0386041063194729)}"
       ]
      },
      {
       "output_type": "stream",
       "stream": "stdout",
       "text": [
        "\n",
        "{0: SuffStat(N=47, mu=-1.1299764047908056), 1: SuffStat(N=153, mu=1.04223087423829)}"
       ]
      },
      {
       "output_type": "stream",
       "stream": "stdout",
       "text": [
        "\n",
        "{0: SuffStat(N=51, mu=-1.0606409833483903), 1: SuffStat(N=149, mu=1.0768129052621351)}"
       ]
      },
      {
       "output_type": "stream",
       "stream": "stdout",
       "text": [
        "\n",
        "{0: SuffStat(N=53, mu=-1.0115490680381751), 1: SuffStat(N=147, mu=1.0881941043490719)}"
       ]
      },
      {
       "output_type": "stream",
       "stream": "stdout",
       "text": [
        "\n",
        "{0: SuffStat(N=47, mu=-1.1225732827627788), 1: SuffStat(N=153, mu=1.0399567125695495)}"
       ]
      },
      {
       "output_type": "stream",
       "stream": "stdout",
       "text": [
        "\n",
        "{0: SuffStat(N=49, mu=-1.0886360447404102), 1: SuffStat(N=151, mu=1.0575867478514596)}"
       ]
      },
      {
       "output_type": "stream",
       "stream": "stdout",
       "text": [
        "\n",
        "{0: SuffStat(N=50, mu=-1.0687431511156236), 1: SuffStat(N=150, mu=1.0652639352604778)}"
       ]
      },
      {
       "output_type": "stream",
       "stream": "stdout",
       "text": [
        "\n",
        "{0: SuffStat(N=47, mu=-1.1269556886019956), 1: SuffStat(N=153, mu=1.041302941814277)}"
       ]
      },
      {
       "output_type": "stream",
       "stream": "stdout",
       "text": [
        "\n",
        "{0: SuffStat(N=45, mu=-1.1371765265943872), 1: SuffStat(N=155, mu=1.0162927511615356)}"
       ]
      },
      {
       "output_type": "stream",
       "stream": "stdout",
       "text": [
        "\n",
        "{0: SuffStat(N=53, mu=-1.0254606186548503), 1: SuffStat(N=147, mu=1.0932098334829783)}"
       ]
      },
      {
       "output_type": "stream",
       "stream": "stdout",
       "text": [
        "\n",
        "{0: SuffStat(N=52, mu=-1.0219909421510232), 1: SuffStat(N=148, mu=1.0776754170617837)}"
       ]
      },
      {
       "output_type": "stream",
       "stream": "stdout",
       "text": [
        "\n",
        "{0: SuffStat(N=51, mu=-1.0606409833483865), 1: SuffStat(N=149, mu=1.0768129052621385)}"
       ]
      },
      {
       "output_type": "stream",
       "stream": "stdout",
       "text": [
        "\n",
        "{0: SuffStat(N=54, mu=-0.97199267866157468), 1: SuffStat(N=146, mu=1.0879454615138073)}"
       ]
      },
      {
       "output_type": "stream",
       "stream": "stdout",
       "text": [
        "\n",
        "{0: SuffStat(N=51, mu=-1.0490851069198723), 1: SuffStat(N=149, mu=1.072857538162445)}"
       ]
      },
      {
       "output_type": "stream",
       "stream": "stdout",
       "text": [
        "\n",
        "{0: SuffStat(N=48, mu=-1.0679346502255929), 1: SuffStat(N=152, mu=1.0369295785797299)}"
       ]
      },
      {
       "output_type": "stream",
       "stream": "stdout",
       "text": [
        "\n",
        "{0: SuffStat(N=49, mu=-1.0911136724606454), 1: SuffStat(N=151, mu=1.0583907462507414)}"
       ]
      },
      {
       "output_type": "stream",
       "stream": "stdout",
       "text": [
        "\n",
        "{0: SuffStat(N=50, mu=-1.0395533693040988), 1: SuffStat(N=150, mu=1.0555340079899675)}"
       ]
      },
      {
       "output_type": "stream",
       "stream": "stdout",
       "text": [
        "\n",
        "{0: SuffStat(N=46, mu=-1.1477234099973637), 1: SuffStat(N=154, mu=1.0334266856699283)}"
       ]
      },
      {
       "output_type": "stream",
       "stream": "stdout",
       "text": [
        "\n",
        "{0: SuffStat(N=47, mu=-1.130738737191604), 1: SuffStat(N=153, mu=1.0424650547797072)}"
       ]
      },
      {
       "output_type": "stream",
       "stream": "stdout",
       "text": [
        "\n",
        "{0: SuffStat(N=50, mu=-1.0632522766461348), 1: SuffStat(N=150, mu=1.063433643770644)}"
       ]
      },
      {
       "output_type": "stream",
       "stream": "stdout",
       "text": [
        "\n"
       ]
      }
     ],
     "prompt_number": 53
    },
    {
     "cell_type": "code",
     "collapsed": false,
     "input": [],
     "language": "python",
     "metadata": {},
     "outputs": []
    }
   ],
   "metadata": {}
  }
 ]
}