{
 "metadata": {
  "name": "",
  "signature": "sha256:c74b7b383bae136989e46b35788d8070ed4f48d00f03a2af6995e8388ca25144"
 },
 "nbformat": 3,
 "nbformat_minor": 0,
 "worksheets": [
  {
   "cells": [
    {
     "cell_type": "code",
     "collapsed": false,
     "input": [
      "import numpy as np\n",
      "from scipy import constants\n",
      "from scipy import stats\n",
      "import matplotlib.pyplot as plt\n",
      "from statsmodels.stats import diagnostic"
     ],
     "language": "python",
     "metadata": {},
     "outputs": [],
     "prompt_number": 171
    },
    {
     "cell_type": "heading",
     "level": 3,
     "metadata": {},
     "source": [
      "Metropolis-Hastings Algorithm"
     ]
    },
    {
     "cell_type": "code",
     "collapsed": false,
     "input": [
      "def transition(current_state, logpdf, dim):\n",
      "    transition = stats.multivariate_normal.rvs(size=dim)\n",
      "    candidate = current_state + transition\n",
      "    prev_log_likelihood = logpdf(current_state)\n",
      "    candidate_log_likelihood = logpdf(candidate)\n",
      "    if np.isinf(candidate_log_likelihood).any():\n",
      "        return current_state\n",
      "    diff = candidate_log_likelihood - prev_log_likelihood\n",
      "    uniform_draw = np.log(stats.uniform(0, 1).rvs())\n",
      "    return candidate if uniform_draw < diff else current_state\n",
      "\n",
      "def generate_samples(initial_state, num_iterations, logpdf):\n",
      "    current_state = initial_state\n",
      "    \n",
      "    if isinstance(current_state, float) or isinstance(current_state, int):\n",
      "        dim = 1 \n",
      "    else:\n",
      "        dim = len(current_state)\n",
      "        \n",
      "    for i in xrange(num_iterations):\n",
      "        current_state = transition(current_state, logpdf, dim)\n",
      "        yield current_state"
     ],
     "language": "python",
     "metadata": {},
     "outputs": [],
     "prompt_number": 2
    },
    {
     "cell_type": "heading",
     "level": 3,
     "metadata": {},
     "source": [
      "Examples"
     ]
    },
    {
     "cell_type": "heading",
     "level": 4,
     "metadata": {},
     "source": [
      "Univariate Normal Distribution"
     ]
    },
    {
     "cell_type": "markdown",
     "metadata": {},
     "source": [
      "Here is a histogram when we use our algorithm to sample from a standard normal distribution."
     ]
    },
    {
     "cell_type": "code",
     "collapsed": false,
     "input": [
      "logpdf = stats.norm().logpdf\n",
      "initial_value = 0\n",
      "n_iterations = 50000\n",
      "\n",
      "vals = list(generate_samples(initial_value, n_iterations, logpdf))\n",
      "\n",
      "_ = plt.hist(vals, bins=20)"
     ],
     "language": "python",
     "metadata": {},
     "outputs": [
      {
       "metadata": {},
       "output_type": "display_data",
       "png": "[encoded data removed]",
       "text": [
        "<matplotlib.figure.Figure at 0x115c0bad0>"
       ]
      }
     ],
     "prompt_number": 3
    },
    {
     "cell_type": "markdown",
     "metadata": {},
     "source": [
      "We can use the [Kolmogorov Smirnov  test](http://statsmodels.sourceforge.net/devel/generated/statsmodels.stats.diagnostic.kstest_normal.html) in statsmodels to test for normality."
     ]
    },
    {
     "cell_type": "code",
     "collapsed": false,
     "input": [
      "ksstat, pvalue = diagnostic.kstest_normal(vals)\n",
      "print pvalue"
     ],
     "language": "python",
     "metadata": {},
     "outputs": [
      {
       "output_type": "stream",
       "stream": "stdout",
       "text": [
        "0.103033941289\n"
       ]
      }
     ],
     "prompt_number": 4
    },
    {
     "cell_type": "markdown",
     "metadata": {},
     "source": [
      "With a large p-value, we fail to reject the null hypothesis that the sample comes from a normal distribution.\n",
      "\n",
      "We can also compare it to a histogram from numpy's normal distributions."
     ]
    },
    {
     "cell_type": "code",
     "collapsed": false,
     "input": [
      "_ = plt.hist(vals, alpha=0.9, bins=20)\n",
      "_ = plt.hist(np.random.normal(size=n_iterations), alpha=0.7, bins=20)"
     ],
     "language": "python",
     "metadata": {},
     "outputs": [
      {
       "metadata": {},
       "output_type": "display_data",
       "png": "[encoded data removed]",
       "text": [
        "<matplotlib.figure.Figure at 0x1123f5810>"
       ]
      }
     ],
     "prompt_number": 5
    },
    {
     "cell_type": "markdown",
     "metadata": {},
     "source": [
      "An advantage of the Metropolis-Hastings algorithm is that the PDF function given only has to be _proportional to_ the real PDF. We can verify this by multiplying the PDF by a constant. At the same time, let's shift the mean to 10."
     ]
    },
    {
     "cell_type": "code",
     "collapsed": false,
     "input": [
      "logpdf = lambda x: (3.14 * stats.norm(loc=10).logpdf(x))\n",
      "initial_value = 10\n",
      "n_iterations = 10000\n",
      "\n",
      "vals = np.array(list(generate_samples(initial_value, n_iterations, logpdf)))"
     ],
     "language": "python",
     "metadata": {},
     "outputs": [],
     "prompt_number": 6
    },
    {
     "cell_type": "markdown",
     "metadata": {},
     "source": [
      "We can again fail to reject the null hypothesis of the KS test:"
     ]
    },
    {
     "cell_type": "code",
     "collapsed": false,
     "input": [
      "ksstat, pvalue = diagnostic.kstest_normal(vals)\n",
      "print pvalue"
     ],
     "language": "python",
     "metadata": {},
     "outputs": [
      {
       "output_type": "stream",
       "stream": "stdout",
       "text": [
        "0.109967346479\n"
       ]
      }
     ],
     "prompt_number": 7
    },
    {
     "cell_type": "heading",
     "level": 4,
     "metadata": {},
     "source": [
      "Multivariate Normal Distribution"
     ]
    },
    {
     "cell_type": "markdown",
     "metadata": {},
     "source": [
      "The code works equally as well for multivariate distributions."
     ]
    },
    {
     "cell_type": "code",
     "collapsed": false,
     "input": [
      "logpdf = lambda x: stats.multivariate_normal(mean=[0,0], cov=[[1,.5],[.5,2]]).logpdf(x)\n",
      "initial_value = [1, 1]\n",
      "n_iterations = 20000\n",
      "\n",
      "vals = list(generate_samples(initial_value, n_iterations, logpdf))\n",
      "\n",
      "x, y = np.array(vals).T\n",
      "_ = plt.hist2d(x, y, bins=50)"
     ],
     "language": "python",
     "metadata": {},
     "outputs": [
      {
       "metadata": {},
       "output_type": "display_data",
       "png": "[encoded data removed]",
       "text": [
        "<matplotlib.figure.Figure at 0x11bf7c290>"
       ]
      }
     ],
     "prompt_number": 156
    },
    {
     "cell_type": "markdown",
     "metadata": {},
     "source": [
      "We will call that normal by plotting. The first two marginal moments also match our specifications."
     ]
    },
    {
     "cell_type": "code",
     "collapsed": false,
     "input": [
      "print x.mean()\n",
      "print y.mean()"
     ],
     "language": "python",
     "metadata": {},
     "outputs": [
      {
       "output_type": "stream",
       "stream": "stdout",
       "text": [
        "-0.00791595041303\n",
        "-0.00165644241643\n"
       ]
      }
     ],
     "prompt_number": 26
    },
    {
     "cell_type": "code",
     "collapsed": false,
     "input": [
      "print x.var()\n",
      "print y.var()"
     ],
     "language": "python",
     "metadata": {},
     "outputs": [
      {
       "output_type": "stream",
       "stream": "stdout",
       "text": [
        "1.00653049971\n",
        "2.07213170842\n"
       ]
      }
     ],
     "prompt_number": 28
    },
    {
     "cell_type": "heading",
     "level": 4,
     "metadata": {},
     "source": [
      "Bimodal Distribution"
     ]
    },
    {
     "cell_type": "markdown",
     "metadata": {},
     "source": [
      "We can sample from a bimodal distribution $\\propto \\sin^2(x)$."
     ]
    },
    {
     "cell_type": "code",
     "collapsed": false,
     "input": [
      "def logpdf(x):\n",
      "    return np.log(np.power(np.sin(x), 2)) if 0 < x < (2 * constants.pi) else np.log(0)\n",
      "\n",
      "initial_value = 2\n",
      "n_iterations = 50000\n",
      "\n",
      "vals = list(generate_samples(initial_value, n_iterations, logpdf))\n",
      "\n",
      "_ = plt.hist(vals, bins=20, normed=True)\n",
      "x = np.linspace(0, 2*constants.pi, num=50)\n",
      "_ = plt.plot(x, np.power(np.sin(x), 2) / constants.pi, c=\"r\")"
     ],
     "language": "python",
     "metadata": {},
     "outputs": [
      {
       "metadata": {},
       "output_type": "pyout",
       "prompt_number": 155,
       "text": [
        "[<matplotlib.lines.Line2D at 0x1183453d0>]"
       ]
      },
      {
       "metadata": {},
       "output_type": "display_data",
       "png": "[encoded data removed]",
       "text": [
        "<matplotlib.figure.Figure at 0x118318e90>"
       ]
      }
     ],
     "prompt_number": 155
    }
   ],
   "metadata": {}
  }
 ]
}