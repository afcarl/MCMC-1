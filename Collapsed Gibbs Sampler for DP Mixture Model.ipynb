{
 "metadata": {
  "name": "",
  "signature": "sha256:45a73552f5d031e20c6828dd228b788c9616dab7fae02428f4754f6e7f251c65"
 },
 "nbformat": 3,
 "nbformat_minor": 0,
 "worksheets": [
  {
   "cells": [
    {
     "cell_type": "code",
     "collapsed": false,
     "input": [
      "import numpy as np\n",
      "import matplotlib.pyplot as plt\n",
      "import pandas as pd\n",
      "\n",
      "from scipy import stats, special\n",
      "from numpy import random\n",
      "from collections import namedtuple, Counter\n",
      "\n",
      "np.set_printoptions(precision=2)"
     ],
     "language": "python",
     "metadata": {},
     "outputs": [],
     "prompt_number": 60
    },
    {
     "cell_type": "code",
     "collapsed": false,
     "input": [
      "def generate(weights, means, var, N):\n",
      "    \"\"\"Generate data from a mixture model with fixed mean variance\n",
      "    \"\"\"\n",
      "    samples = []\n",
      "    components = []\n",
      "    assert(len(weights) == len(means))\n",
      "    assert(sum(weights) == 1)\n",
      "    for i in range(N):\n",
      "        component = random.choice(range(len(means)), p=weights)\n",
      "        samples.append(random.normal(means[component], np.sqrt(var)))\n",
      "        components.append(component)\n",
      "    return np.array(samples), np.array(components)"
     ],
     "language": "python",
     "metadata": {},
     "outputs": [],
     "prompt_number": 61
    },
    {
     "cell_type": "code",
     "collapsed": false,
     "input": [
      "def posterior_predictive_score(x_i, suffstat, sigma2, prior_mu, prior_sigma2):\n",
      "    \"\"\"\n",
      "    From Section 2.3 of http://www.cs.ubc.ca/~murphyk/Papers/bayesGauss.pdf\n",
      "    \n",
      "    x_i: New data point\n",
      "    N: Number of current data points\n",
      "    mu: Current estimate of mu for component\n",
      "    sigma2: Known mu for component\n",
      "    prior_mu: Prior mean for mu (mu ~ Normal(prior_mu, prior_sigma2))\n",
      "    prior: Prior variance for mu (mu ~ Normal(prior_mu, prior_sigma2))\n",
      "    \"\"\"\n",
      "    \n",
      "    posterior_sigma2 = 1 / (suffstat.N * 1.0 / sigma2 + 1.0 / prior_sigma2)\n",
      "    predictive_mu = posterior_sigma2 * (prior_mu / prior_sigma2 + suffstat.N * suffstat.mu / sigma2)\n",
      "    predictive_sigma2 = sigma2 + posterior_sigma2\n",
      "    predictive_sd = np.sqrt(predictive_sigma2)\n",
      "    \n",
      "    return stats.norm(predictive_mu, predictive_sd).logpdf(x_i)\n"
     ],
     "language": "python",
     "metadata": {},
     "outputs": [],
     "prompt_number": 62
    },
    {
     "cell_type": "code",
     "collapsed": false,
     "input": [
      "# Generate data\n",
      "\n",
      "K = 3 # Number of components\n",
      "sigma2 = .1 # Fix variance for components\n",
      "N = 100 # Total number of samples for fake data\n",
      "real_pi = [.25, .25, .5] # Component weights for fake data\n",
      "real_means = [-2, 0, 2]\n",
      "X, components = generate(weights=real_pi, means=real_means, var=sigma2, N=N)\n",
      "_ = plt.hist(X)\n",
      "\n",
      "model_score(X, real_means, K * [sigma2], real_pi)"
     ],
     "language": "python",
     "metadata": {},
     "outputs": [
      {
       "metadata": {},
       "output_type": "pyout",
       "prompt_number": 63,
       "text": [
        "-485.73766541184432"
       ]
      },
      {
       "metadata": {},
       "output_type": "display_data",
       "png": "[encoded data removed]",
       "text": [
        "<matplotlib.figure.Figure at 0x10b330ad0>"
       ]
      }
     ],
     "prompt_number": 63
    },
    {
     "cell_type": "code",
     "collapsed": false,
     "input": [
      "class SuffStat(namedtuple('SuffStat', 'N mu')):\n",
      "    def __str__(self):\n",
      "        return \"%s %4i %s %-3.2f\" % (\"N_{ss}:\", self.N, \"mu_{ss}:\", self.mu)\n",
      "\n",
      "Params = namedtuple('Params', 'pi mu')\n",
      "\n",
      "\n",
      "def add_datapoint_to_suffstats(x, suffstats):\n",
      "    \"\"\"Update sufficient stats for normal component with new datapoint\n",
      "    \"\"\"\n",
      "    N = suffstats.N + 1\n",
      "    mu = (suffstats.mu * (N - 1) + x) / N\n",
      "    return SuffStat(N, mu)\n",
      "\n",
      "\n",
      "def remove_datapoint_from_suffstats(x, suffstats):\n",
      "    \"\"\"Remove datapoint from sufficient stats for normal component\n",
      "    \"\"\"\n",
      "    N = suffstats.N - 1\n",
      "    if N == 0:\n",
      "        return SuffStat(0, 0)\n",
      "    else:\n",
      "        mu = (suffstats.mu * (N + 1) - x * 1.0) / N\n",
      "        return SuffStat(N, mu)\n",
      "\n",
      "\n",
      "def generate_suffstat(X):\n",
      "    X = np.array(X)\n",
      "    return SuffStat(N=len(X), mu=X.mean())\n",
      "\n",
      "def cluster_assign_score(current_cluster_size, N, alpha):\n",
      "    \"\"\"\n",
      "    what is the probability of the next persoqn sitting at table\n",
      "    if there are already current_cluster_size people there\n",
      "    \"\"\"\n",
      "    if current_cluster_size == 0:\n",
      "        return np.log(alpha * 1. / (N + alpha))\n",
      "    else:\n",
      "        return np.log(current_cluster_size * 1.0 / (N + alpha))\n",
      "\n",
      "\n",
      "def sample_marginalized_parameters(suffstats, alpha, prior_mu, prior_sigma2, sigma2, num_clusters):\n",
      "    pi = stats.dirichlet([n + alpha * 1.0 / num_clusters for n, _ in suffstats]).rvs()[0]\n",
      "\n",
      "    tmus = []\n",
      "    for n, suffstat in enumerate(suffstats):\n",
      "        numerator = (prior_mu / prior_sigma2 + \n",
      "                     suffstat.mu * suffstat.N / sigma2)\n",
      "        denominator = (1.0 / prior_sigma2 + \n",
      "                       suffstat.N / sigma2)\n",
      "        posterior_mu = numerator / denominator\n",
      "        posterior_sigma2 = 1.0 / (1.0 / prior_sigma2 + suffstat.N)\n",
      "        mus.append(stats.norm(posterior_mu, posterior_sigma2).rvs())\n",
      "    return Params(pi, np.array(mus))\n",
      "        \n",
      "def model_score(X, mu_vec, sigma2_vec, pi_vec):\n",
      "    scores = []\n",
      "    for x in X:\n",
      "        s = [pi * stats.norm(mu, sigma2).pdf(x) \n",
      "             for mu, sigma2, pi in \n",
      "             zip(mu_vec, sigma2_vec, pi_vec)]\n",
      "        scores.append(np.log(sum(s)))\n",
      "    return np.sum(scores)"
     ],
     "language": "python",
     "metadata": {},
     "outputs": [],
     "prompt_number": 64
    },
    {
     "cell_type": "code",
     "collapsed": false,
     "input": [
      "# K = 3\n",
      "ITERS = 50\n",
      "\n",
      "c = [0 for i in range(len(X))]\n",
      "all_suffstats = {0: generate_suffstat([x for x, assignment in zip(X, c)])}\n",
      "\n",
      "prior_mu, prior_sigma2 = 0, 5\n",
      "alpha = .1\n",
      "\n",
      "posterior_c_dist = []\n",
      "posterior_mu_dist = []\n",
      "posterior_pi_dist = []\n",
      "model_scores = []\n",
      "\n",
      "for iteration in range(ITERS):\n",
      "    for i, (datapoint, assignment) in enumerate(zip(X, c)):\n",
      "        current_suffstats_for_i = all_suffstats[assignment]\n",
      "        all_suffstats[assignment] = remove_datapoint_from_suffstats(datapoint, current_suffstats_for_i)\n",
      "        ephemeral_cluster = max(all_suffstats.keys()) + 1\n",
      "        all_suffstats[ephemeral_cluster] = SuffStat(0, 0)\n",
      "        counts = Counter(c)\n",
      "        cluster_sizes = [counts.get(k, 0) for k in range(len(all_suffstats))]\n",
      "        predictive_score = np.array([posterior_predictive_score(datapoint, ss, sigma2, prior_mu, prior_sigma2)\n",
      "                                     for component, ss in all_suffstats.iteritems()])\n",
      "        \n",
      "        N = len(c) - 1\n",
      "        cluster_score = np.array([cluster_assign_score(cluster_sizes[component], N, alpha) \n",
      "                                    for component, ss in all_suffstats.iteritems()])\n",
      "#         print predictive_score, cluster_score\n",
      "        scores = predictive_score + cluster_score\n",
      "        scores = np.exp(scores) / np.exp(scores).sum()\n",
      "\n",
      "        new_component = random.choice(range(len(all_suffstats)), p=scores)\n",
      "        c[i] = new_component\n",
      "        if new_component != ephemeral_cluster:\n",
      "            del all_suffstats[ephemeral_cluster]\n",
      "        all_suffstats[new_component] = add_datapoint_to_suffstats(datapoint, all_suffstats[new_component])\n",
      "        \n",
      "    pi, mu = sample_marginalized_parameters(all_suffstats.values(), alpha,\n",
      "                                            prior_mu, prior_sigma2, sigma2, len(all_suffstats))\n",
      "    posterior_c_dist.append(c[:])\n",
      "    posterior_mu_dist.append(mu)\n",
      "    posterior_pi_dist.append(pi)\n",
      "\n",
      "    model_scores.append(model_score(X, mu, len(all_suffstats) * [sigma2], pi))\n",
      "    print 'iteration', iteration + 1\n",
      "    for k, v in all_suffstats.iteritems():\n",
      "        print \"\\t\", k, v\n",
      "\n"
     ],
     "language": "python",
     "metadata": {},
     "outputs": [
      {
       "output_type": "stream",
       "stream": "stdout",
       "text": [
        "iteration 1\n",
        "\t0 N_{ss}:   22 mu_{ss}: 0.37\n",
        "\t1 N_{ss}:   51 mu_{ss}: 2.04\n",
        "\t2 N_{ss}:   27 mu_{ss}: -1.90\n",
        "iteration"
       ]
      },
      {
       "output_type": "stream",
       "stream": "stdout",
       "text": [
        " 2\n",
        "\t0 N_{ss}:   19 mu_{ss}: -0.06\n",
        "\t1 N_{ss}:   56 mu_{ss}: 1.99\n",
        "\t2 N_{ss}:   25 mu_{ss}: -1.99\n",
        "iteration"
       ]
      },
      {
       "output_type": "stream",
       "stream": "stdout",
       "text": [
        " 3\n",
        "\t0 N_{ss}:   19 mu_{ss}: -0.06\n",
        "\t1 N_{ss}:   56 mu_{ss}: 1.99\n",
        "\t2 N_{ss}:   25 mu_{ss}: -1.99\n",
        "iteration"
       ]
      },
      {
       "output_type": "stream",
       "stream": "stdout",
       "text": [
        " 4\n",
        "\t0 N_{ss}:   19 mu_{ss}: -0.06\n",
        "\t1 N_{ss}:   56 mu_{ss}: 1.99\n",
        "\t2 N_{ss}:   25 mu_{ss}: -1.99\n",
        "iteration"
       ]
      },
      {
       "output_type": "stream",
       "stream": "stdout",
       "text": [
        " 5\n",
        "\t0 N_{ss}:   19 mu_{ss}: -0.06\n",
        "\t1 N_{ss}:   56 mu_{ss}: 1.99\n",
        "\t2 N_{ss}:   25 mu_{ss}: -1.99\n",
        "iteration"
       ]
      },
      {
       "output_type": "stream",
       "stream": "stdout",
       "text": [
        " 6\n",
        "\t0 N_{ss}:   19 mu_{ss}: -0.06\n",
        "\t1 N_{ss}:   56 mu_{ss}: 1.99\n",
        "\t2 N_{ss}:   25 mu_{ss}: -1.99\n",
        "iteration"
       ]
      },
      {
       "output_type": "stream",
       "stream": "stdout",
       "text": [
        " 7\n",
        "\t0 N_{ss}:   19 mu_{ss}: -0.06\n",
        "\t1 N_{ss}:   56 mu_{ss}: 1.99\n",
        "\t2 N_{ss}:   25 mu_{ss}: -1.99\n",
        "iteration"
       ]
      },
      {
       "output_type": "stream",
       "stream": "stdout",
       "text": [
        " 8\n",
        "\t0 N_{ss}:   18 mu_{ss}: -0.02\n",
        "\t1 N_{ss}:   56 mu_{ss}: 1.99\n",
        "\t2 N_{ss}:   26 mu_{ss}: -1.95\n",
        "iteration"
       ]
      },
      {
       "output_type": "stream",
       "stream": "stdout",
       "text": [
        " 9\n",
        "\t0 N_{ss}:   18 mu_{ss}: -0.02\n",
        "\t1 N_{ss}:   56 mu_{ss}: 1.99\n",
        "\t2 N_{ss}:   26 mu_{ss}: -1.95\n",
        "iteration"
       ]
      },
      {
       "output_type": "stream",
       "stream": "stdout",
       "text": [
        " 10\n",
        "\t0 N_{ss}:   19 mu_{ss}: -0.06\n",
        "\t1 N_{ss}:   56 mu_{ss}: 1.99\n",
        "\t2 N_{ss}:   25 mu_{ss}: -1.99\n",
        "iteration"
       ]
      },
      {
       "output_type": "stream",
       "stream": "stdout",
       "text": [
        " 11\n",
        "\t0 N_{ss}:   19 mu_{ss}: -0.06\n",
        "\t1 N_{ss}:   56 mu_{ss}: 1.99\n",
        "\t2 N_{ss}:   25 mu_{ss}: -1.99\n",
        "iteration"
       ]
      },
      {
       "output_type": "stream",
       "stream": "stdout",
       "text": [
        " 12\n",
        "\t0 N_{ss}:   19 mu_{ss}: -0.06\n",
        "\t1 N_{ss}:   56 mu_{ss}: 1.99\n",
        "\t2 N_{ss}:   25 mu_{ss}: -1.99\n",
        "iteration"
       ]
      },
      {
       "output_type": "stream",
       "stream": "stdout",
       "text": [
        " 13\n",
        "\t0 N_{ss}:   19 mu_{ss}: -0.06\n",
        "\t1 N_{ss}:   56 mu_{ss}: 1.99\n",
        "\t2 N_{ss}:   25 mu_{ss}: -1.99\n",
        "iteration"
       ]
      },
      {
       "output_type": "stream",
       "stream": "stdout",
       "text": [
        " 14\n",
        "\t0 N_{ss}:   19 mu_{ss}: -0.06\n",
        "\t1 N_{ss}:   56 mu_{ss}: 1.99\n",
        "\t2 N_{ss}:   25 mu_{ss}: -1.99\n",
        "iteration"
       ]
      },
      {
       "output_type": "stream",
       "stream": "stdout",
       "text": [
        " 15\n",
        "\t0 N_{ss}:   19 mu_{ss}: -0.06\n",
        "\t1 N_{ss}:   56 mu_{ss}: 1.99\n",
        "\t2 N_{ss}:   25 mu_{ss}: -1.99\n",
        "iteration"
       ]
      },
      {
       "output_type": "stream",
       "stream": "stdout",
       "text": [
        " 16\n",
        "\t0 N_{ss}:   19 mu_{ss}: -0.06\n",
        "\t1 N_{ss}:   56 mu_{ss}: 1.99\n",
        "\t2 N_{ss}:   25 mu_{ss}: -1.99\n",
        "iteration"
       ]
      },
      {
       "output_type": "stream",
       "stream": "stdout",
       "text": [
        " 17\n",
        "\t0 N_{ss}:   19 mu_{ss}: -0.06\n",
        "\t1 N_{ss}:   56 mu_{ss}: 1.99\n",
        "\t2 N_{ss}:   25 mu_{ss}: -1.99\n",
        "iteration"
       ]
      },
      {
       "output_type": "stream",
       "stream": "stdout",
       "text": [
        " 18\n",
        "\t0 N_{ss}:   17 mu_{ss}: -0.00\n",
        "\t1 N_{ss}:   56 mu_{ss}: 1.99\n",
        "\t2 N_{ss}:   25 mu_{ss}: -1.99\n",
        "\t3 N_{ss}:    2 mu_{ss}: -0.56\n",
        "iteration"
       ]
      },
      {
       "output_type": "stream",
       "stream": "stdout",
       "text": [
        " 19\n",
        "\t0 N_{ss}:   16 mu_{ss}: 0.07\n",
        "\t1 N_{ss}:   56 mu_{ss}: 1.99\n",
        "\t2 N_{ss}:   25 mu_{ss}: -1.99\n",
        "\t3 N_{ss}:    3 mu_{ss}: -0.74\n",
        "iteration"
       ]
      },
      {
       "output_type": "stream",
       "stream": "stdout",
       "text": [
        " 20\n",
        "\t0 N_{ss}:   16 mu_{ss}: 0.07\n",
        "\t1 N_{ss}:   56 mu_{ss}: 1.99\n",
        "\t2 N_{ss}:   25 mu_{ss}: -1.99\n",
        "\t3 N_{ss}:    3 mu_{ss}: -0.74\n",
        "iteration"
       ]
      },
      {
       "output_type": "stream",
       "stream": "stdout",
       "text": [
        " 21\n",
        "\t0 N_{ss}:   15 mu_{ss}: 0.10\n",
        "\t1 N_{ss}:   56 mu_{ss}: 1.99\n",
        "\t2 N_{ss}:   25 mu_{ss}: -1.99\n",
        "\t3 N_{ss}:    4 mu_{ss}: -0.67\n",
        "iteration"
       ]
      },
      {
       "output_type": "stream",
       "stream": "stdout",
       "text": [
        " 22\n",
        "\t0 N_{ss}:   16 mu_{ss}: 0.07\n",
        "\t1 N_{ss}:   56 mu_{ss}: 1.99\n",
        "\t2 N_{ss}:   25 mu_{ss}: -1.99\n",
        "\t3 N_{ss}:    3 mu_{ss}: -0.74\n",
        "iteration"
       ]
      },
      {
       "output_type": "stream",
       "stream": "stdout",
       "text": [
        " 23\n",
        "\t0 N_{ss}:   16 mu_{ss}: 0.01\n",
        "\t1 N_{ss}:   56 mu_{ss}: 1.99\n",
        "\t2 N_{ss}:   25 mu_{ss}: -1.99\n",
        "\t3 N_{ss}:    3 mu_{ss}: -0.41\n",
        "iteration"
       ]
      },
      {
       "output_type": "stream",
       "stream": "stdout",
       "text": [
        " 24\n",
        "\t0 N_{ss}:   16 mu_{ss}: 0.07\n",
        "\t1 N_{ss}:   56 mu_{ss}: 1.99\n",
        "\t2 N_{ss}:   25 mu_{ss}: -1.99\n",
        "\t3 N_{ss}:    3 mu_{ss}: -0.74\n",
        "iteration"
       ]
      },
      {
       "output_type": "stream",
       "stream": "stdout",
       "text": [
        " 25\n",
        "\t0 N_{ss}:   17 mu_{ss}: 0.02\n",
        "\t1 N_{ss}:   56 mu_{ss}: 1.99\n",
        "\t2 N_{ss}:   25 mu_{ss}: -1.99\n",
        "\t3 N_{ss}:    2 mu_{ss}: -0.77\n",
        "iteration"
       ]
      },
      {
       "output_type": "stream",
       "stream": "stdout",
       "text": [
        " 26\n",
        "\t0 N_{ss}:   15 mu_{ss}: 0.06\n",
        "\t1 N_{ss}:   56 mu_{ss}: 1.99\n",
        "\t2 N_{ss}:   25 mu_{ss}: -1.99\n",
        "\t3 N_{ss}:    4 mu_{ss}: -0.53\n",
        "iteration"
       ]
      },
      {
       "output_type": "stream",
       "stream": "stdout",
       "text": [
        " 27\n",
        "\t0 N_{ss}:   12 mu_{ss}: 0.17\n",
        "\t1 N_{ss}:   56 mu_{ss}: 1.99\n",
        "\t2 N_{ss}:   25 mu_{ss}: -1.99\n",
        "\t3 N_{ss}:    7 mu_{ss}: -0.46\n",
        "iteration"
       ]
      },
      {
       "output_type": "stream",
       "stream": "stdout",
       "text": [
        " 28\n",
        "\t0 N_{ss}:   18 mu_{ss}: -0.03\n",
        "\t1 N_{ss}:   56 mu_{ss}: 1.99\n",
        "\t2 N_{ss}:   25 mu_{ss}: -1.99\n",
        "\t3 N_{ss}:    1 mu_{ss}: -0.67\n",
        "iteration"
       ]
      },
      {
       "output_type": "stream",
       "stream": "stdout",
       "text": [
        " 29\n",
        "\t0 N_{ss}:   17 mu_{ss}: 0.02\n",
        "\t1 N_{ss}:   56 mu_{ss}: 1.99\n",
        "\t2 N_{ss}:   25 mu_{ss}: -1.99\n",
        "\t3 N_{ss}:    2 mu_{ss}: -0.77\n",
        "iteration"
       ]
      },
      {
       "output_type": "stream",
       "stream": "stdout",
       "text": [
        " 30\n",
        "\t0 N_{ss}:   17 mu_{ss}: 0.00\n",
        "\t1 N_{ss}:   56 mu_{ss}: 1.99\n",
        "\t2 N_{ss}:   25 mu_{ss}: -1.99\n",
        "\t3 N_{ss}:    2 mu_{ss}: -0.60\n",
        "iteration"
       ]
      },
      {
       "output_type": "stream",
       "stream": "stdout",
       "text": [
        " 31\n",
        "\t0 N_{ss}:   19 mu_{ss}: -0.06\n",
        "\t1 N_{ss}:   56 mu_{ss}: 1.99\n",
        "\t2 N_{ss}:   25 mu_{ss}: -1.99\n",
        "\t3 N_{ss}:    0 mu_{ss}: 0.00\n",
        "iteration"
       ]
      },
      {
       "output_type": "stream",
       "stream": "stdout",
       "text": [
        " 32\n",
        "\t0 N_{ss}:   19 mu_{ss}: -0.06\n",
        "\t1 N_{ss}:   56 mu_{ss}: 1.99\n",
        "\t2 N_{ss}:   25 mu_{ss}: -1.99\n",
        "\t3 N_{ss}:    0 mu_{ss}: 0.00\n",
        "iteration"
       ]
      },
      {
       "output_type": "stream",
       "stream": "stdout",
       "text": [
        " 33\n",
        "\t0 N_{ss}:   19 mu_{ss}: -0.06\n",
        "\t1 N_{ss}:   56 mu_{ss}: 1.99\n",
        "\t2 N_{ss}:   25 mu_{ss}: -1.99\n",
        "\t3 N_{ss}:    0 mu_{ss}: 0.00\n",
        "iteration"
       ]
      },
      {
       "output_type": "stream",
       "stream": "stdout",
       "text": [
        " 34\n",
        "\t0 N_{ss}:   18 mu_{ss}: -0.02\n",
        "\t1 N_{ss}:   56 mu_{ss}: 1.99\n",
        "\t2 N_{ss}:   25 mu_{ss}: -1.99\n",
        "\t3 N_{ss}:    0 mu_{ss}: 0.00\n",
        "\t4 N_{ss}:    1 mu_{ss}: -0.82\n",
        "iteration"
       ]
      },
      {
       "output_type": "stream",
       "stream": "stdout",
       "text": [
        " 35\n",
        "\t0 N_{ss}:   16 mu_{ss}: -0.10\n",
        "\t1 N_{ss}:   54 mu_{ss}: 2.01\n",
        "\t2 N_{ss}:   25 mu_{ss}: -1.99\n",
        "\t3 N_{ss}:    0 mu_{ss}: 0.00\n",
        "\t4 N_{ss}:    1 mu_{ss}: -0.73\n",
        "\t5 N_{ss}:    4 mu_{ss}: 0.98\n",
        "iteration"
       ]
      },
      {
       "output_type": "stream",
       "stream": "stdout",
       "text": [
        " 36\n",
        "\t0 N_{ss}:   17 mu_{ss}: -0.13\n",
        "\t1 N_{ss}:   56 mu_{ss}: 1.99\n",
        "\t2 N_{ss}:   25 mu_{ss}: -1.99\n",
        "\t3 N_{ss}:    2 mu_{ss}: 0.56\n",
        "\t4 N_{ss}:    0 mu_{ss}: 0.00\n",
        "\t5 N_{ss}:    0 mu_{ss}: 0.00\n",
        "iteration"
       ]
      },
      {
       "output_type": "stream",
       "stream": "stdout",
       "text": [
        " 37\n",
        "\t0 N_{ss}:   19 mu_{ss}: -0.06\n",
        "\t1 N_{ss}:   53 mu_{ss}: 1.98\n",
        "\t2 N_{ss}:   25 mu_{ss}: -1.99\n",
        "\t3 N_{ss}:    0 mu_{ss}: 0.00\n",
        "\t4 N_{ss}:    0 mu_{ss}: 0.00\n",
        "\t5 N_{ss}:    3 mu_{ss}: 2.23\n",
        "iteration"
       ]
      },
      {
       "output_type": "stream",
       "stream": "stdout",
       "text": [
        " 38\n",
        "\t0 N_{ss}:   19 mu_{ss}: -0.06\n",
        "\t1 N_{ss}:   54 mu_{ss}: 1.97\n",
        "\t2 N_{ss}:   25 mu_{ss}: -1.99\n",
        "\t3 N_{ss}:    0 mu_{ss}: 0.00\n",
        "\t4 N_{ss}:    0 mu_{ss}: 0.00\n",
        "\t5 N_{ss}:    2 mu_{ss}: 2.46\n",
        "iteration"
       ]
      },
      {
       "output_type": "stream",
       "stream": "stdout",
       "text": [
        " 39\n",
        "\t0 N_{ss}:   19 mu_{ss}: -0.06\n",
        "\t1 N_{ss}:   54 mu_{ss}: 1.98\n",
        "\t2 N_{ss}:   25 mu_{ss}: -1.99\n",
        "\t3 N_{ss}:    0 mu_{ss}: 0.00\n",
        "\t4 N_{ss}:    0 mu_{ss}: 0.00\n",
        "\t5 N_{ss}:    2 mu_{ss}: 2.42\n",
        "iteration"
       ]
      },
      {
       "output_type": "stream",
       "stream": "stdout",
       "text": [
        " 40\n",
        "\t0 N_{ss}:   19 mu_{ss}: -0.06\n",
        "\t1 N_{ss}:   53 mu_{ss}: 1.95\n",
        "\t2 N_{ss}:   25 mu_{ss}: -1.99\n",
        "\t3 N_{ss}:    0 mu_{ss}: 0.00\n",
        "\t4 N_{ss}:    0 mu_{ss}: 0.00\n",
        "\t5 N_{ss}:    3 mu_{ss}: 2.64\n",
        "iteration"
       ]
      },
      {
       "output_type": "stream",
       "stream": "stdout",
       "text": [
        " 41\n",
        "\t0 N_{ss}:   19 mu_{ss}: -0.06\n",
        "\t1 N_{ss}:   48 mu_{ss}: 1.95\n",
        "\t2 N_{ss}:   25 mu_{ss}: -1.99\n",
        "\t3 N_{ss}:    0 mu_{ss}: 0.00\n",
        "\t4 N_{ss}:    0 mu_{ss}: 0.00\n",
        "\t5 N_{ss}:    8 mu_{ss}: 2.22\n",
        "iteration"
       ]
      },
      {
       "output_type": "stream",
       "stream": "stdout",
       "text": [
        " 42\n",
        "\t0 N_{ss}:   19 mu_{ss}: -0.06\n",
        "\t1 N_{ss}:   48 mu_{ss}: 1.96\n",
        "\t2 N_{ss}:   25 mu_{ss}: -1.99\n",
        "\t3 N_{ss}:    0 mu_{ss}: 0.00\n",
        "\t4 N_{ss}:    0 mu_{ss}: 0.00\n",
        "\t5 N_{ss}:    8 mu_{ss}: 2.19\n",
        "iteration"
       ]
      },
      {
       "output_type": "stream",
       "stream": "stdout",
       "text": [
        " 43\n",
        "\t0 N_{ss}:   19 mu_{ss}: -0.06\n",
        "\t1 N_{ss}:   51 mu_{ss}: 1.97\n",
        "\t2 N_{ss}:   25 mu_{ss}: -1.99\n",
        "\t3 N_{ss}:    0 mu_{ss}: 0.00\n",
        "\t4 N_{ss}:    0 mu_{ss}: 0.00\n",
        "\t5 N_{ss}:    5 mu_{ss}: 2.18\n",
        "iteration"
       ]
      },
      {
       "output_type": "stream",
       "stream": "stdout",
       "text": [
        " 44\n",
        "\t0 N_{ss}:   19 mu_{ss}: -0.06\n",
        "\t1 N_{ss}:   52 mu_{ss}: 2.01\n",
        "\t2 N_{ss}:   25 mu_{ss}: -1.99\n",
        "\t3 N_{ss}:    0 mu_{ss}: 0.00\n",
        "\t4 N_{ss}:    0 mu_{ss}: 0.00\n",
        "\t5 N_{ss}:    4 mu_{ss}: 1.69\n",
        "iteration"
       ]
      },
      {
       "output_type": "stream",
       "stream": "stdout",
       "text": [
        " 45\n",
        "\t0 N_{ss}:   17 mu_{ss}: 0.02\n",
        "\t1 N_{ss}:   49 mu_{ss}: 2.03\n",
        "\t2 N_{ss}:   25 mu_{ss}: -1.99\n",
        "\t3 N_{ss}:    2 mu_{ss}: -0.75\n",
        "\t4 N_{ss}:    0 mu_{ss}: 0.00\n",
        "\t5 N_{ss}:    7 mu_{ss}: 1.69\n",
        "iteration"
       ]
      },
      {
       "output_type": "stream",
       "stream": "stdout",
       "text": [
        " 46\n",
        "\t0 N_{ss}:   16 mu_{ss}: 0.07\n",
        "\t1 N_{ss}:   53 mu_{ss}: 1.99\n",
        "\t2 N_{ss}:   25 mu_{ss}: -1.99\n",
        "\t3 N_{ss}:    3 mu_{ss}: -0.74\n",
        "\t4 N_{ss}:    0 mu_{ss}: 0.00\n",
        "\t5 N_{ss}:    3 mu_{ss}: 1.99\n",
        "iteration"
       ]
      },
      {
       "output_type": "stream",
       "stream": "stdout",
       "text": [
        " 47\n",
        "\t0 N_{ss}:   17 mu_{ss}: -0.01\n",
        "\t1 N_{ss}:   54 mu_{ss}: 1.98\n",
        "\t2 N_{ss}:   25 mu_{ss}: -1.99\n",
        "\t3 N_{ss}:    2 mu_{ss}: -0.51\n",
        "\t4 N_{ss}:    0 mu_{ss}: 0.00\n",
        "\t5 N_{ss}:    2 mu_{ss}: 2.30\n",
        "iteration"
       ]
      },
      {
       "output_type": "stream",
       "stream": "stdout",
       "text": [
        " 48\n",
        "\t0 N_{ss}:   17 mu_{ss}: 0.02\n",
        "\t1 N_{ss}:   54 mu_{ss}: 1.98\n",
        "\t2 N_{ss}:   25 mu_{ss}: -1.99\n",
        "\t3 N_{ss}:    2 mu_{ss}: -0.75\n",
        "\t4 N_{ss}:    0 mu_{ss}: 0.00\n",
        "\t5 N_{ss}:    1 mu_{ss}: 2.03\n",
        "\t6 N_{ss}:    1 mu_{ss}: 2.67\n",
        "iteration"
       ]
      },
      {
       "output_type": "stream",
       "stream": "stdout",
       "text": [
        " 49\n",
        "\t0 N_{ss}:   15 mu_{ss}: 0.09\n",
        "\t1 N_{ss}:   54 mu_{ss}: 1.96\n",
        "\t2 N_{ss}:   25 mu_{ss}: -1.99\n",
        "\t3 N_{ss}:    4 mu_{ss}: -0.61\n",
        "\t4 N_{ss}:    0 mu_{ss}: 0.00\n",
        "\t5 N_{ss}:    0 mu_{ss}: 0.00\n",
        "\t6 N_{ss}:    2 mu_{ss}: 2.71\n",
        "iteration"
       ]
      },
      {
       "output_type": "stream",
       "stream": "stdout",
       "text": [
        " 50\n",
        "\t0 N_{ss}:   15 mu_{ss}: 0.10\n",
        "\t1 N_{ss}:   56 mu_{ss}: 1.99\n",
        "\t2 N_{ss}:   25 mu_{ss}: -1.99\n",
        "\t3 N_{ss}:    4 mu_{ss}: -0.67\n",
        "\t4 N_{ss}:    0 mu_{ss}: 0.00\n",
        "\t5 N_{ss}:    0 mu_{ss}: 0.00\n",
        "\t6 N_{ss}:    0 mu_{ss}: 0.00\n"
       ]
      }
     ],
     "prompt_number": 65
    },
    {
     "cell_type": "code",
     "collapsed": false,
     "input": [
      "pd.Series(model_scores).plot(title=\"Total Model Score\")"
     ],
     "language": "python",
     "metadata": {},
     "outputs": [
      {
       "metadata": {},
       "output_type": "pyout",
       "prompt_number": 66,
       "text": [
        "<matplotlib.axes._subplots.AxesSubplot at 0x10afd0a50>"
       ]
      },
      {
       "metadata": {},
       "output_type": "display_data",
       "png": "[encoded data removed]",
       "text": [
        "<matplotlib.figure.Figure at 0x10afd0750>"
       ]
      }
     ],
     "prompt_number": 66
    },
    {
     "cell_type": "code",
     "collapsed": false,
     "input": [
      "for i in range(0, len(posterior_c_dist), 5):\n",
      "    fig = plt.figure(figsize=(3, 2))\n",
      "    ax = fig.add_subplot(111)\n",
      "    ax.set_title(\"Distribution of component membership for x=%s\" % round(X[i], 2))\n",
      "    plt.hist(np.array(posterior_c_dist)[:, i], bins=range(K+1), normed=True)"
     ],
     "language": "python",
     "metadata": {},
     "outputs": [
      {
       "metadata": {},
       "output_type": "display_data",
       "png": "[encoded data removed]",
       "text": [
        "<matplotlib.figure.Figure at 0x10b7e9910>"
       ]
      },
      {
       "metadata": {},
       "output_type": "display_data",
       "png": "[encoded data removed]",
       "text": [
        "<matplotlib.figure.Figure at 0x10b7adc10>"
       ]
      },
      {
       "metadata": {},
       "output_type": "display_data",
       "png": "[encoded data removed]",
       "text": [
        "<matplotlib.figure.Figure at 0x10b6642d0>"
       ]
      },
      {
       "metadata": {},
       "output_type": "display_data",
       "png": "[encoded data removed]",
       "text": [
        "<matplotlib.figure.Figure at 0x10b8f4210>"
       ]
      },
      {
       "metadata": {},
       "output_type": "display_data",
       "png": "[encoded data removed]",
       "text": [
        "<matplotlib.figure.Figure at 0x10b9a0f90>"
       ]
      },
      {
       "metadata": {},
       "output_type": "display_data",
       "png": "[encoded data removed]",
       "text": [
        "<matplotlib.figure.Figure at 0x10b9d73d0>"
       ]
      },
      {
       "metadata": {},
       "output_type": "display_data",
       "png": "[encoded data removed]",
       "text": [
        "<matplotlib.figure.Figure at 0x10bb8e0d0>"
       ]
      },
      {
       "metadata": {},
       "output_type": "display_data",
       "png": "[encoded data removed]",
       "text": [
        "<matplotlib.figure.Figure at 0x10bbfbd50>"
       ]
      },
      {
       "metadata": {},
       "output_type": "display_data",
       "png": "[encoded data removed]",
       "text": [
        "<matplotlib.figure.Figure at 0x10bc94b10>"
       ]
      },
      {
       "metadata": {},
       "output_type": "display_data",
       "png": "[encoded data removed]",
       "text": [
        "<matplotlib.figure.Figure at 0x10bd13810>"
       ]
      }
     ],
     "prompt_number": 67
    }
   ],
   "metadata": {}
  }
 ]
}