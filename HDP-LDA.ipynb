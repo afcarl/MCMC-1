{
 "cells": [
  {
   "cell_type": "code",
   "execution_count": 17,
   "metadata": {
    "collapsed": true
   },
   "outputs": [],
   "source": [
    "from sklearn.feature_extraction.text import CountVectorizer\n",
    "from scipy.stats import dirichlet, beta, bernoulli, gamma\n",
    "import numpy as np\n",
    "from scipy.special import digamma"
   ]
  },
  {
   "cell_type": "code",
   "execution_count": 6,
   "metadata": {
    "collapsed": false
   },
   "outputs": [],
   "source": [
    "docs = [\"Article. I. Section. 1. All legislative Powers herein granted shall be vested in a Congress of the United States, which shall consist of a Senate and House of Representatives. Section. 2. The House of Representatives shall be composed of Members chosen every second Year by the People of the several States, and the Electors in each State shall have the Qualifications requisite for Electors of the most numerous Branch of the State Legislature. No Person shall be a Representative who shall not have attained to the Age of twenty five Years, and been seven Years a Citizen of the United States, and who shall not, when elected, be an Inhabitant of that State in which he shall be chosen. Representatives and direct Taxes shall be apportioned among the several States which may be included within this Union, according to their respective Numbers, which shall be determined by adding to the whole Number of free Persons, including those bound to Service for a Term of Years, and excluding Indians not taxed, three fifths of all other Persons. The actual Enumeration shall be made within three Years after the first Meeting of the Congress of the United States, and within every subsequent Term of ten Years, in such Manner as they shall by Law direct. The Number of Representatives shall not exceed one for every thirty Thousand, but each State shall have at Least one Representative; and until such enumeration shall be made, the State of New Hampshire shall be entitled to chuse three, Massachusetts eight, Rhode-Island and Providence Plantations one, Connecticut five, New-York six, New Jersey four, Pennsylvania eight, Delaware one, Maryland six, Virginia ten, North Carolina five, South Carolina five, and Georgia three. When vacancies happen in the Representation from any State, the Executive Authority thereof shall issue Writs of Election to fill such Vacancies. The House of Representatives shall chuse their Speaker and other Officers; and shall have the sole Power of Impeachment. Section. 3. The Senate of the United States shall be composed of two Senators from each State, chosen by the Legislature thereof, for six Years; and each Senator shall have one Vote. Immediately after they shall be assembled in Consequence of the first Election, they shall be divided as equally as may be into three Classes. The Seats of the Senators of the first Class shall be vacated at the Expiration of the second Year, of the second Class at the Expiration of the fourth Year, and of the third Class at the Expiration of the sixth Year, so that one third may be chosen every second Year; and if Vacancies happen by Resignation, or otherwise, during the Recess of the Legislature of any State, the Executive thereof may make temporary Appointments until the next Meeting of the Legislature, which shall then fill such Vacancies. No Person shall be a Senator who shall not have attained to the Age of thirty Years, and been nine Years a Citizen of the United States, and who shall not, when elected, be an Inhabitant of that State for which he shall be chosen. The Vice President of the United States shall be President of the Senate, but shall have no Vote, unless they be equally divided. The Senate shall chuse their other Officers, and also a President pro tempore, in the Absence of the Vice President, or when he shall exercise the Office of President of the United States. The Senate shall have the sole Power to try all Impeachments. When sitting for that Purpose, they shall be on Oath or Affirmation. When the President of the United States is tried, the Chief Justice shall preside: And no Person shall be convicted without the Concurrence of two thirds of the Members present. Judgment in Cases of Impeachment shall not extend further than to removal from Office, and disqualification to hold and enjoy any Office of honor, Trust or Profit under the United States: but the Party convicted shall nevertheless be liable and subject to Indictment, Trial, Judgment and Punishment, according to Law. Section. 4. The Times, Places and Manner of holding Elections for Senators and Representatives, shall be prescribed in each State by the Legislature thereof; but the Congress may at any time by Law make or alter such Regulations, except as to the Places of chusing Senators. The Congress shall assemble at least once in every Year, and such Meeting shall be on the first Monday in December, unless they shall by Law appoint a different Day. Section. 5. Each House shall be the Judge of the Elections, Returns and Qualifications of its own Members, and a Majority of each shall constitute a Quorum to do Business; but a smaller Number may adjourn from day to day, and may be authorized to compel the Attendance of absent Members, in such Manner, and under such Penalties as each House may provide. Each House may determine the Rules of its Proceedings, punish its Members for disorderly Behaviour, and, with the Concurrence of two thirds, expel a Member. Each House shall keep a Journal of its Proceedings, and from time to time publish the same, excepting such Parts as may in their Judgment require Secrecy; and the Yeas and Nays of the Members of either House on any question shall, at the Desire of one fifth of those Present, be entered on the Journal. Neither House, during the Session of Congress, shall, without the Consent of the other, adjourn for more than three days, nor to any other Place than that in which the two Houses shall be sitting. Section. 6. The Senators and Representatives shall receive a Compensation for their Services, to be ascertained by Law, and paid out of the Treasury of the United States. They shall in all Cases, except Treason, Felony and Breach of the Peace, be privileged from Arrest during their Attendance at the Session of their respective Houses, and in going to and returning from the same; and for any Speech or Debate in either House, they shall not be questioned in any other Place. No Senator or Representative shall, during the Time for which he was elected, be appointed to any civil Office under the Authority of the United States, which shall have been created, or the Emoluments whereof shall have been encreased during such time; and no Person holding any Office under the United States, shall be a Member of either House during his Continuance in Office. Section. 7. All Bills for raising Revenue shall originate in the House of Representatives; but the Senate may propose or concur with Amendments as on other Bills. Every Bill which shall have passed the House of Representatives and the Senate, shall, before it become a Law, be presented to the President of the United States; If he approve he shall sign it, but if not he shall return it, with his Objections to that House in which it shall have originated, who shall enter the Objections at large on their Journal, and proceed to reconsider it. If after such Reconsideration two thirds of that House shall agree to pass the Bill, it shall be sent, together with the Objections, to the other House, by which it shall likewise be reconsidered, and if approved by two thirds of that House, it shall become a Law. But in all such Cases the Votes of both Houses shall be determined by yeas and Nays, and the Names of the Persons voting for and against the Bill shall be entered on the Journal of each House respectively. If any Bill shall not be returned by the President within ten Days (Sundays excepted) after it shall have been presented to him, the Same shall be a Law, in like Manner as if he had signed it, unless the Congress by their Adjournment prevent its Return, in which Case it shall not be a Law. Every Order, Resolution, or Vote to which the Concurrence of the Senate and House of Representatives may be necessary (except on a question of Adjournment) shall be presented to the President of the United States; and before the Same shall take Effect, shall be approved by him, or being disapproved by him, shall be repassed by two thirds of the Senate and House of Representatives, according to the Rules and Limitations prescribed in the Case of a Bill. Section. 8. The Congress shall have Power To lay and collect Taxes, Duties, Imposts and Excises, to pay the Debts and provide for the common Defence and general Welfare of the United States; but all Duties, Imposts and Excises shall be uniform throughout the United States; To borrow Money on the credit of the United States; To regulate Commerce with foreign Nations, and among the several States, and with the Indian Tribes; To establish an uniform Rule of Naturalization, and uniform Laws on the subject of Bankruptcies throughout the United States; To coin Money, regulate the Value thereof, and of foreign Coin, and fix the Standard of Weights and Measures; To provide for the Punishment of counterfeiting the Securities and current Coin of the United States; To establish Post Offices and post Roads; To promote the Progress of Science and useful Arts, by securing for limited Times to Authors and Inventors the exclusive Right to their respective Writings and Discoveries; To constitute Tribunals inferior to the supreme Court; To define and punish Piracies and Felonies committed on the high Seas, and Offences against the Law of Nations; To declare War, grant Letters of Marque and Reprisal, and make Rules concerning Captures on Land and Water; To raise and support Armies, but no Appropriation of Money to that Use shall be for a longer Term than two Years; To provide and maintain a Navy; To make Rules for the Government and Regulation of the land and naval Forces; To provide for calling forth the Militia to execute the Laws of the Union, suppress Insurrections and repel Invasions; To provide for organizing, arming, and disciplining, the Militia, and for governing such Part of them as may be employed in the Service of the United States, reserving to the States respectively, the Appointment of the Officers, and the Authority of training the Militia according to the discipline prescribed by Congress; To exercise exclusive Legislation in all Cases whatsoever, over such District (not exceeding ten Miles square) as may, by Cession of particular States, and the Acceptance of Congress, become the Seat of the Government of the United States, and to exercise like Authority over all Places purchased by the Consent of the Legislature of the State in which the Same shall be, for the Erection of Forts, Magazines, Arsenals, dock-Yards, and other needful Buildings;—And To make all Laws which shall be necessary and proper for carrying into Execution the foregoing Powers, and all other Powers vested by this Constitution in the Government of the United States, or in any Department or Officer thereof. Section. 9. The Migration or Importation of such Persons as any of the States now existing shall think proper to admit, shall not be prohibited by the Congress prior to the Year one thousand eight hundred and eight, but a Tax or duty may be imposed on such Importation, not exceeding ten dollars for each Person. The Privilege of the Writ of Habeas Corpus shall not be suspended, unless when in Cases of Rebellion or Invasion the public Safety may require it. No Bill of Attainder or ex post facto Law shall be passed. No Capitation, or other direct, Tax shall be laid, unless in Proportion to the Census or enumeration herein before directed to be taken. No Tax or Duty shall be laid on Articles exported from any State. No Preference shall be given by any Regulation of Commerce or Revenue to the Ports of one State over those of another: nor shall Vessels bound to, or from, one State, be obliged to enter, clear, or pay Duties in another. No Money shall be drawn from the Treasury, but in Consequence of Appropriations made by Law; and a regular Statement and Account of the Receipts and Expenditures of all public Money shall be published from time to time. No Title of Nobility shall be granted by the United States: And no Person holding any Office of Profit or Trust under them, shall, without the Consent of the Congress, accept of any present, Emolument, Office, or Title, of any kind whatever, from any King, Prince, or foreign State. Section. 10. No State shall enter into any Treaty, Alliance, or Confederation; grant Letters of Marque and Reprisal; coin Money; emit Bills of Credit; make any Thing but gold and silver Coin a Tender in Payment of Debts; pass any Bill of Attainder, ex post facto Law, or Law impairing the Obligation of Contracts, or grant any Title of Nobility. No State shall, without the Consent of the Congress, lay any Imposts or Duties on Imports or Exports, except what may be absolutely necessary for executing it's inspection Laws: and the net Produce of all Duties and Imposts, laid by any State on Imports or Exports, shall be for the Use of the Treasury of the United States; and all such Laws shall be subject to the Revision and Controul of the Congress. No State shall, without the Consent of Congress, lay any Duty of Tonnage, keep Troops, or Ships of War in time of Peace, enter into any Agreement or Compact with another State, or with a foreign Power, or engage in War, unless actually invaded, or in such imminent Danger as will not admit of delay.\",\n",
    "        \"Section. 1. The executive Power shall be vested in a President of the United States of America. He shall hold his Office during the Term of four Years, and, together with the Vice President, chosen for the same Term, be elected, as follows Each State shall appoint, in such Manner as the Legislature thereof may direct, a Number of Electors, equal to the whole Number of Senators and Representatives to which the State may be entitled in the Congress: but no Senator or Representative, or Person holding an Office of Trust or Profit under the United States, shall be appointed an Elector. The Electors shall meet in their respective States, and vote by Ballot for two Persons, of whom one at least shall not be an Inhabitant of the same State with themselves. And they shall make a List of all the Persons voted for, and of the Number of Votes for each; which List they shall sign and certify, and transmit sealed to the Seat of the Government of the United States, directed to the President of the Senate. The President of the Senate shall, in the Presence of the Senate and House of Representatives, open all the Certificates, and the Votes shall then be counted. The Person having the greatest Number of Votes shall be the President, if such Number be a Majority of the whole Number of Electors appointed; and if there be more than one who have such Majority, and have an equal Number of Votes, then the House of Representatives shall immediately chuse by Ballot one of them for President; and if no Person have a Majority, then from the five highest on the List the said House shall in like Manner chuse the President. But in chusing the President, the Votes shall be taken by States, the Representation from each State having one Vote; A quorum for this Purpose shall consist of a Member or Members from two thirds of the States, and a Majority of all the States shall be necessary to a Choice. In every Case, after the Choice of the President, the Person having the greatest Number of Votes of the Electors shall be the Vice President. But if there should remain two or more who have equal Votes, the Senate shall chuse from them by Ballot the Vice President. The Congress may determine the Time of chusing the Electors, and the Day on which they shall give their Votes; which Day shall be the same throughout the United States. No Person except a natural born Citizen, or a Citizen of the United States, at the time of the Adoption of this Constitution, shall be eligible to the Office of President; neither shall any Person be eligible to that Office who shall not have attained to the Age of thirty five Years, and been fourteen Years a Resident within the United States. In Case of the Removal of the President from Office, or of his Death, Resignation, or Inability to discharge the Powers and Duties of the said Office, the Same shall devolve on the Vice President, and the Congress may by Law provide for the Case of Removal, Death, Resignation or Inability, both of the President and Vice President, declaring what Officer shall then act as President, and such Officer shall act accordingly, until the Disability be removed, or a President shall be elected. The President shall, at stated Times, receive for his Services, a Compensation, which shall neither be encreased nor diminished during the Period for which he shall have been elected, and he shall not receive within that Period any other Emolument from the United States, or any of them. Before he enter on the Execution of his Office, he shall take the following Oath or Affirmation:—I do solemnly swear (or affirm) that I will faithfully execute the Office of President of the United States, and will to the best of my Ability, preserve, protect and defend the Constitution of the United States. Section. 2. The President shall be Commander in Chief of the Army and Navy of the United States, and of the Militia of the several States, when called into the actual Service of the United States; he may require the Opinion, in writing, of the principal Officer in each of the executive Departments, upon any Subject relating to the Duties of their respective Offices, and he shall have Power to grant Reprieves and Pardons for Offences against the United States, except in Cases of Impeachment. He shall have Power, by and with the Advice and Consent of the Senate, to make Treaties, provided two thirds of the Senators present concur; and he shall nominate, and by and with the Advice and Consent of the Senate, shall appoint Ambassadors, other public Ministers and Consuls, Judges of the supreme Court, and all other Officers of the United States, whose Appointments are not herein otherwise provided for, and which shall be established by Law: but the Congress may by Law vest the Appointment of such inferior Officers, as they think proper, in the President alone, in the Courts of Law, or in the Heads of Departments. The President shall have Power to fill up all Vacancies that may happen during the Recess of the Senate, by granting Commissions which shall expire at the End of their next Session. Section. 3. He shall from time to time give to the Congress Information of the State of the Union, and recommend to their Consideration such Measures as he shall judge necessary and expedient; he may, on extraordinary Occasions, convene both Houses, or either of them, and in Case of Disagreement between them, with Respect to the Time of Adjournment, he may adjourn them to such Time as he shall think proper; he shall receive Ambassadors and other public Ministers; he shall take Care that the Laws be faithfully executed, and shall Commission all the Officers of the United States. Section. 4. The President, Vice President and all civil Officers of the United States, shall be removed from Office on Impeachment for, and Conviction of, Treason, Bribery, or other high Crimes and Misdemeanors.\"]"
   ]
  },
  {
   "cell_type": "code",
   "execution_count": 21,
   "metadata": {
    "collapsed": false
   },
   "outputs": [],
   "source": [
    "vec = CountVectorizer()\n",
    "w = vec.fit_transform(docs).todense()"
   ]
  },
  {
   "cell_type": "markdown",
   "metadata": {},
   "source": [
    "### Input\n",
    "\n",
    "\\begin{array}{rl}\n",
    "    \\left\\{\\overrightarrow{w}\\right\\} & \\equiv \\text{Word Vectors} \\\\\\\n",
    "\\end{array}\n",
    "\n",
    "### Other\n",
    "\n",
    "\\begin{array}{rl}\n",
    "     \\alpha & \\equiv \\\\\\\n",
    "     \\beta & \\equiv \\\\\\\n",
    "     \\gamma & \\equiv \\\\\\\n",
    "     K_0 & \\equiv \\\\\\\n",
    "     K &\\equiv \\text{Current number of used topics} \\\\\\\n",
    "     t &\\equiv \\text{Index for terms (unique words)} \\\\\\\n",
    "     k &\\equiv \\text{Topic index} \\\\\\\n",
    "     m &\\equiv \\text{Index for documents} \\\\\\\n",
    "     M &\\equiv \\text{Total number of documents} \\\\\\\n",
    "     n &\\equiv \\text{Index for words} \\\\\\\n",
    "     N_m &\\equiv \\text{Total number of words in document } m \\\\\\\n",
    "     w_{m,n} &\\equiv \\text{Word in position } n \\text{ for document } m \\\\\\\n",
    "     n_m &\\equiv \\text{Total number of words in document } m  \\\\\\\n",
    "     n_{m,k} &\\equiv \\text{Total number of words in document } m \\text{ from topic } k \\\\\\\n",
    "     n_{k} &\\equiv \\text{Total number of words (across all docs) from topic } t \\\\\\\n",
    "     n_{k,t} &\\equiv \\text{Total number of occurrences of term } t \\\\\n",
    "     &\\phantom{\\equiv}\\text{ generated by topic } k \\\\\\\n",
    "     z_{m,n} &\\equiv \\text{Indicator variable for word } n \\text{ in document } m \\\\\\\n",
    "     \\overrightarrow{\\tau} &\\equiv \\text{Dirichlet parameter (prior proportions)} \\\\\n",
    "     p(z_i | \\cdot) &\\equiv \\text{Probability that topic is }k\\\\\\\n",
    "     &\\phantom{\\equiv}\\text{short for }p(k=z_i|\\overrightarrow z_{\\neg i}, \\overrightarrow w, \\alpha \\overrightarrow\\tau, \\beta, \\gamma, K)\\\\\\\n",
    "     U_{1,0} &\\equiv \\text{Unused topic indices} \\\\\\\n",
    "    V &\\equiv \\text{Number of terms t in vocabulary} \\\\\\\n",
    "\\end{array}\n",
    "\n",
    "### Outputs:\n",
    "\n",
    "\\begin{array}{rl}\n",
    "    \\left\\{\\overrightarrow{z}\\right\\} & \\equiv \\text{topic associations} \\\\\\\n",
    "    K &\\equiv \\text{topic dimension} \\\\\\\n",
    "    \\overrightarrow\\theta_m &\\equiv \\text{Multinomial parameter for topics in document } m \\\\\\\n",
    "    \\underline\\Theta &\\equiv \\text{Multinomial parameter set}  \\\\\\\n",
    "    \\overrightarrow\\phi_m &\\equiv \\text{Multinomial parameter for terms in topic }  \\\\\\\n",
    "    \\underline\\Phi &\\equiv \\text{Multinomial parameter set} \\\\\\\n",
    "    \\alpha\\overrightarrow{\\tau} &\\equiv \\text{} \\\\\\\n",
    "    \\beta &\\equiv \\text{} \\\\\\\n",
    "    \\gamma &\\equiv \\text{} \\\\\\\n",
    "\\end{array}"
   ]
  },
  {
   "cell_type": "code",
   "execution_count": 10,
   "metadata": {
    "collapsed": false
   },
   "outputs": [],
   "source": [
    "import nltk\n",
    "from nltk.corpus import stopwords \n",
    "def cleanupDoc(s):\n",
    "     stopset = set(stopwords.words('english'))\n",
    "     tokens = nltk.word_tokenize(s)\n",
    "     cleanup = [token.lower() for token in tokens if token.lower() not in stopset and  len(token)>2]\n",
    "     return cleanup"
   ]
  },
  {
   "cell_type": "code",
   "execution_count": 17,
   "metadata": {
    "collapsed": false
   },
   "outputs": [],
   "source": [
    "import more_itertools\n",
    "\n",
    "from numpy.random import choice\n",
    "from collections import defaultdict\n",
    "from itertools import chain\n",
    "from more_itertools import flatten\n"
   ]
  },
  {
   "cell_type": "code",
   "execution_count": 16,
   "metadata": {
    "collapsed": false
   },
   "outputs": [],
   "source": [
    "K_MAX = 100\n",
    "\n",
    "state = {\n",
    "    \"num_topics\": 1, #K\n",
    "    \"n\": {\n",
    "        \"document_topic\": None, # n_{m,k}\n",
    "        \"topic_term\": None, # n_{k,t}\n",
    "        \"topic\": None, # n_k\n",
    "        \"doc\": None, # n_m\n",
    "    },\n",
    "    \"doc_word_topic_assignment\": None, # z_{m,n}\n",
    "    \"docs\": None,\n",
    "    \"num_docs\": None,\n",
    "    \"used_topics\": None, # U1\n",
    "    \"unused_topics\": None, # U0\n",
    "    \"tau\": None,\n",
    "    \"vocabulary\": None,\n",
    "    \"alpha\": None,\n",
    "    \"beta\": None,\n",
    "    \"gamma\": None,\n",
    "}"
   ]
  },
  {
   "cell_type": "markdown",
   "metadata": {},
   "source": [
    "### State Initialization"
   ]
  },
  {
   "cell_type": "code",
   "execution_count": 7,
   "metadata": {
    "collapsed": false
   },
   "outputs": [],
   "source": [
    "def initialize(state, docs):\n",
    "    state[\"num_topics\"] = 1\n",
    "    state[\"docs\"] = [cleanupDoc(doc) for doc in docs]\n",
    "    state[\"vocabulary\"] = set(more_itertools.flatten(state[\"docs\"]))\n",
    "    state[\"num_docs\"] = len(state[\"docs\"])\n",
    "    state[\"num_terms\"] = 100 # TODO: Fix me.\n",
    "    state[\"doc_word_topic_assignment\"] = defaultdict(lambda: {})\n",
    "    for k in range(state[\"num_docs\"]):\n",
    "        state[\"n\"][\"document_topic\"] = defaultdict(lambda: defaultdict(int))\n",
    "    for k in range(state[\"num_topics\"]):\n",
    "        state[\"n\"][\"topic_term\"] = defaultdict(lambda: defaultdict(str))\n",
    "    state[\"n\"][\"topic\"] = defaultdict(int)\n",
    "    state[\"n\"][\"doc\"] = defaultdict(int)\n",
    "    state[\"used_topics\"] = range(state[\"num_topics\"])\n",
    "    max_topics = 100\n",
    "    state[\"unused_topics\"] = range(state[\"num_topics\"], max_topics)\n",
    "    \n",
    "    for doc_index, doc in enumerate(state[\"docs\"]):\n",
    "        for word_index in doc:\n",
    "            K = state[\"num_topics\"]\n",
    "            probabilities = state[\"num_topics\"] * [1./state[\"num_topics\"]]\n",
    "            topic = choice(state[\"used_topics\"], p=probabilities)\n",
    "            state[\"doc_word_topic_assignment\"][doc_index][word_index] = topic\n",
    "            state[\"n\"][\"document_topic\"][doc_index][topic] += 1\n",
    "            state[\"n\"][\"topic_term\"][topic][word_index] += 1\n",
    "            state[\"n\"][\"topic\"][topic] += 1\n",
    "            state[\"n\"][\"doc\"][doc_index] += 1\n",
    "            \n",
    "    tau_dimension = state[\"num_topics\"]\n",
    "    state[\"tau\"] = {state: (1. / state[\"num_topics\"])\n",
    "                    for state in range(state[\"num_topics\"] +1)}\n",
    "    state[\"tau\"] = tau_dimension * [ ]\n",
    "    state[\"alpha\"], state[\"beta\"], state[\"gamma\"] = 0, 0, 0\n",
    "    return state"
   ]
  },
  {
   "cell_type": "markdown",
   "metadata": {},
   "source": [
    "### MCMC Step"
   ]
  },
  {
   "cell_type": "code",
   "execution_count": 8,
   "metadata": {
    "collapsed": true
   },
   "outputs": [],
   "source": [
    "def step(state):\n",
    "    for doc_index in range(state['num_docs']):\n",
    "        for word_index in range(state['n']['doc'][doc_index]):\n",
    "            state = step_word(state, doc_index, word_index)\n",
    "    # TODO: if converged and L sampling iterations since last read out then\n",
    "    if True:\n",
    "        pass\n",
    "    # TODO: if not converged\n",
    "    else:\n",
    "        state = prune_topics(state)\n",
    "        state[\"tau\"]= sample_tau(state)\n",
    "        state = sample_hyperparamers(state)\n",
    "        \n",
    "        \n",
    "def step_word(state, doc_index, word_index):\n",
    "    pass\n",
    "    # // for the current assignment of k to a term t for word wm,n:\n",
    "    # decrement counts and sums: nm,k -= 1; nk,t -= 1; nk -= 1;\n",
    "    topic = state['doc_word_topic_assignment'][doc_index][word_index]\n",
    "    word = state['docs'][doc_index][word_index]\n",
    "    state['n']['document_topic'][doc_index][topic] -= 1\n",
    "    state['n']['topic_term'][topic][word] -= 1\n",
    "    state['n']['topic'][topic] -= 1\n",
    "    \n",
    "    # // multinomial sampling using (15) with range [1,K+1]:\n",
    "    # sample topic index k ̃=p(zi|.);\n",
    "    new_topic = sample_new_topic(state)\n",
    "    \n",
    "    # if k ̃in [1, K] then\n",
    "    if new_topic in state['used_topics']:\n",
    "        # // for the new assignment of zm,n to the term t for word wm,n:\n",
    "        # increment counts and sums: n_{m,k*}+=1; n_{k*,t} +=1;n_{k*}=1\n",
    "        state['n']['document_topic'][doc_index][new_topic] += 1\n",
    "        state['n']['topic_term'][new_topic][word] += 1\n",
    "        state['n']['topic'][new_topic] += 1\n",
    "    # else\n",
    "        # // create new topic from term t in document m as first assignment:\n",
    "        # k* = pop(U0)\n",
    "        new_topic = state['unused_topics'].pop()\n",
    "        # push(U1, k*)\n",
    "        state['unused_topics'].append(new_topic)\n",
    "        # K += 1\n",
    "        state['num_topics'] += 1\n",
    "        # n_{m,k} == 1, n_k = 1, n_{k,t} = 1;\n",
    "    # z_{m,n}=k^*\n",
    "    state['doc_word_topic_assignment'][doc_index][word_index] = new_topic\n",
    "\n"
   ]
  },
  {
   "cell_type": "markdown",
   "metadata": {},
   "source": [
    "### Hyperparameter Sampling"
   ]
  },
  {
   "cell_type": "code",
   "execution_count": 9,
   "metadata": {
    "collapsed": true
   },
   "outputs": [],
   "source": [
    "def update_hyperparams(state):\n",
    "    # http://bit.ly/1baZ3zf\n",
    "    T = sum(sum(mk))\n",
    "    num_samples = 10 # R\n",
    "    bgamma = 0.1 # ?\n",
    "    agamma = 5 # ?\n",
    "    \n",
    "    # for (int r = 0; r < R; r++) {\n",
    "    for r in range(num_samples):\n",
    "        # gamma: root level (Escobar+West95) with n = T\n",
    "        eta = beta(state[\"gamma\"] + 1, T).rvs()\n",
    "        bloge = bgamma - np.log(eta)\n",
    "        K = state[\"num_topics\"]\n",
    "        pie = 1. / (1. + (T * bloge / (agamma + K - 1)))\n",
    "        u = bernoulli(pie).rvs()\n",
    "        state[\"gamma\"] = gamma(agamma + K - 1 + u, 1. / bloge);\n",
    "\n",
    "        # alpha: document level (Teh+06)\n",
    "        qs = 0.;\n",
    "        qw = 0.;\n",
    "        for m, doc in enumerate(state[\"docs\"]):\n",
    "            qs += bernoulli(len(doc) * 1. / (len(doc) + state[\"alpha\"])).rvs()\n",
    "            qw += np.log(beta(state[\"alpha\"] + 1, len(doc)))\n",
    "        state[\"alpha\"] = gamma(aalpha + T - qs, 1. / (balpha - qw)).rsv()\n",
    "        \n",
    "    state = update_beta(state, abeta, bbeta)\n",
    "    return state\n",
    "\n",
    "\n",
    "def update_beta(state, a, b):\n",
    "    # http://bit.ly/1OnKGUb\n",
    "    i = 0\n",
    "    m = 0\n",
    "    k = 0\n",
    "    num_ierations = 200\n",
    "    M = state[\"num_docs\"]\n",
    "    K = state[\"num_topics\"]\n",
    "    alpha0 = 0\n",
    "    prec = 1**-5\n",
    "    for _ in range(num_iterations):\n",
    "        summk = 0\n",
    "        summ = 0\n",
    "        for m in range(M):\n",
    "            summ += digamma(K * alpha * state[\"n\"][\"doc\"][m])\n",
    "            for k in range(K):\n",
    "                summk += digamma(alpha * state[\"n\"][\"document_topic\"][m][k])\n",
    "        summ -= M * digamma(K * alpha)\n",
    "        summk -= M * K * digamma(alpha)\n",
    "        alpha = (a - 1 + alpha + summk) / (b + K * summ)\n",
    "        if abs(alpha - alpha0) < prec:\n",
    "            break\n",
    "        else:\n",
    "            alpha0 = alpha\n",
    "    \n",
    "    state[\"beta\"] = alpha\n",
    "    return state"
   ]
  },
  {
   "cell_type": "markdown",
   "metadata": {},
   "source": [
    "### Update Topics"
   ]
  },
  {
   "cell_type": "code",
   "execution_count": null,
   "metadata": {
    "collapsed": true
   },
   "outputs": [],
   "source": [
    "def sample_new_topic(state): # sample $\\tilde k$\n",
    "    # TODO: EQ 15\n",
    "    pass"
   ]
  },
  {
   "cell_type": "markdown",
   "metadata": {},
   "source": [
    "### Update Tau"
   ]
  },
  {
   "cell_type": "code",
   "execution_count": 18,
   "metadata": {
    "collapsed": false
   },
   "outputs": [],
   "source": [
    "def get_mk(state):\n",
    "    mk = (state[\"num_topics\"] + 1) * [0]\n",
    "    # for (int kk = 0; kk < K; kk++) {\n",
    "    for k, topic in range(state[\"used_topics\"]):\n",
    "        for doc_index in enumerate(state[\"docs\"]):\n",
    "            if state[\"n\"][\"document_topic\"][doc_index][topic] > 1:\n",
    "                mk += 0 # TODO: samp.randAntoniak\n",
    "            else:\n",
    "                mk[k] += state[\"n\"][\"document_topic\"][doc_index][topic]\n",
    "    return mk\n",
    "        \n",
    "def sample_tau(state):\n",
    "    # http://bit.ly/1baZucN\n",
    "    # EQ 17\n",
    "    \n",
    "    mk = get_mk(state)\n",
    "    T = sum(mk)\n",
    "    # TODO: THE FOLLOWING IS MESSED UP AND CONFUSED\n",
    "    mk[K] = state[\"gamma\"]\n",
    "    new_tau = dirichlet(mk).rvs()[0]\n",
    "    for k, topic in enumerate(state[\"used_topics\"]):\n",
    "        state[\"tau\"][topic] = mk[k]\n",
    "    state[\"tau\"][state[\"num_topics\"]]\n",
    "    ''\n",
    "#         // (36) sample tau\n",
    "#         double[] tt = samp.randDir(mk);\n",
    "#         for (int kk = 0; kk < K; kk++) {\n",
    "#             int k = kactive.get(kk);\n",
    "#             tau.set(k, tt[kk]);\n",
    "#         }\n",
    "#         tau.set(K, tt[K]);\n",
    "#     }"
   ]
  },
  {
   "cell_type": "markdown",
   "metadata": {},
   "source": [
    "### State Management"
   ]
  },
  {
   "cell_type": "code",
   "execution_count": null,
   "metadata": {
    "collapsed": true
   },
   "outputs": [],
   "source": [
    "def prune_topics(state):\n",
    "    empty_topics = set()\n",
    "    for topic in state['used_topics']:\n",
    "        if state['n']['topic'][topic] is 0:\n",
    "            # // prune empty topic k\n",
    "            empty_topics.add(topic)\n",
    "            \n",
    "            # K -= 1\n",
    "            state[\"num_topics\"] -= 1\n",
    "            # empty counts nm,k , nk,t , nk ;\n",
    "            state['n']['topic'][topic] = 0    \n",
    "            for doc_index, _ in enumerate(state[\"docs\"]):\n",
    "                state['n']['document_topic'][doc_index][topic] = 0\n",
    "            for term in state[\"vocabulary\"]:\n",
    "                state['n']['topic_term'][topic][term] = 0\n",
    "            \n",
    "    state[\"used_topics\"] = [topic for topic in state[\"unused_topics\"] \n",
    "                            if topic not in empty_topics]\n",
    "    state[\"unused_topics\"] += empty_topics\n",
    "    return state"
   ]
  },
  {
   "cell_type": "markdown",
   "metadata": {},
   "source": [
    "### Other Utilities"
   ]
  },
  {
   "cell_type": "markdown",
   "metadata": {},
   "source": [
    "#### Stirling Numbers"
   ]
  },
  {
   "cell_type": "code",
   "execution_count": 38,
   "metadata": {
    "collapsed": false
   },
   "outputs": [],
   "source": [
    "from repoze.lru import lru_cache"
   ]
  },
  {
   "cell_type": "code",
   "execution_count": 39,
   "metadata": {
    "collapsed": false
   },
   "outputs": [],
   "source": [
    "@lru_cache(maxsize=10000)\n",
    "def stirling(N, m):\n",
    "    if m == 0 and N > 0:\n",
    "        return 0\n",
    "    elif (N, m) == (0, 0):\n",
    "        return 1\n",
    "    elif N == 0 and m > 0:\n",
    "        return m\n",
    "    elif m > N:\n",
    "        return 0\n",
    "    else:\n",
    "        return stirling(N-1, m-1) + (N-1) * stirling(N-1, m)\n",
    "\n",
    "assert stirling(9, 3) == 118124\n",
    "assert stirling(9, 3) == 118124\n",
    "assert stirling(0, 0) == 1\n",
    "assert stirling(1, 1) == 1\n",
    "assert stirling(2, 9) == 0\n",
    "assert stirling(9, 6) == 4536"
   ]
  },
  {
   "cell_type": "markdown",
   "metadata": {},
   "source": [
    "### Run Me"
   ]
  },
  {
   "cell_type": "code",
   "execution_count": 129,
   "metadata": {
    "collapsed": false
   },
   "outputs": [
    {
     "data": {
      "text/plain": [
       "['num_topics',\n",
       " 'num_docs',\n",
       " 'docs',\n",
       " 'doc_word_topic_assignment',\n",
       " 'n',\n",
       " 'num_terms']"
      ]
     },
     "execution_count": 129,
     "metadata": {},
     "output_type": "execute_result"
    }
   ],
   "source": [
    "s = initialize(state, docs)\n",
    "s.keys()"
   ]
  }
 ],
 "metadata": {
  "kernelspec": {
   "display_name": "Python 2",
   "language": "python",
   "name": "python2"
  },
  "language_info": {
   "codemirror_mode": {
    "name": "ipython",
    "version": 2
   },
   "file_extension": ".py",
   "mimetype": "text/x-python",
   "name": "python",
   "nbconvert_exporter": "python",
   "pygments_lexer": "ipython2",
   "version": "2.7.9"
  }
 },
 "nbformat": 4,
 "nbformat_minor": 0
}
