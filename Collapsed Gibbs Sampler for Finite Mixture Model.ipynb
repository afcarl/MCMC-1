{
 "metadata": {
  "name": "",
  "signature": "sha256:fe8c1fee04af1db8c60d31f752963be198caa13ec02d5fc972d63c18d09ff972"
 },
 "nbformat": 3,
 "nbformat_minor": 0,
 "worksheets": [
  {
   "cells": [
    {
     "cell_type": "code",
     "collapsed": false,
     "input": [
      "import numpy as np\n",
      "import matplotlib.pyplot as plt\n",
      "\n",
      "from scipy import stats\n",
      "from numpy import random\n",
      "from collections import namedtuple, Counter"
     ],
     "language": "python",
     "metadata": {},
     "outputs": [],
     "prompt_number": 1
    },
    {
     "cell_type": "code",
     "collapsed": false,
     "input": [
      "def generate(weights, means, var, N):\n",
      "    \"\"\"Generate data from a mixture model with fixed mean variance\n",
      "    \"\"\"\n",
      "    samples = []\n",
      "    components = []\n",
      "    assert(len(weights) == len(means))\n",
      "    assert(sum(weights) == 1)\n",
      "    for i in range(N):\n",
      "        component = random.choice(range(len(means)), p=weights)\n",
      "        samples.append(random.normal(means[component], np.sqrt(var)))\n",
      "        components.append(component)\n",
      "    return np.array(samples), np.array(components)"
     ],
     "language": "python",
     "metadata": {},
     "outputs": [],
     "prompt_number": 2
    },
    {
     "cell_type": "markdown",
     "metadata": {},
     "source": [
      "__Algorithm 24.1__ in Murphy provides \"Collapsed Gibbs sampler for a mixture model\". This is any finite mixture model with a (1) fully conjugate prior and (2) symmetric prior on the class weights: $\\boldsymbol\\pi \\sim \\text{Dir}(\\boldsymbol\\alpha)$.\n",
      "\n",
      "![](https://raw.githubusercontent.com/tdhopper/mcmc/master/figs/collapsed-gibbs.png)\n",
      "\n",
      "We need to know the posterior predictive distribution for the model. In our case, each class is normally distributed with a normal prior ($\\mathcal N(\\mu_0,\\sigma_0^2)$) on the class mean and known class variance ($\\sigma_2$).\n",
      "\n",
      "In [__Conjugate Bayesian analysis of the Gaussian distribution__](http://www.cs.ubc.ca/~murphyk/Papers/bayesGauss.pdf), Murphy provides the posterior predictive distribution for this model (equation (40)):\n",
      "\n",
      "$$X \\sim \\mathcal N(\\mu_n, \\sigma_n^2 + \\sigma^2)$$ \n",
      "\n",
      "where\n",
      "\n",
      "\\begin{align}\n",
      "    \\sigma_n^2 &= \\frac{1}{\\frac{n}{\\sigma^2}+\\frac{1}{\\sigma^2_0}}\\\\\n",
      "    \\mu_n &= \\sigma_n^2\\left(\\frac{\\mu_0}{\\sigma_0^2} + \\frac{n  x}{\\sigma^2} \\right).\n",
      "\\end{align}"
     ]
    },
    {
     "cell_type": "markdown",
     "metadata": {},
     "source": [
      "The PDF for the Dirichlet distribution is\n",
      "\n",
      "\\begin{equation} \n",
      "P(z_1,\\ldots,z_N | \\alpha) = \\frac{\\Gamma(\\alpha)}{\\Gamma(N+\\alpha)}\\prod_{k=1}\\frac{\\Gamma(N_k+\\alpha/K)}{\\Gamma(\\alpha/K)}\n",
      "\\end{equation}\n",
      "\n",
      "If we define $N_{k,-i}=\\sum_{n\\neq i} \\mathbb 1(z_n=k)=N_k-1$, then the full conditional for $z_i$ is:\n",
      "\n",
      "\\begin{align}\n",
      "    p(z_i=k | \\boldsymbol z_{-i}, \\alpha) \n",
      "        &= \\frac{p(\\boldsymbol{z}_{1:N}|\\alpha)}{p(\\boldsymbol z_{-i}|\\alpha)} \\\\\n",
      "        &= \\frac{\\frac{1}{\\Gamma(N+\\alpha)}}{\\frac{1}{\\Gamma(N+\\alpha-1)}} \\times\n",
      "            \\frac{\\Gamma(N_k+\\alpha/K)}{\\Gamma(N_{k,-i}+\\alpha/K)} \\\\\n",
      "        &= \\frac{\\Gamma(N+\\alpha-1)}{\\Gamma(N+\\alpha)} \\times\n",
      "            \\frac{\\Gamma(N_{k,-1}+1+\\alpha/K)}{\\Gamma(N_{k,-i}+\\alpha/K)} \\\\\n",
      "        &= \\frac{N_{k,-i}+\\alpha/K}{N+\\alpha-1}\\;\\;\\; \\Tiny {(\\text{since }\\Gamma(x+1)=x\\Gamma(x))}.\n",
      "\\end{align}\n"
     ]
    },
    {
     "cell_type": "code",
     "collapsed": false,
     "input": [
      "class SuffStat(namedtuple('SuffStat', 'N mu')):\n",
      "    def __str__(self):\n",
      "        return \"%s %s %s %s\" % (\"N:\", self.N, \"mu:\", round(self.mu, 2))\n",
      "\n",
      "\n",
      "\n",
      "def add_datapoint_to_suffstats(x, suffstats):\n",
      "    \"\"\"Update sufficient stats for normal component with new datapoint\n",
      "    \"\"\"\n",
      "    N = suffstats.N + 1\n",
      "    mu = (suffstats.mu * (N - 1) + x) / N\n",
      "    return SuffStat(N, mu)\n",
      "\n",
      "\n",
      "def remove_datapoint_from_suffstats(x, suffstats):\n",
      "    \"\"\"Remove datapoint from sufficient stats for normal component\n",
      "    \"\"\"\n",
      "    N = suffstats.N - 1\n",
      "    mu = (suffstats.mu * (N + 1) - x * 1.0) / N\n",
      "    return SuffStat(N, mu)\n",
      "\n",
      "\n",
      "def posterior_predictive_score(x_i, suffstat, sigma2, prior_mu, prior_sigma2):\n",
      "    \"\"\"\n",
      "    From Section 2.3 of http://www.cs.ubc.ca/~murphyk/Papers/bayesGauss.pdf\n",
      "    \n",
      "    x_i: New data point\n",
      "    N: Number of current data points\n",
      "    mu: Current estimate of mu for component\n",
      "    sigma2: Known mu for component\n",
      "    prior_mu: Prior mean for mu (mu ~ Normal(prior_mu, prior_sigma2))\n",
      "    prior: Prior variance for mu (mu ~ Normal(prior_mu, prior_sigma2))\n",
      "    \"\"\"\n",
      "    posterior_sigma2 = 1 / (suffstat.N * 1.0 / sigma2 + 1.0 / prior_sigma2)\n",
      "    predictive_mu = posterior_sigma2 * (prior_mu / prior_sigma2 + suffstat.N * suffstat.mu / sigma2)\n",
      "    predictive_sigma2 = sigma2 + posterior_sigma2\n",
      "    predictive_sd = np.sqrt(predictive_sigma2)\n",
      "    \n",
      "    return np.log(stats.norm(predictive_mu, predictive_sd).pdf(x_i))\n",
      "\n",
      "def generate_suffstat(X):\n",
      "    X = np.array(X)\n",
      "    return SuffStat(N=len(X), mu=X.mean())\n",
      "\n",
      "def cluster_assign_score(current_cluster_size, num_clusters, alpha):\n",
      "    \"\"\"From Algorithm 24.1 in Murphy 2012\n",
      "    \n",
      "    What is the probability of the datapoint being in cluster?\n",
      "    \"\"\"\n",
      "    return np.log(current_cluster_size + alpha * 1.0 / num_clusters)"
     ],
     "language": "python",
     "metadata": {},
     "outputs": [],
     "prompt_number": 20
    },
    {
     "cell_type": "code",
     "collapsed": false,
     "input": [
      "# Generate data\n",
      "\n",
      "K = 3 # Number of components\n",
      "sigma2 = .2 # Fix variance for components\n",
      "N = 200 # Total number of samples for fake data\n",
      "pi = [.4, .4, .2] # Component weights for fake data\n",
      "\n",
      "X, components = generate(weights=pi, means=[-2, 0, 2], var=sigma2, N=N)\n",
      "_ = plt.hist(X)"
     ],
     "language": "python",
     "metadata": {},
     "outputs": [
      {
       "metadata": {},
       "output_type": "display_data",
       "png": "[encoded data removed]",
       "text": [
        "<matplotlib.figure.Figure at 0x10a21dc10>"
       ]
      }
     ],
     "prompt_number": 18
    },
    {
     "cell_type": "code",
     "collapsed": false,
     "input": [
      "K = 3\n",
      "ITERS = 10\n",
      "\n",
      "c = [random.choice(range(K)) for i in range(len(X))]\n",
      "all_suffstats = {k: generate_suffstat([x for x, assignment in zip(X, c) if assignment == k]) for k in range(K)}\n",
      "\n",
      "prior_mu, prior_sigma2 = [-1, 0, 1], [1, 1, 1]\n",
      "alpha = 1\n",
      "\n",
      "for iteration in range(ITERS):\n",
      "    for i, (datapoint, assignment) in enumerate(zip(X, c)):\n",
      "        current_suffstats_for_i = all_suffstats[assignment]\n",
      "        all_suffstats[assignment] = remove_datapoint_from_suffstats(datapoint, current_suffstats_for_i)\n",
      "        cluster_sizes = [cnt for _, cnt in sorted(Counter(c).most_common())]\n",
      "        predictive_score = np.array([posterior_predictive_score(datapoint, ss, sigma2, prior_mu[component], prior_sigma2[component])\n",
      "                  for component, ss in all_suffstats.iteritems()])\n",
      "        cluster_score = np.array([cluster_assign_score(cluster_sizes[component] - 1, K, alpha) \n",
      "                                    for component, ss in all_suffstats.iteritems()])\n",
      "        scores = predictive_score + cluster_score\n",
      "        scores = np.exp(scores) / np.exp(scores).sum()\n",
      "\n",
      "        new_component = random.choice(range(K), p=scores)\n",
      "        c[i] = new_component\n",
      "        all_suffstats[new_component] = add_datapoint_to_suffstats(datapoint, all_suffstats[new_component])\n",
      "    print 'iteration', iteration + 1\n",
      "    for k, v in all_suffstats.iteritems():\n",
      "        print \"\\t\", k, v"
     ],
     "language": "python",
     "metadata": {},
     "outputs": [
      {
       "output_type": "stream",
       "stream": "stdout",
       "text": [
        "iteration 1\n",
        "\t0 N: 83 mu: 0.95\n",
        "\t1 N: 83 mu: -1.95\n",
        "\t2 N: 34 mu: -0.71\n",
        "iteration"
       ]
      },
      {
       "output_type": "stream",
       "stream": "stdout",
       "text": [
        " 2\n",
        "\t0 N: 59 mu: 1.35\n",
        "\t1 N: 84 mu: -2.02\n",
        "\t2 N: 57 mu: -0.3\n",
        "iteration"
       ]
      },
      {
       "output_type": "stream",
       "stream": "stdout",
       "text": [
        " 3\n",
        "\t0 N: 41 mu: 1.81\n",
        "\t1 N: 90 mu: -1.95\n",
        "\t2 N: 69 mu: -0.08\n",
        "iteration"
       ]
      },
      {
       "output_type": "stream",
       "stream": "stdout",
       "text": [
        " 4\n",
        "\t0 N: 37 mu: 1.95\n",
        "\t1 N: 89 mu: -1.97\n",
        "\t2 N: 74 mu: -0.05\n",
        "iteration"
       ]
      },
      {
       "output_type": "stream",
       "stream": "stdout",
       "text": [
        " 5\n",
        "\t0 N: 38 mu: 1.92\n",
        "\t1 N: 89 mu: -1.97\n",
        "\t2 N: 73 mu: -0.07\n",
        "iteration"
       ]
      },
      {
       "output_type": "stream",
       "stream": "stdout",
       "text": [
        " 6\n",
        "\t0 N: 37 mu: 1.95\n",
        "\t1 N: 87 mu: -1.99\n",
        "\t2 N: 76 mu: -0.08\n",
        "iteration"
       ]
      },
      {
       "output_type": "stream",
       "stream": "stdout",
       "text": [
        " 7\n",
        "\t0 N: 37 mu: 1.95\n",
        "\t1 N: 88 mu: -1.98\n",
        "\t2 N: 75 mu: -0.07\n",
        "iteration"
       ]
      },
      {
       "output_type": "stream",
       "stream": "stdout",
       "text": [
        " 8\n",
        "\t0 N: 39 mu: 1.9\n",
        "\t1 N: 89 mu: -1.97\n",
        "\t2 N: 72 mu: -0.08\n",
        "iteration"
       ]
      },
      {
       "output_type": "stream",
       "stream": "stdout",
       "text": [
        " 9\n",
        "\t0 N: 37 mu: 1.94\n",
        "\t1 N: 90 mu: -1.96\n",
        "\t2 N: 73 mu: -0.03\n",
        "iteration"
       ]
      },
      {
       "output_type": "stream",
       "stream": "stdout",
       "text": [
        " 10\n",
        "\t0 N: 37 mu: 1.95\n",
        "\t1 N: 90 mu: -1.95\n",
        "\t2 N: 73 mu: -0.05\n"
       ]
      }
     ],
     "prompt_number": 21
    },
    {
     "cell_type": "code",
     "collapsed": false,
     "input": [],
     "language": "python",
     "metadata": {},
     "outputs": []
    },
    {
     "cell_type": "code",
     "collapsed": false,
     "input": [],
     "language": "python",
     "metadata": {},
     "outputs": []
    }
   ],
   "metadata": {}
  }
 ]
}