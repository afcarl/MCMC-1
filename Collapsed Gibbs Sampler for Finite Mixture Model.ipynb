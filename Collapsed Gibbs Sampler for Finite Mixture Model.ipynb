{
 "metadata": {
  "name": "",
  "signature": "sha256:9c8012dde031d55b76e92d6939c6b5c670dc24fcd680652f8c863d0a32d3c564"
 },
 "nbformat": 3,
 "nbformat_minor": 0,
 "worksheets": [
  {
   "cells": [
    {
     "cell_type": "code",
     "collapsed": false,
     "input": [
      "import numpy as np\n",
      "import matplotlib.pyplot as plt\n",
      "\n",
      "from scipy import stats\n",
      "from numpy import random\n",
      "from collections import namedtuple, Counter"
     ],
     "language": "python",
     "metadata": {},
     "outputs": [],
     "prompt_number": 1
    },
    {
     "cell_type": "code",
     "collapsed": false,
     "input": [
      "def generate(weights, means, var, N):\n",
      "    \"\"\"Generate data from a mixture model with fixed mean variance\n",
      "    \"\"\"\n",
      "    samples = []\n",
      "    components = []\n",
      "    assert(len(weights) == len(means))\n",
      "    assert(sum(weights) == 1)\n",
      "    for i in range(N):\n",
      "        component = random.choice(range(len(means)), p=weights)\n",
      "        samples.append(random.normal(means[component], np.sqrt(var)))\n",
      "        components.append(component)\n",
      "    return np.array(samples), np.array(components)"
     ],
     "language": "python",
     "metadata": {},
     "outputs": [],
     "prompt_number": 2
    },
    {
     "cell_type": "markdown",
     "metadata": {},
     "source": [
      "__Algorithm 24.1__ in Murphy provides \"Collapsed Gibbs sampler for a mixture model\". This is any finite mixture model with a (1) fully conjugate prior and (2) symmetric prior on the class weights: $\\boldsymbol\\pi \\sim \\text{Dir}(\\boldsymbol\\alpha)$.\n",
      "\n",
      "![](https://raw.githubusercontent.com/tdhopper/mcmc/master/figs/collapsed-gibbs.png)\n",
      "\n",
      "We need to know the posterior predictive distribution for the model. In our case, each class is normally distributed with a normal prior ($\\mathcal N(\\mu_0,\\sigma_0^2)$) on the class mean and known class variance ($\\sigma_2$).\n",
      "\n",
      "In [__Conjugate Bayesian analysis of the Gaussian distribution__](http://www.cs.ubc.ca/~murphyk/Papers/bayesGauss.pdf), Murphy provides the posterior predictive distribution for this model (equation (40)):\n",
      "\n",
      "$$X \\sim \\mathcal N(\\mu_n, \\sigma_n^2 + \\sigma^2)$$ \n",
      "\n",
      "where\n",
      "\n",
      "\\begin{align}\n",
      "    \\sigma_n^2 &= \\frac{1}{\\frac{n}{\\sigma^2}+\\frac{1}{\\sigma^2_0}}\\\\\n",
      "    \\mu_n &= \\sigma_n^2\\left(\\frac{\\mu_0}{\\sigma_0^2} + \\frac{n  x}{\\sigma^2} \\right).\n",
      "\\end{align}\n",
      "\n",
      "The PDF for the Dirichlet distribution is\n",
      "\n",
      "\\begin{equation} \n",
      "P(z_1,\\ldots,z_N | \\alpha) = \\frac{\\Gamma(\\alpha)}{\\Gamma(N+\\alpha)}\\prod_{k=1}\\frac{\\Gamma(N_k+\\alpha/K)}{\\Gamma(\\alpha/K)}\n",
      "\\end{equation}\n",
      "\n",
      "If we define $N_{k,-i}=\\sum_{n\\neq i} \\mathbb 1(z_n=k)=N_k-1$, then the full conditional for $z_i$ is:\n",
      "\n",
      "\\begin{align}\n",
      "    p(z_i=k | \\boldsymbol z_{-i}, \\alpha) \n",
      "        &= \\frac{p(\\boldsymbol{z}_{1:N}|\\alpha)}{p(\\boldsymbol z_{-i}|\\alpha)} \\\\\n",
      "        &= \\frac{\\frac{1}{\\Gamma(N+\\alpha)}}{\\frac{1}{\\Gamma(N+\\alpha-1)}} \\times\n",
      "            \\frac{\\Gamma(N_k+\\alpha/K)}{\\Gamma(N_{k,-i}+\\alpha/K)} \\\\\n",
      "        &= \\frac{\\Gamma(N+\\alpha-1)}{\\Gamma(N+\\alpha)} \\times\n",
      "            \\frac{\\Gamma(N_{k,-1}+1+\\alpha/K)}{\\Gamma(N_{k,-i}+\\alpha/K)} \\\\\n",
      "        &= \\frac{N_{k,-i}+\\alpha/K}{N+\\alpha-1}\\;\\;\\; \\Tiny {(\\text{since }\\Gamma(x+1)=x\\Gamma(x))}.\n",
      "\\end{align}\n"
     ]
    },
    {
     "cell_type": "code",
     "collapsed": false,
     "input": [
      "class SuffStat(namedtuple('SuffStat', 'N mu')):\n",
      "    def __str__(self):\n",
      "        return \"%s %4i %s %-3.2f\" % (\"N_{ss}:\", self.N, \"mu_{ss}:\", self.mu)\n",
      "\n",
      "Params = namedtuple('Params', 'pi mu')\n",
      "\n",
      "\n",
      "def add_datapoint_to_suffstats(x, suffstats):\n",
      "    \"\"\"Update sufficient stats for normal component with new datapoint\n",
      "    \"\"\"\n",
      "    N = suffstats.N + 1\n",
      "    mu = (suffstats.mu * (N - 1) + x) / N\n",
      "    return SuffStat(N, mu)\n",
      "\n",
      "\n",
      "def remove_datapoint_from_suffstats(x, suffstats):\n",
      "    \"\"\"Remove datapoint from sufficient stats for normal component\n",
      "    \"\"\"\n",
      "    N = suffstats.N - 1\n",
      "    mu = (suffstats.mu * (N + 1) - x * 1.0) / N\n",
      "    return SuffStat(N, mu)\n",
      "\n",
      "\n",
      "def posterior_predictive_score(x_i, suffstat, sigma2, prior_mu, prior_sigma2):\n",
      "    \"\"\"\n",
      "    From Section 2.3 of http://www.cs.ubc.ca/~murphyk/Papers/bayesGauss.pdf\n",
      "    \n",
      "    x_i: New data point\n",
      "    N: Number of current data points\n",
      "    mu: Current estimate of mu for component\n",
      "    sigma2: Known mu for component\n",
      "    prior_mu: Prior mean for mu (mu ~ Normal(prior_mu, prior_sigma2))\n",
      "    prior: Prior variance for mu (mu ~ Normal(prior_mu, prior_sigma2))\n",
      "    \"\"\"\n",
      "    \n",
      "    posterior_sigma2 = 1 / (suffstat.N * 1.0 / sigma2 + 1.0 / prior_sigma2)\n",
      "    predictive_mu = posterior_sigma2 * (prior_mu / prior_sigma2 + suffstat.N * suffstat.mu / sigma2)\n",
      "    predictive_sigma2 = sigma2 + posterior_sigma2\n",
      "    predictive_sd = np.sqrt(predictive_sigma2)\n",
      "    \n",
      "    return np.log(stats.norm(predictive_mu, predictive_sd).pdf(x_i))\n",
      "\n",
      "def generate_suffstat(X):\n",
      "    X = np.array(X)\n",
      "    return SuffStat(N=len(X), mu=X.mean())\n",
      "\n",
      "def cluster_assign_score(current_cluster_size, num_clusters, alpha):\n",
      "    \"\"\"From Algorithm 24.1 in Murphy 2012\n",
      "    \n",
      "    What is the probability of the datapoint being in cluster?\n",
      "    \"\"\"\n",
      "    return np.log(current_cluster_size + alpha * 1.0 / num_clusters)\n",
      "\n",
      "\n",
      "\n",
      "def sample_marginalized_parameters(suffstats, alpha, prior_mu, prior_sigma2, sigma2, num_clusters):\n",
      "    pi = stats.dirichlet([n + alpha * 1.0 / num_clusters for n, _ in suffstats]).rvs()[0]\n",
      "    ## TODO\n",
      "    mus = []\n",
      "    for n, suffstat in enumerate(suffstats):\n",
      "        numerator = (prior_mu / prior_sigma2 + suffstat.mu * suffstat.N / sigma2)\n",
      "        denominator = 1.0 / prior_sigma2 + suffstat.N / sigma2\n",
      "        posterior_mu = numerator / denominator\n",
      "        posterior_sigma2 = 1.0 / (1.0 / prior_sigma2 + suffstat.N)\n",
      "        mus.append(stats.norm(posterior_mu, posterior_sigma2).rvs())\n",
      "    return Params(pi, np.array(mus))\n",
      "        "
     ],
     "language": "python",
     "metadata": {},
     "outputs": [],
     "prompt_number": 3
    },
    {
     "cell_type": "code",
     "collapsed": false,
     "input": [
      "# Generate data\n",
      "\n",
      "K = 3 # Number of components\n",
      "sigma2 = .3 # Fix variance for components\n",
      "N = 100 # Total number of samples for fake data\n",
      "pi = [.5, .4, .1] # Component weights for fake data\n",
      "\n",
      "X, components = generate(weights=pi, means=[-2, 0, 2], var=sigma2, N=N)\n",
      "_ = plt.hist(X)"
     ],
     "language": "python",
     "metadata": {},
     "outputs": [
      {
       "metadata": {},
       "output_type": "display_data",
       "png": "[encoded data removed]",
       "text": [
        "<matplotlib.figure.Figure at 0x10971cd10>"
       ]
      }
     ],
     "prompt_number": 4
    },
    {
     "cell_type": "code",
     "collapsed": false,
     "input": [
      "K = 3\n",
      "ITERS = 100\n",
      "\n",
      "c = [random.choice(range(K)) for i in range(len(X))]\n",
      "all_suffstats = {k: generate_suffstat([x for x, assignment in zip(X, c) if assignment == k]) for k in range(K)}\n",
      "\n",
      "prior_mu, prior_sigma2 = 0, 3\n",
      "alpha = 1\n",
      "\n",
      "posterior_c_dist = []\n",
      "posterior_mu_dist = []\n",
      "posterior_pi_dist = []\n",
      "\n",
      "for iteration in range(ITERS):\n",
      "    for i, (datapoint, assignment) in enumerate(zip(X, c)):\n",
      "        current_suffstats_for_i = all_suffstats[assignment]\n",
      "        all_suffstats[assignment] = remove_datapoint_from_suffstats(datapoint, current_suffstats_for_i)\n",
      "        counts = Counter(c)\n",
      "        cluster_sizes = [counts.get(k, 0) for k in range(K)]\n",
      "        predictive_score = np.array([posterior_predictive_score(datapoint, ss, sigma2, prior_mu, prior_sigma2)\n",
      "                  for component, ss in all_suffstats.iteritems()])\n",
      "        cluster_score = np.array([cluster_assign_score(cluster_sizes[component] - 1, K, alpha) \n",
      "                                    for component, ss in all_suffstats.iteritems()])\n",
      "        scores = predictive_score + cluster_score\n",
      "        scores = np.exp(scores) / np.exp(scores).sum()\n",
      "\n",
      "        new_component = random.choice(range(K), p=scores)\n",
      "        c[i] = new_component\n",
      "                \n",
      "        all_suffstats[new_component] = add_datapoint_to_suffstats(datapoint, all_suffstats[new_component])\n",
      "        \n",
      "    pi, mu = sample_marginalized_parameters(all_suffstats.values(), alpha, prior_mu, prior_sigma2, sigma2, K)\n",
      "    posterior_c_dist.append(c[:])\n",
      "    posterior_mu_dist.append(mu)\n",
      "    posterior_pi_dist.append(pi)\n",
      "    print 'iteration', iteration + 1\n",
      "    # TODO: Print total model score (should decrease over time)\n",
      "    for k, v in all_suffstats.iteritems():\n",
      "        print \"\\t\", k, v"
     ],
     "language": "python",
     "metadata": {},
     "outputs": [
      {
       "output_type": "stream",
       "stream": "stdout",
       "text": [
        "iteration 1\n",
        "\t0 N_{ss}:   43 mu_{ss}: -1.99\n",
        "\t1 N_{ss}:   48 mu_{ss}: 0.15\n",
        "\t2 N_{ss}:    9 mu_{ss}: -1.43\n",
        "iteration"
       ]
      },
      {
       "output_type": "stream",
       "stream": "stdout",
       "text": [
        " 2\n",
        "\t0 N_{ss}:   46 mu_{ss}: -2.06\n",
        "\t1 N_{ss}:   40 mu_{ss}: 0.50\n",
        "\t2 N_{ss}:   14 mu_{ss}: -1.17\n",
        "iteration"
       ]
      },
      {
       "output_type": "stream",
       "stream": "stdout",
       "text": [
        " 3\n",
        "\t0 N_{ss}:   42 mu_{ss}: -2.12\n",
        "\t1 N_{ss}:   43 mu_{ss}: 0.43\n",
        "\t2 N_{ss}:   15 mu_{ss}: -1.36\n",
        "iteration"
       ]
      },
      {
       "output_type": "stream",
       "stream": "stdout",
       "text": [
        " 4\n",
        "\t0 N_{ss}:   45 mu_{ss}: -2.09\n",
        "\t1 N_{ss}:   41 mu_{ss}: 0.46\n",
        "\t2 N_{ss}:   14 mu_{ss}: -1.13\n",
        "iteration"
       ]
      },
      {
       "output_type": "stream",
       "stream": "stdout",
       "text": [
        " 5\n",
        "\t0 N_{ss}:   45 mu_{ss}: -2.05\n",
        "\t1 N_{ss}:   41 mu_{ss}: 0.46\n",
        "\t2 N_{ss}:   14 mu_{ss}: -1.25\n",
        "iteration"
       ]
      },
      {
       "output_type": "stream",
       "stream": "stdout",
       "text": [
        " 6\n",
        "\t0 N_{ss}:   50 mu_{ss}: -2.05\n",
        "\t1 N_{ss}:   38 mu_{ss}: 0.54\n",
        "\t2 N_{ss}:   12 mu_{ss}: -0.73\n",
        "iteration"
       ]
      },
      {
       "output_type": "stream",
       "stream": "stdout",
       "text": [
        " 7\n",
        "\t0 N_{ss}:   49 mu_{ss}: -2.04\n",
        "\t1 N_{ss}:   31 mu_{ss}: 0.71\n",
        "\t2 N_{ss}:   20 mu_{ss}: -0.66\n",
        "iteration"
       ]
      },
      {
       "output_type": "stream",
       "stream": "stdout",
       "text": [
        " 8\n",
        "\t0 N_{ss}:   47 mu_{ss}: -2.11\n",
        "\t1 N_{ss}:   21 mu_{ss}: 0.93\n",
        "\t2 N_{ss}:   32 mu_{ss}: -0.36\n",
        "iteration"
       ]
      },
      {
       "output_type": "stream",
       "stream": "stdout",
       "text": [
        " 9\n",
        "\t0 N_{ss}:   49 mu_{ss}: -2.08\n",
        "\t1 N_{ss}:   13 mu_{ss}: 1.32\n",
        "\t2 N_{ss}:   38 mu_{ss}: -0.16\n",
        "iteration"
       ]
      },
      {
       "output_type": "stream",
       "stream": "stdout",
       "text": [
        " 10\n",
        "\t0 N_{ss}:   53 mu_{ss}: -2.00\n",
        "\t1 N_{ss}:    7 mu_{ss}: 2.04\n",
        "\t2 N_{ss}:   40 mu_{ss}: 0.02\n",
        "iteration"
       ]
      },
      {
       "output_type": "stream",
       "stream": "stdout",
       "text": [
        " 11\n",
        "\t0 N_{ss}:   52 mu_{ss}: -2.02\n",
        "\t1 N_{ss}:    3 mu_{ss}: 3.14\n",
        "\t2 N_{ss}:   45 mu_{ss}: 0.10\n",
        "iteration"
       ]
      },
      {
       "output_type": "stream",
       "stream": "stdout",
       "text": [
        " 12\n",
        "\t0 N_{ss}:   51 mu_{ss}: -2.05\n",
        "\t1 N_{ss}:    3 mu_{ss}: 3.14\n",
        "\t2 N_{ss}:   46 mu_{ss}: 0.08\n",
        "iteration"
       ]
      },
      {
       "output_type": "stream",
       "stream": "stdout",
       "text": [
        " 13\n",
        "\t0 N_{ss}:   53 mu_{ss}: -2.01\n",
        "\t1 N_{ss}:    3 mu_{ss}: 3.14\n",
        "\t2 N_{ss}:   44 mu_{ss}: 0.14\n",
        "iteration"
       ]
      },
      {
       "output_type": "stream",
       "stream": "stdout",
       "text": [
        " 14\n",
        "\t0 N_{ss}:   55 mu_{ss}: -1.96\n",
        "\t1 N_{ss}:    3 mu_{ss}: 3.14\n",
        "\t2 N_{ss}:   42 mu_{ss}: 0.17\n",
        "iteration"
       ]
      },
      {
       "output_type": "stream",
       "stream": "stdout",
       "text": [
        " 15\n",
        "\t0 N_{ss}:   53 mu_{ss}: -1.99\n",
        "\t1 N_{ss}:    4 mu_{ss}: 2.70\n",
        "\t2 N_{ss}:   43 mu_{ss}: 0.08\n",
        "iteration"
       ]
      },
      {
       "output_type": "stream",
       "stream": "stdout",
       "text": [
        " 16\n",
        "\t0 N_{ss}:   52 mu_{ss}: -2.02\n",
        "\t1 N_{ss}:    3 mu_{ss}: 3.14\n",
        "\t2 N_{ss}:   45 mu_{ss}: 0.11\n",
        "iteration"
       ]
      },
      {
       "output_type": "stream",
       "stream": "stdout",
       "text": [
        " 17\n",
        "\t0 N_{ss}:   52 mu_{ss}: -2.01\n",
        "\t1 N_{ss}:    3 mu_{ss}: 3.14\n",
        "\t2 N_{ss}:   45 mu_{ss}: 0.09\n",
        "iteration"
       ]
      },
      {
       "output_type": "stream",
       "stream": "stdout",
       "text": [
        " 18\n",
        "\t0 N_{ss}:   51 mu_{ss}: -2.04\n",
        "\t1 N_{ss}:    3 mu_{ss}: 3.14\n",
        "\t2 N_{ss}:   46 mu_{ss}: 0.07\n",
        "iteration"
       ]
      },
      {
       "output_type": "stream",
       "stream": "stdout",
       "text": [
        " 19\n",
        "\t0 N_{ss}:   54 mu_{ss}: -1.97\n",
        "\t1 N_{ss}:    3 mu_{ss}: 3.14\n",
        "\t2 N_{ss}:   43 mu_{ss}: 0.14\n",
        "iteration"
       ]
      },
      {
       "output_type": "stream",
       "stream": "stdout",
       "text": [
        " 20\n",
        "\t0 N_{ss}:   51 mu_{ss}: -2.04\n",
        "\t1 N_{ss}:    3 mu_{ss}: 3.14\n",
        "\t2 N_{ss}:   46 mu_{ss}: 0.08\n",
        "iteration"
       ]
      },
      {
       "output_type": "stream",
       "stream": "stdout",
       "text": [
        " 21\n",
        "\t0 N_{ss}:   56 mu_{ss}: -1.94\n",
        "\t1 N_{ss}:    3 mu_{ss}: 3.14\n",
        "\t2 N_{ss}:   41 mu_{ss}: 0.20\n",
        "iteration"
       ]
      },
      {
       "output_type": "stream",
       "stream": "stdout",
       "text": [
        " 22\n",
        "\t0 N_{ss}:   54 mu_{ss}: -1.98\n",
        "\t1 N_{ss}:    3 mu_{ss}: 3.14\n",
        "\t2 N_{ss}:   43 mu_{ss}: 0.15\n",
        "iteration"
       ]
      },
      {
       "output_type": "stream",
       "stream": "stdout",
       "text": [
        " 23\n",
        "\t0 N_{ss}:   52 mu_{ss}: -2.03\n",
        "\t1 N_{ss}:    3 mu_{ss}: 3.14\n",
        "\t2 N_{ss}:   45 mu_{ss}: 0.11\n",
        "iteration"
       ]
      },
      {
       "output_type": "stream",
       "stream": "stdout",
       "text": [
        " 24\n",
        "\t0 N_{ss}:   54 mu_{ss}: -1.99\n",
        "\t1 N_{ss}:    3 mu_{ss}: 3.14\n",
        "\t2 N_{ss}:   43 mu_{ss}: 0.16\n",
        "iteration"
       ]
      },
      {
       "output_type": "stream",
       "stream": "stdout",
       "text": [
        " 25\n",
        "\t0 N_{ss}:   53 mu_{ss}: -2.01\n",
        "\t1 N_{ss}:    3 mu_{ss}: 3.14\n",
        "\t2 N_{ss}:   44 mu_{ss}: 0.14\n",
        "iteration"
       ]
      },
      {
       "output_type": "stream",
       "stream": "stdout",
       "text": [
        " 26\n",
        "\t0 N_{ss}:   55 mu_{ss}: -1.97\n",
        "\t1 N_{ss}:    3 mu_{ss}: 3.14\n",
        "\t2 N_{ss}:   42 mu_{ss}: 0.18\n",
        "iteration"
       ]
      },
      {
       "output_type": "stream",
       "stream": "stdout",
       "text": [
        " 27\n",
        "\t0 N_{ss}:   54 mu_{ss}: -1.95\n",
        "\t1 N_{ss}:    3 mu_{ss}: 3.14\n",
        "\t2 N_{ss}:   43 mu_{ss}: 0.11\n",
        "iteration"
       ]
      },
      {
       "output_type": "stream",
       "stream": "stdout",
       "text": [
        " 28\n",
        "\t0 N_{ss}:   52 mu_{ss}: -2.02\n",
        "\t1 N_{ss}:    3 mu_{ss}: 3.14\n",
        "\t2 N_{ss}:   45 mu_{ss}: 0.10\n",
        "iteration"
       ]
      },
      {
       "output_type": "stream",
       "stream": "stdout",
       "text": [
        " 29\n",
        "\t0 N_{ss}:   51 mu_{ss}: -2.05\n",
        "\t1 N_{ss}:    3 mu_{ss}: 3.14\n",
        "\t2 N_{ss}:   46 mu_{ss}: 0.09\n",
        "iteration"
       ]
      },
      {
       "output_type": "stream",
       "stream": "stdout",
       "text": [
        " 30\n",
        "\t0 N_{ss}:   52 mu_{ss}: -2.03\n",
        "\t1 N_{ss}:    3 mu_{ss}: 3.14\n",
        "\t2 N_{ss}:   45 mu_{ss}: 0.12\n",
        "iteration"
       ]
      },
      {
       "output_type": "stream",
       "stream": "stdout",
       "text": [
        " 31\n",
        "\t0 N_{ss}:   51 mu_{ss}: -2.04\n",
        "\t1 N_{ss}:    3 mu_{ss}: 3.14\n",
        "\t2 N_{ss}:   46 mu_{ss}: 0.08\n",
        "iteration"
       ]
      },
      {
       "output_type": "stream",
       "stream": "stdout",
       "text": [
        " 32\n",
        "\t0 N_{ss}:   50 mu_{ss}: -2.06\n",
        "\t1 N_{ss}:    3 mu_{ss}: 3.14\n",
        "\t2 N_{ss}:   47 mu_{ss}: 0.05\n",
        "iteration"
       ]
      },
      {
       "output_type": "stream",
       "stream": "stdout",
       "text": [
        " 33\n",
        "\t0 N_{ss}:   54 mu_{ss}: -1.99\n",
        "\t1 N_{ss}:    3 mu_{ss}: 3.14\n",
        "\t2 N_{ss}:   43 mu_{ss}: 0.16\n",
        "iteration"
       ]
      },
      {
       "output_type": "stream",
       "stream": "stdout",
       "text": [
        " 34\n",
        "\t0 N_{ss}:   54 mu_{ss}: -1.98\n",
        "\t1 N_{ss}:    3 mu_{ss}: 3.14\n",
        "\t2 N_{ss}:   43 mu_{ss}: 0.15\n",
        "iteration"
       ]
      },
      {
       "output_type": "stream",
       "stream": "stdout",
       "text": [
        " 35\n",
        "\t0 N_{ss}:   55 mu_{ss}: -1.96\n",
        "\t1 N_{ss}:    3 mu_{ss}: 3.14\n",
        "\t2 N_{ss}:   42 mu_{ss}: 0.17\n",
        "iteration"
       ]
      },
      {
       "output_type": "stream",
       "stream": "stdout",
       "text": [
        " 36\n",
        "\t0 N_{ss}:   52 mu_{ss}: -2.01\n",
        "\t1 N_{ss}:    3 mu_{ss}: 3.14\n",
        "\t2 N_{ss}:   45 mu_{ss}: 0.09\n",
        "iteration"
       ]
      },
      {
       "output_type": "stream",
       "stream": "stdout",
       "text": [
        " 37\n",
        "\t0 N_{ss}:   51 mu_{ss}: -2.05\n",
        "\t1 N_{ss}:    3 mu_{ss}: 3.14\n",
        "\t2 N_{ss}:   46 mu_{ss}: 0.09\n",
        "iteration"
       ]
      },
      {
       "output_type": "stream",
       "stream": "stdout",
       "text": [
        " 38\n",
        "\t0 N_{ss}:   54 mu_{ss}: -1.98\n",
        "\t1 N_{ss}:    3 mu_{ss}: 3.14\n",
        "\t2 N_{ss}:   43 mu_{ss}: 0.15\n",
        "iteration"
       ]
      },
      {
       "output_type": "stream",
       "stream": "stdout",
       "text": [
        " 39\n",
        "\t0 N_{ss}:   52 mu_{ss}: -2.03\n",
        "\t1 N_{ss}:    3 mu_{ss}: 3.14\n",
        "\t2 N_{ss}:   45 mu_{ss}: 0.11\n",
        "iteration"
       ]
      },
      {
       "output_type": "stream",
       "stream": "stdout",
       "text": [
        " 40\n",
        "\t0 N_{ss}:   53 mu_{ss}: -2.01\n",
        "\t1 N_{ss}:    3 mu_{ss}: 3.14\n",
        "\t2 N_{ss}:   44 mu_{ss}: 0.14\n",
        "iteration"
       ]
      },
      {
       "output_type": "stream",
       "stream": "stdout",
       "text": [
        " 41\n",
        "\t0 N_{ss}:   54 mu_{ss}: -1.97\n",
        "\t1 N_{ss}:    3 mu_{ss}: 3.14\n",
        "\t2 N_{ss}:   43 mu_{ss}: 0.14\n",
        "iteration"
       ]
      },
      {
       "output_type": "stream",
       "stream": "stdout",
       "text": [
        " 42\n",
        "\t0 N_{ss}:   55 mu_{ss}: -1.97\n",
        "\t1 N_{ss}:    3 mu_{ss}: 3.14\n",
        "\t2 N_{ss}:   42 mu_{ss}: 0.18\n",
        "iteration"
       ]
      },
      {
       "output_type": "stream",
       "stream": "stdout",
       "text": [
        " 43\n",
        "\t0 N_{ss}:   55 mu_{ss}: -1.96\n",
        "\t1 N_{ss}:    3 mu_{ss}: 3.14\n",
        "\t2 N_{ss}:   42 mu_{ss}: 0.17\n",
        "iteration"
       ]
      },
      {
       "output_type": "stream",
       "stream": "stdout",
       "text": [
        " 44\n",
        "\t0 N_{ss}:   55 mu_{ss}: -1.97\n",
        "\t1 N_{ss}:    3 mu_{ss}: 3.14\n",
        "\t2 N_{ss}:   42 mu_{ss}: 0.18\n",
        "iteration"
       ]
      },
      {
       "output_type": "stream",
       "stream": "stdout",
       "text": [
        " 45\n",
        "\t0 N_{ss}:   57 mu_{ss}: -1.92\n",
        "\t1 N_{ss}:    3 mu_{ss}: 3.14\n",
        "\t2 N_{ss}:   40 mu_{ss}: 0.23\n",
        "iteration"
       ]
      },
      {
       "output_type": "stream",
       "stream": "stdout",
       "text": [
        " 46\n",
        "\t0 N_{ss}:   53 mu_{ss}: -2.00\n",
        "\t1 N_{ss}:    3 mu_{ss}: 3.14\n",
        "\t2 N_{ss}:   44 mu_{ss}: 0.13\n",
        "iteration"
       ]
      },
      {
       "output_type": "stream",
       "stream": "stdout",
       "text": [
        " 47\n",
        "\t0 N_{ss}:   54 mu_{ss}: -1.98\n",
        "\t1 N_{ss}:    3 mu_{ss}: 3.14\n",
        "\t2 N_{ss}:   43 mu_{ss}: 0.16\n",
        "iteration"
       ]
      },
      {
       "output_type": "stream",
       "stream": "stdout",
       "text": [
        " 48\n",
        "\t0 N_{ss}:   58 mu_{ss}: -1.90\n",
        "\t1 N_{ss}:    3 mu_{ss}: 3.14\n",
        "\t2 N_{ss}:   39 mu_{ss}: 0.24\n",
        "iteration"
       ]
      },
      {
       "output_type": "stream",
       "stream": "stdout",
       "text": [
        " 49\n",
        "\t0 N_{ss}:   56 mu_{ss}: -1.94\n",
        "\t1 N_{ss}:    3 mu_{ss}: 3.14\n",
        "\t2 N_{ss}:   41 mu_{ss}: 0.20\n",
        "iteration"
       ]
      },
      {
       "output_type": "stream",
       "stream": "stdout",
       "text": [
        " 50\n",
        "\t0 N_{ss}:   52 mu_{ss}: -2.02\n",
        "\t1 N_{ss}:    4 mu_{ss}: 2.70\n",
        "\t2 N_{ss}:   44 mu_{ss}: 0.07\n",
        "iteration"
       ]
      },
      {
       "output_type": "stream",
       "stream": "stdout",
       "text": [
        " 51\n",
        "\t0 N_{ss}:   54 mu_{ss}: -1.99\n",
        "\t1 N_{ss}:    3 mu_{ss}: 3.14\n",
        "\t2 N_{ss}:   43 mu_{ss}: 0.16\n",
        "iteration"
       ]
      },
      {
       "output_type": "stream",
       "stream": "stdout",
       "text": [
        " 52\n",
        "\t0 N_{ss}:   53 mu_{ss}: -2.01\n",
        "\t1 N_{ss}:    3 mu_{ss}: 3.14\n",
        "\t2 N_{ss}:   44 mu_{ss}: 0.14\n",
        "iteration"
       ]
      },
      {
       "output_type": "stream",
       "stream": "stdout",
       "text": [
        " 53\n",
        "\t0 N_{ss}:   51 mu_{ss}: -2.04\n",
        "\t1 N_{ss}:    3 mu_{ss}: 3.14\n",
        "\t2 N_{ss}:   46 mu_{ss}: 0.08\n",
        "iteration"
       ]
      },
      {
       "output_type": "stream",
       "stream": "stdout",
       "text": [
        " 54\n",
        "\t0 N_{ss}:   49 mu_{ss}: -2.06\n",
        "\t1 N_{ss}:    3 mu_{ss}: 3.14\n",
        "\t2 N_{ss}:   48 mu_{ss}: 0.01\n",
        "iteration"
       ]
      },
      {
       "output_type": "stream",
       "stream": "stdout",
       "text": [
        " 55\n",
        "\t0 N_{ss}:   50 mu_{ss}: -2.07\n",
        "\t1 N_{ss}:    3 mu_{ss}: 3.14\n",
        "\t2 N_{ss}:   47 mu_{ss}: 0.06\n",
        "iteration"
       ]
      },
      {
       "output_type": "stream",
       "stream": "stdout",
       "text": [
        " 56\n",
        "\t0 N_{ss}:   48 mu_{ss}: -2.10\n",
        "\t1 N_{ss}:    3 mu_{ss}: 3.14\n",
        "\t2 N_{ss}:   49 mu_{ss}: 0.01\n",
        "iteration"
       ]
      },
      {
       "output_type": "stream",
       "stream": "stdout",
       "text": [
        " 57\n",
        "\t0 N_{ss}:   51 mu_{ss}: -2.05\n",
        "\t1 N_{ss}:    3 mu_{ss}: 3.14\n",
        "\t2 N_{ss}:   46 mu_{ss}: 0.09\n",
        "iteration"
       ]
      },
      {
       "output_type": "stream",
       "stream": "stdout",
       "text": [
        " 58\n",
        "\t0 N_{ss}:   51 mu_{ss}: -2.05\n",
        "\t1 N_{ss}:    3 mu_{ss}: 3.14\n",
        "\t2 N_{ss}:   46 mu_{ss}: 0.08\n",
        "iteration"
       ]
      },
      {
       "output_type": "stream",
       "stream": "stdout",
       "text": [
        " 59\n",
        "\t0 N_{ss}:   53 mu_{ss}: -2.00\n",
        "\t1 N_{ss}:    3 mu_{ss}: 3.14\n",
        "\t2 N_{ss}:   44 mu_{ss}: 0.13\n",
        "iteration"
       ]
      },
      {
       "output_type": "stream",
       "stream": "stdout",
       "text": [
        " 60\n",
        "\t0 N_{ss}:   54 mu_{ss}: -1.99\n",
        "\t1 N_{ss}:    3 mu_{ss}: 3.14\n",
        "\t2 N_{ss}:   43 mu_{ss}: 0.16\n",
        "iteration"
       ]
      },
      {
       "output_type": "stream",
       "stream": "stdout",
       "text": [
        " 61\n",
        "\t0 N_{ss}:   52 mu_{ss}: -2.03\n",
        "\t1 N_{ss}:    3 mu_{ss}: 3.14\n",
        "\t2 N_{ss}:   45 mu_{ss}: 0.11\n",
        "iteration"
       ]
      },
      {
       "output_type": "stream",
       "stream": "stdout",
       "text": [
        " 62\n",
        "\t0 N_{ss}:   54 mu_{ss}: -1.99\n",
        "\t1 N_{ss}:    3 mu_{ss}: 3.14\n",
        "\t2 N_{ss}:   43 mu_{ss}: 0.16\n",
        "iteration"
       ]
      },
      {
       "output_type": "stream",
       "stream": "stdout",
       "text": [
        " 63\n",
        "\t0 N_{ss}:   56 mu_{ss}: -1.94\n",
        "\t1 N_{ss}:    3 mu_{ss}: 3.14\n",
        "\t2 N_{ss}:   41 mu_{ss}: 0.20\n",
        "iteration"
       ]
      },
      {
       "output_type": "stream",
       "stream": "stdout",
       "text": [
        " 64\n",
        "\t0 N_{ss}:   52 mu_{ss}: -2.01\n",
        "\t1 N_{ss}:    3 mu_{ss}: 3.14\n",
        "\t2 N_{ss}:   45 mu_{ss}: 0.09\n",
        "iteration"
       ]
      },
      {
       "output_type": "stream",
       "stream": "stdout",
       "text": [
        " 65\n",
        "\t0 N_{ss}:   54 mu_{ss}: -1.99\n",
        "\t1 N_{ss}:    3 mu_{ss}: 3.14\n",
        "\t2 N_{ss}:   43 mu_{ss}: 0.16\n",
        "iteration"
       ]
      },
      {
       "output_type": "stream",
       "stream": "stdout",
       "text": [
        " 66\n",
        "\t0 N_{ss}:   54 mu_{ss}: -1.99\n",
        "\t1 N_{ss}:    3 mu_{ss}: 3.14\n",
        "\t2 N_{ss}:   43 mu_{ss}: 0.16\n",
        "iteration"
       ]
      },
      {
       "output_type": "stream",
       "stream": "stdout",
       "text": [
        " 67\n",
        "\t0 N_{ss}:   52 mu_{ss}: -2.03\n",
        "\t1 N_{ss}:    3 mu_{ss}: 3.14\n",
        "\t2 N_{ss}:   45 mu_{ss}: 0.11\n",
        "iteration"
       ]
      },
      {
       "output_type": "stream",
       "stream": "stdout",
       "text": [
        " 68\n",
        "\t0 N_{ss}:   51 mu_{ss}: -2.04\n",
        "\t1 N_{ss}:    3 mu_{ss}: 3.14\n",
        "\t2 N_{ss}:   46 mu_{ss}: 0.08\n",
        "iteration"
       ]
      },
      {
       "output_type": "stream",
       "stream": "stdout",
       "text": [
        " 69\n",
        "\t0 N_{ss}:   50 mu_{ss}: -2.05\n",
        "\t1 N_{ss}:    3 mu_{ss}: 3.14\n",
        "\t2 N_{ss}:   47 mu_{ss}: 0.04\n",
        "iteration"
       ]
      },
      {
       "output_type": "stream",
       "stream": "stdout",
       "text": [
        " 70\n",
        "\t0 N_{ss}:   52 mu_{ss}: -2.03\n",
        "\t1 N_{ss}:    3 mu_{ss}: 3.14\n",
        "\t2 N_{ss}:   45 mu_{ss}: 0.11\n",
        "iteration"
       ]
      },
      {
       "output_type": "stream",
       "stream": "stdout",
       "text": [
        " 71\n",
        "\t0 N_{ss}:   54 mu_{ss}: -1.98\n",
        "\t1 N_{ss}:    3 mu_{ss}: 3.14\n",
        "\t2 N_{ss}:   43 mu_{ss}: 0.15\n",
        "iteration"
       ]
      },
      {
       "output_type": "stream",
       "stream": "stdout",
       "text": [
        " 72\n",
        "\t0 N_{ss}:   56 mu_{ss}: -1.94\n",
        "\t1 N_{ss}:    3 mu_{ss}: 3.14\n",
        "\t2 N_{ss}:   41 mu_{ss}: 0.19\n",
        "iteration"
       ]
      },
      {
       "output_type": "stream",
       "stream": "stdout",
       "text": [
        " 73\n",
        "\t0 N_{ss}:   50 mu_{ss}: -2.05\n",
        "\t1 N_{ss}:    3 mu_{ss}: 3.14\n",
        "\t2 N_{ss}:   47 mu_{ss}: 0.04\n",
        "iteration"
       ]
      },
      {
       "output_type": "stream",
       "stream": "stdout",
       "text": [
        " 74\n",
        "\t0 N_{ss}:   53 mu_{ss}: -2.00\n",
        "\t1 N_{ss}:    3 mu_{ss}: 3.14\n",
        "\t2 N_{ss}:   44 mu_{ss}: 0.13\n",
        "iteration"
       ]
      },
      {
       "output_type": "stream",
       "stream": "stdout",
       "text": [
        " 75\n",
        "\t0 N_{ss}:   53 mu_{ss}: -1.98\n",
        "\t1 N_{ss}:    3 mu_{ss}: 3.14\n",
        "\t2 N_{ss}:   44 mu_{ss}: 0.10\n",
        "iteration"
       ]
      },
      {
       "output_type": "stream",
       "stream": "stdout",
       "text": [
        " 76\n",
        "\t0 N_{ss}:   53 mu_{ss}: -2.00\n",
        "\t1 N_{ss}:    3 mu_{ss}: 3.14\n",
        "\t2 N_{ss}:   44 mu_{ss}: 0.13\n",
        "iteration"
       ]
      },
      {
       "output_type": "stream",
       "stream": "stdout",
       "text": [
        " 77\n",
        "\t0 N_{ss}:   51 mu_{ss}: -2.05\n",
        "\t1 N_{ss}:    3 mu_{ss}: 3.14\n",
        "\t2 N_{ss}:   46 mu_{ss}: 0.09\n",
        "iteration"
       ]
      },
      {
       "output_type": "stream",
       "stream": "stdout",
       "text": [
        " 78\n",
        "\t0 N_{ss}:   53 mu_{ss}: -2.00\n",
        "\t1 N_{ss}:    3 mu_{ss}: 3.14\n",
        "\t2 N_{ss}:   44 mu_{ss}: 0.12\n",
        "iteration"
       ]
      },
      {
       "output_type": "stream",
       "stream": "stdout",
       "text": [
        " 79\n",
        "\t0 N_{ss}:   52 mu_{ss}: -2.03\n",
        "\t1 N_{ss}:    3 mu_{ss}: 3.14\n",
        "\t2 N_{ss}:   45 mu_{ss}: 0.11\n",
        "iteration"
       ]
      },
      {
       "output_type": "stream",
       "stream": "stdout",
       "text": [
        " 80\n",
        "\t0 N_{ss}:   55 mu_{ss}: -1.97\n",
        "\t1 N_{ss}:    3 mu_{ss}: 3.14\n",
        "\t2 N_{ss}:   42 mu_{ss}: 0.18\n",
        "iteration"
       ]
      },
      {
       "output_type": "stream",
       "stream": "stdout",
       "text": [
        " 81\n",
        "\t0 N_{ss}:   56 mu_{ss}: -1.94\n",
        "\t1 N_{ss}:    3 mu_{ss}: 3.14\n",
        "\t2 N_{ss}:   41 mu_{ss}: 0.19\n",
        "iteration"
       ]
      },
      {
       "output_type": "stream",
       "stream": "stdout",
       "text": [
        " 82\n",
        "\t0 N_{ss}:   55 mu_{ss}: -1.96\n",
        "\t1 N_{ss}:    3 mu_{ss}: 3.14\n",
        "\t2 N_{ss}:   42 mu_{ss}: 0.17\n",
        "iteration"
       ]
      },
      {
       "output_type": "stream",
       "stream": "stdout",
       "text": [
        " 83\n",
        "\t0 N_{ss}:   55 mu_{ss}: -1.96\n",
        "\t1 N_{ss}:    3 mu_{ss}: 3.14\n",
        "\t2 N_{ss}:   42 mu_{ss}: 0.18\n",
        "iteration"
       ]
      },
      {
       "output_type": "stream",
       "stream": "stdout",
       "text": [
        " 84\n",
        "\t0 N_{ss}:   54 mu_{ss}: -1.99\n",
        "\t1 N_{ss}:    3 mu_{ss}: 3.14\n",
        "\t2 N_{ss}:   43 mu_{ss}: 0.16\n",
        "iteration"
       ]
      },
      {
       "output_type": "stream",
       "stream": "stdout",
       "text": [
        " 85\n",
        "\t0 N_{ss}:   54 mu_{ss}: -1.99\n",
        "\t1 N_{ss}:    3 mu_{ss}: 3.14\n",
        "\t2 N_{ss}:   43 mu_{ss}: 0.16\n",
        "iteration"
       ]
      },
      {
       "output_type": "stream",
       "stream": "stdout",
       "text": [
        " 86\n",
        "\t0 N_{ss}:   54 mu_{ss}: -1.99\n",
        "\t1 N_{ss}:    3 mu_{ss}: 3.14\n",
        "\t2 N_{ss}:   43 mu_{ss}: 0.16\n",
        "iteration"
       ]
      },
      {
       "output_type": "stream",
       "stream": "stdout",
       "text": [
        " 87\n",
        "\t0 N_{ss}:   55 mu_{ss}: -1.95\n",
        "\t1 N_{ss}:    3 mu_{ss}: 3.14\n",
        "\t2 N_{ss}:   42 mu_{ss}: 0.16\n",
        "iteration"
       ]
      },
      {
       "output_type": "stream",
       "stream": "stdout",
       "text": [
        " 88\n",
        "\t0 N_{ss}:   53 mu_{ss}: -2.01\n",
        "\t1 N_{ss}:    3 mu_{ss}: 3.14\n",
        "\t2 N_{ss}:   44 mu_{ss}: 0.14\n",
        "iteration"
       ]
      },
      {
       "output_type": "stream",
       "stream": "stdout",
       "text": [
        " 89\n",
        "\t0 N_{ss}:   50 mu_{ss}: -2.06\n",
        "\t1 N_{ss}:    3 mu_{ss}: 3.14\n",
        "\t2 N_{ss}:   47 mu_{ss}: 0.05\n",
        "iteration"
       ]
      },
      {
       "output_type": "stream",
       "stream": "stdout",
       "text": [
        " 90\n",
        "\t0 N_{ss}:   51 mu_{ss}: -2.05\n",
        "\t1 N_{ss}:    3 mu_{ss}: 3.14\n",
        "\t2 N_{ss}:   46 mu_{ss}: 0.08\n",
        "iteration"
       ]
      },
      {
       "output_type": "stream",
       "stream": "stdout",
       "text": [
        " 91\n",
        "\t0 N_{ss}:   52 mu_{ss}: -2.02\n",
        "\t1 N_{ss}:    3 mu_{ss}: 3.14\n",
        "\t2 N_{ss}:   45 mu_{ss}: 0.10\n",
        "iteration"
       ]
      },
      {
       "output_type": "stream",
       "stream": "stdout",
       "text": [
        " 92\n",
        "\t0 N_{ss}:   52 mu_{ss}: -2.02\n",
        "\t1 N_{ss}:    3 mu_{ss}: 3.14\n",
        "\t2 N_{ss}:   45 mu_{ss}: 0.10\n",
        "iteration"
       ]
      },
      {
       "output_type": "stream",
       "stream": "stdout",
       "text": [
        " 93\n",
        "\t0 N_{ss}:   51 mu_{ss}: -2.04\n",
        "\t1 N_{ss}:    3 mu_{ss}: 3.14\n",
        "\t2 N_{ss}:   46 mu_{ss}: 0.08\n",
        "iteration"
       ]
      },
      {
       "output_type": "stream",
       "stream": "stdout",
       "text": [
        " 94\n",
        "\t0 N_{ss}:   52 mu_{ss}: -2.03\n",
        "\t1 N_{ss}:    3 mu_{ss}: 3.14\n",
        "\t2 N_{ss}:   45 mu_{ss}: 0.11\n",
        "iteration"
       ]
      },
      {
       "output_type": "stream",
       "stream": "stdout",
       "text": [
        " 95\n",
        "\t0 N_{ss}:   51 mu_{ss}: -2.04\n",
        "\t1 N_{ss}:    3 mu_{ss}: 3.14\n",
        "\t2 N_{ss}:   46 mu_{ss}: 0.08\n",
        "iteration"
       ]
      },
      {
       "output_type": "stream",
       "stream": "stdout",
       "text": [
        " 96\n",
        "\t0 N_{ss}:   49 mu_{ss}: -2.08\n",
        "\t1 N_{ss}:    3 mu_{ss}: 3.14\n",
        "\t2 N_{ss}:   48 mu_{ss}: 0.03\n",
        "iteration"
       ]
      },
      {
       "output_type": "stream",
       "stream": "stdout",
       "text": [
        " 97\n",
        "\t0 N_{ss}:   48 mu_{ss}: -2.09\n",
        "\t1 N_{ss}:    3 mu_{ss}: 3.14\n",
        "\t2 N_{ss}:   49 mu_{ss}: -0.00\n",
        "iteration"
       ]
      },
      {
       "output_type": "stream",
       "stream": "stdout",
       "text": [
        " 98\n",
        "\t0 N_{ss}:   52 mu_{ss}: -2.03\n",
        "\t1 N_{ss}:    3 mu_{ss}: 3.14\n",
        "\t2 N_{ss}:   45 mu_{ss}: 0.11\n",
        "iteration"
       ]
      },
      {
       "output_type": "stream",
       "stream": "stdout",
       "text": [
        " 99\n",
        "\t0 N_{ss}:   54 mu_{ss}: -1.98\n",
        "\t1 N_{ss}:    3 mu_{ss}: 3.14\n",
        "\t2 N_{ss}:   43 mu_{ss}: 0.15\n",
        "iteration"
       ]
      },
      {
       "output_type": "stream",
       "stream": "stdout",
       "text": [
        " 100\n",
        "\t0 N_{ss}:   56 mu_{ss}: -1.94\n",
        "\t1 N_{ss}:    3 mu_{ss}: 3.14\n",
        "\t2 N_{ss}:   41 mu_{ss}: 0.20\n"
       ]
      }
     ],
     "prompt_number": 5
    },
    {
     "cell_type": "code",
     "collapsed": false,
     "input": [
      "for i in range(0, len(posterior_c_dist), 5):\n",
      "    fig = plt.figure(figsize=(3, 2))\n",
      "    ax = fig.add_subplot(111)\n",
      "    ax.set_title(\"Distribution of component membership for x=%s\" % round(X[i], 2))\n",
      "    plt.hist(np.array(posterior_c_dist)[:, i], bins=range(K+1), normed=True)"
     ],
     "language": "python",
     "metadata": {},
     "outputs": [
      {
       "metadata": {},
       "output_type": "display_data",
       "png": "[encoded data removed]",
       "text": [
        "<matplotlib.figure.Figure at 0x10971c210>"
       ]
      },
      {
       "metadata": {},
       "output_type": "display_data",
       "png": "[encoded data removed]",
       "text": [
        "<matplotlib.figure.Figure at 0x10a385150>"
       ]
      },
      {
       "metadata": {},
       "output_type": "display_data",
       "png": "[encoded data removed]",
       "text": [
        "<matplotlib.figure.Figure at 0x10a412f90>"
       ]
      },
      {
       "metadata": {},
       "output_type": "display_data",
       "png": "[encoded data removed]",
       "text": [
        "<matplotlib.figure.Figure at 0x10a494110>"
       ]
      },
      {
       "metadata": {},
       "output_type": "display_data",
       "png": "[encoded data removed]",
       "text": [
        "<matplotlib.figure.Figure at 0x10a52e750>"
       ]
      },
      {
       "metadata": {},
       "output_type": "display_data",
       "png": "[encoded data removed]",
       "text": [
        "<matplotlib.figure.Figure at 0x10a102ed0>"
       ]
      },
      {
       "metadata": {},
       "output_type": "display_data",
       "png": "[encoded data removed]",
       "text": [
        "<matplotlib.figure.Figure at 0x10a5a5d50>"
       ]
      },
      {
       "metadata": {},
       "output_type": "display_data",
       "png": "[encoded data removed]",
       "text": [
        "<matplotlib.figure.Figure at 0x10a61fa10>"
       ]
      },
      {
       "metadata": {},
       "output_type": "display_data",
       "png": "[encoded data removed]",
       "text": [
        "<matplotlib.figure.Figure at 0x10a6b77d0>"
       ]
      },
      {
       "metadata": {},
       "output_type": "display_data",
       "png": "[encoded data removed]",
       "text": [
        "<matplotlib.figure.Figure at 0x10a7354d0>"
       ]
      },
      {
       "metadata": {},
       "output_type": "display_data",
       "png": "[encoded data removed]",
       "text": [
        "<matplotlib.figure.Figure at 0x10a7d4290>"
       ]
      },
      {
       "metadata": {},
       "output_type": "display_data",
       "png": "[encoded data removed]",
       "text": [
        "<matplotlib.figure.Figure at 0x10aa46f50>"
       ]
      },
      {
       "metadata": {},
       "output_type": "display_data",
       "png": "[encoded data removed]",
       "text": [
        "<matplotlib.figure.Figure at 0x10aae3d10>"
       ]
      },
      {
       "metadata": {},
       "output_type": "display_data",
       "png": "[encoded data removed]",
       "text": [
        "<matplotlib.figure.Figure at 0x10ab62a10>"
       ]
      },
      {
       "metadata": {},
       "output_type": "display_data",
       "png": "[encoded data removed]",
       "text": [
        "<matplotlib.figure.Figure at 0x10ac007d0>"
       ]
      },
      {
       "metadata": {},
       "output_type": "display_data",
       "png": "[encoded data removed]",
       "text": [
        "<matplotlib.figure.Figure at 0x10ac814d0>"
       ]
      },
      {
       "metadata": {},
       "output_type": "display_data",
       "png": "[encoded data removed]",
       "text": [
        "<matplotlib.figure.Figure at 0x10ad1f290>"
       ]
      },
      {
       "metadata": {},
       "output_type": "display_data",
       "png": "[encoded data removed]",
       "text": [
        "<matplotlib.figure.Figure at 0x10ad93f50>"
       ]
      },
      {
       "metadata": {},
       "output_type": "display_data",
       "png": "[encoded data removed]",
       "text": [
        "<matplotlib.figure.Figure at 0x10af31d10>"
       ]
      },
      {
       "metadata": {},
       "output_type": "display_data",
       "png": "[encoded data removed]",
       "text": [
        "<matplotlib.figure.Figure at 0x10afb0a10>"
       ]
      }
     ],
     "prompt_number": 6
    },
    {
     "cell_type": "code",
     "collapsed": false,
     "input": [
      "_ = plt.hist(np.array(posterior_mu_dist), histtype='stepfilled', normed=True, alpha=.7, bins=np.arange(-3, 3, .1))"
     ],
     "language": "python",
     "metadata": {},
     "outputs": [
      {
       "metadata": {},
       "output_type": "display_data",
       "png": "[encoded data removed]",
       "text": [
        "<matplotlib.figure.Figure at 0x10a74e650>"
       ]
      }
     ],
     "prompt_number": 65
    },
    {
     "cell_type": "code",
     "collapsed": false,
     "input": [
      "_ = plt.hist(np.array(posterior_pi_dist), histtype='stepfilled', normed=True, alpha=.4, bins=np.arange(0, .8, .05))"
     ],
     "language": "python",
     "metadata": {},
     "outputs": [
      {
       "metadata": {},
       "output_type": "display_data",
       "png": "[encoded data removed]",
       "text": [
        "<matplotlib.figure.Figure at 0x10a696d50>"
       ]
      }
     ],
     "prompt_number": 63
    },
    {
     "cell_type": "code",
     "collapsed": false,
     "input": [],
     "language": "python",
     "metadata": {},
     "outputs": []
    }
   ],
   "metadata": {}
  }
 ]
}