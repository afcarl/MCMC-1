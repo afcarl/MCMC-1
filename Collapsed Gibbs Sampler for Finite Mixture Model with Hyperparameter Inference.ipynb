{
 "metadata": {
  "name": "",
  "signature": "sha256:52f73f9e0f157d7783bb79ff7d0702bc0f46f0ec25261135fc2a14d4313c065e"
 },
 "nbformat": 3,
 "nbformat_minor": 0,
 "worksheets": [
  {
   "cells": [
    {
     "cell_type": "code",
     "collapsed": false,
     "input": [
      "import numpy as np\n",
      "import matplotlib.pyplot as plt\n",
      "import pandas as pd\n",
      "\n",
      "from scipy import stats, special\n",
      "from numpy import random\n",
      "from collections import namedtuple, Counter\n",
      "\n",
      "np.set_printoptions(precision=2)"
     ],
     "language": "python",
     "metadata": {},
     "outputs": [],
     "prompt_number": 9
    },
    {
     "cell_type": "code",
     "collapsed": false,
     "input": [
      "def generate(weights, means, var, N):\n",
      "    \"\"\"Generate data from a mixture model with fixed mean variance\n",
      "    \"\"\"\n",
      "    samples = []\n",
      "    components = []\n",
      "    assert(len(weights) == len(means))\n",
      "    assert(sum(weights) == 1)\n",
      "    for i in range(N):\n",
      "        component = random.choice(range(len(means)), p=weights)\n",
      "        samples.append(random.normal(means[component], np.sqrt(var)))\n",
      "        components.append(component)\n",
      "    return np.array(samples), np.array(components)\n",
      "\n",
      "\n",
      "def generate2(weights, prior_mean, prior_var, component_var, N):\n",
      "    samples = []\n",
      "    components = []\n",
      "    num_components = len(weights)\n",
      "    component_means = [random.normal(prior_mean, np.sqrt(prior_var)) for _ in range(num_components)]\n",
      "    print \"component means\", component_means\n",
      "    assert(len(weights) == len(component_means))\n",
      "    assert(sum(weights) == 1)\n",
      "    print component_means\n",
      "    for i in range(N):\n",
      "        component = random.choice(range(num_components), p=weights)\n",
      "        component_sd = np.sqrt(component_var)\n",
      "        samples.append(random.normal(component_means[component], component_sd))\n",
      "        components.append(component)\n",
      "    return samples, components"
     ],
     "language": "python",
     "metadata": {},
     "outputs": [],
     "prompt_number": 13
    },
    {
     "cell_type": "code",
     "collapsed": false,
     "input": [
      "def posterior_predictive_score(x_i, suffstat, sigma2, prior_mu, prior_sigma2):\n",
      "    \"\"\"\n",
      "    From Section 2.3 of http://www.cs.ubc.ca/~murphyk/Papers/bayesGauss.pdf\n",
      "    \n",
      "    x_i: New data point\n",
      "    N: Number of current data points\n",
      "    mu: Current estimate of mu for component\n",
      "    sigma2: Known mu for component\n",
      "    prior_mu: Prior mean for mu (mu ~ Normal(prior_mu, prior_sigma2))\n",
      "    prior: Prior variance for mu (mu ~ Normal(prior_mu, prior_sigma2))\n",
      "    \"\"\"\n",
      "    \n",
      "    posterior_sigma2 = 1 / (suffstat.N * 1.0 / sigma2 + 1.0 / prior_sigma2)\n",
      "    predictive_mu = posterior_sigma2 * (prior_mu / prior_sigma2 + suffstat.N * suffstat.mu / sigma2)\n",
      "    predictive_sigma2 = sigma2 + posterior_sigma2\n",
      "    predictive_sd = np.sqrt(predictive_sigma2)\n",
      "    \n",
      "    return stats.norm(predictive_mu, predictive_sd).logpdf(x_i)\n"
     ],
     "language": "python",
     "metadata": {},
     "outputs": [],
     "prompt_number": 14
    },
    {
     "cell_type": "code",
     "collapsed": false,
     "input": [
      "# Generate data\n",
      "\n",
      "sigma2 = .5 # Fix variance for components\n",
      "N = 100 # Total number of samples for fake data\n",
      "real_pi = [.5, .5] # Component weights for fake data\n",
      "real_means = [-2, 2]\n",
      "K = len(real_pi)\n",
      "\n",
      "prior_mu, prior_sigma2 = 0, 4\n",
      "# X, components = generate(weights=real_pi, means=real_means, var=sigma2, N=N)\n",
      "X, components = generate2(real_pi, prior_mu, prior_sigma2, sigma2, N)\n",
      "_ = plt.hist(X)\n"
     ],
     "language": "python",
     "metadata": {},
     "outputs": [
      {
       "output_type": "stream",
       "stream": "stdout",
       "text": [
        "component means [-0.9961565885083442, 2.029302807018535]\n",
        "[-0.9961565885083442, 2.029302807018535]\n"
       ]
      },
      {
       "metadata": {},
       "output_type": "display_data",
       "png": "[encoded data removed]",
       "text": [
        "<matplotlib.figure.Figure at 0x10b24cc10>"
       ]
      }
     ],
     "prompt_number": 17
    },
    {
     "cell_type": "code",
     "collapsed": false,
     "input": [
      "class SuffStat(namedtuple('SuffStat', 'N mu')):\n",
      "    def __str__(self):\n",
      "        return \"%s %4i %s %-3.2f\" % (\"N_{ss}:\", self.N, \"mu_{ss}:\", self.mu)\n",
      "\n",
      "Params = namedtuple('Params', 'pi mu')\n",
      "\n",
      "\n",
      "def add_datapoint_to_suffstats(x, suffstats):\n",
      "    \"\"\"Update sufficient stats for normal component with new datapoint\n",
      "    \"\"\"\n",
      "    N = suffstats.N + 1\n",
      "    mu = (suffstats.mu * (N - 1) + x) / N\n",
      "    return SuffStat(N, mu)\n",
      "\n",
      "\n",
      "def remove_datapoint_from_suffstats(x, suffstats):\n",
      "    \"\"\"Remove datapoint from sufficient stats for normal component\n",
      "    \"\"\"\n",
      "    N = suffstats.N - 1\n",
      "    mu = (suffstats.mu * (N + 1) - x * 1.0) / N\n",
      "    return SuffStat(N, mu)\n",
      "\n",
      "\n",
      "def generate_suffstat(X):\n",
      "    X = np.array(X)\n",
      "    return SuffStat(N=len(X), mu=X.mean())\n",
      "\n",
      "def cluster_assign_score(current_cluster_size, num_clusters, alpha):\n",
      "    \"\"\"From Algorithm 24.1 in Murphy 2012\n",
      "    \n",
      "    What is the probability of the datapoint being in cluster?\n",
      "    \"\"\"\n",
      "    return np.log(current_cluster_size + alpha * 1.0 / num_clusters)\n",
      "\n",
      "\n",
      "\n",
      "def sample_marginalized_parameters(suffstats, alpha, prior_mu, prior_sigma2, sigma2, num_clusters):\n",
      "    pi = stats.dirichlet([n + alpha * 1.0 / num_clusters for n, _ in suffstats]).rvs()[0]\n",
      "    ## TODO\n",
      "    mus = []\n",
      "    for n, suffstat in enumerate(suffstats):\n",
      "        numerator = (prior_mu / prior_sigma2 + \n",
      "                     suffstat.mu * suffstat.N / sigma2)\n",
      "        denominator = (1.0 / prior_sigma2 + \n",
      "                       suffstat.N / sigma2)\n",
      "        posterior_mu = numerator / denominator\n",
      "        posterior_sigma2 = 1.0 / (1.0 / prior_sigma2 + suffstat.N)\n",
      "        mus.append(stats.norm(posterior_mu, posterior_sigma2).rvs())\n",
      "    return Params(pi, np.array(mus))\n",
      "        \n",
      "def model_score(X, c, mu, sigma2, pi):\n",
      "    scores = []\n",
      "    for assignment, x in zip(c, X):\n",
      "        s = stats.norm(mu[assignment], sigma2[assignment]).logpdf(x) \n",
      "        scores.append(np.log(pi[c[assignment]]) + s)\n",
      "    return np.sum(scores)"
     ],
     "language": "python",
     "metadata": {},
     "outputs": [],
     "prompt_number": 24
    },
    {
     "cell_type": "code",
     "collapsed": false,
     "input": [
      "ITERS = 1000\n",
      "\n",
      "c = [random.choice(range(K)) for i in range(len(X))]\n",
      "all_suffstats = {k: generate_suffstat([x for x, assignment in zip(X, c) if assignment == k]) for k in range(K)}\n",
      "\n",
      "alpha = 1\n",
      "prior_mu=4\n",
      "posterior_c_dist = []\n",
      "posterior_mu_dist = []\n",
      "posterior_pi_dist = []\n",
      "model_scores = []\n",
      "\n",
      "for iteration in range(ITERS):\n",
      "    # Shuffle data\n",
      "    z = list(zip(X, c))\n",
      "    random.shuffle(z)\n",
      "    X, c = map(list, zip(*z))\n",
      "    \n",
      "    for i, (datapoint, assignment) in enumerate(zip(X, c)):\n",
      "        current_suffstats_for_i = all_suffstats[assignment]\n",
      "        all_suffstats[assignment] = remove_datapoint_from_suffstats(datapoint, current_suffstats_for_i)\n",
      "        counts = Counter(c)\n",
      "        component_labels = all_suffstats.keys()\n",
      "        predictive_score = np.array([posterior_predictive_score(datapoint, all_suffstats[component], sigma2, prior_mu, prior_sigma2)\n",
      "                                     for component  in component_labels])\n",
      "        cluster_score = np.array([cluster_assign_score(all_suffstats[component].N - 1, K, alpha) \n",
      "                                    for component in component_labels])\n",
      "        scores = predictive_score + cluster_score\n",
      "        scores = np.exp(scores) / np.exp(scores).sum()\n",
      "        new_component = random.choice(component_labels, p=scores)\n",
      "        c[i] = new_component\n",
      "                \n",
      "        all_suffstats[new_component] = add_datapoint_to_suffstats(datapoint, all_suffstats[new_component])\n",
      "    \n",
      "    \n",
      "    # Step prior_mu:\n",
      "    proposal_prior_mu = prior_mu + random.normal(scale=.1)\n",
      "    proposal_pi, proposal_mu = sample_marginalized_parameters(all_suffstats.values(), alpha,\n",
      "                                                              proposal_prior_mu, prior_sigma2, sigma2, K)\n",
      "    pi, mu = sample_marginalized_parameters(all_suffstats.values(), alpha,\n",
      "                                                              prior_mu, prior_sigma2, sigma2, K)\n",
      "    score = model_score(X, c, mu, K * [sigma2], pi)\n",
      "    proposal_score = model_score(X, c, proposal_mu, K * [sigma2], proposal_pi)\n",
      "    diff = min(proposal_score - score, 0)\n",
      "\n",
      "    uniform_draw = np.log(stats.uniform(0, 1).rvs())\n",
      "    if uniform_draw < diff:\n",
      "        prior_mu = proposal_prior_mu\n",
      "#     print \"prior_mu\", prior_mu\n",
      "\n",
      "    \n",
      "    # Log params \n",
      "    pi, mu = sample_marginalized_parameters(all_suffstats.values(), alpha,\n",
      "                                            prior_mu, prior_sigma2, sigma2, K)\n",
      "    posterior_c_dist.append(c[:])\n",
      "    posterior_mu_dist.append(mu)\n",
      "    posterior_pi_dist.append(pi)\n",
      "\n",
      "    model_scores.append(model_score(X, c, mu, K * [sigma2], pi))\n",
      "    \n",
      "    if not iteration % 25:\n",
      "        print 'iteration', iteration + 1\n",
      "        for k, v in all_suffstats.iteritems():\n",
      "            print \"\\t\", k, v\n",
      "            print \"prior_mu\", prior_mu\n"
     ],
     "language": "python",
     "metadata": {},
     "outputs": [
      {
       "output_type": "stream",
       "stream": "stdout",
       "text": [
        "iteration 1\n",
        "\t0 N_{ss}:   50 mu_{ss}: -0.65\n",
        "prior_mu 4.07151632706\n",
        "\t1 N_{ss}:   50 mu_{ss}: 1.79\n",
        "prior_mu 4.07151632706\n",
        "iteration"
       ]
      },
      {
       "output_type": "stream",
       "stream": "stdout",
       "text": [
        " 26\n",
        "\t0 N_{ss}:   49 mu_{ss}: -0.91\n",
        "prior_mu 4.39659808356\n",
        "\t1 N_{ss}:   51 mu_{ss}: 2.00\n",
        "prior_mu 4.39659808356\n",
        "iteration"
       ]
      },
      {
       "output_type": "stream",
       "stream": "stdout",
       "text": [
        " 51\n",
        "\t0 N_{ss}:   48 mu_{ss}: -0.94\n",
        "prior_mu 5.12452982773\n",
        "\t1 N_{ss}:   52 mu_{ss}: 1.97\n",
        "prior_mu 5.12452982773\n",
        "iteration"
       ]
      },
      {
       "output_type": "stream",
       "stream": "stdout",
       "text": [
        " 76\n",
        "\t0 N_{ss}:   50 mu_{ss}: -0.89\n",
        "prior_mu 5.23584373343\n",
        "\t1 N_{ss}:   50 mu_{ss}: 2.03\n",
        "prior_mu 5.23584373343\n",
        "iteration"
       ]
      },
      {
       "output_type": "stream",
       "stream": "stdout",
       "text": [
        " 101\n",
        "\t0 N_{ss}:   50 mu_{ss}: -0.89\n",
        "prior_mu 5.93562655619\n",
        "\t1 N_{ss}:   50 mu_{ss}: 2.03\n",
        "prior_mu 5.93562655619\n",
        "iteration"
       ]
      },
      {
       "output_type": "stream",
       "stream": "stdout",
       "text": [
        " 126\n",
        "\t0 N_{ss}:   50 mu_{ss}: -0.84\n",
        "prior_mu 6.19001445292\n",
        "\t1 N_{ss}:   50 mu_{ss}: 1.98\n",
        "prior_mu 6.19001445292\n",
        "iteration"
       ]
      },
      {
       "output_type": "stream",
       "stream": "stdout",
       "text": [
        " 151\n",
        "\t0 N_{ss}:   52 mu_{ss}: -0.81\n",
        "prior_mu 6.97736462207\n",
        "\t1 N_{ss}:   48 mu_{ss}: 2.06\n",
        "prior_mu 6.97736462207\n",
        "iteration"
       ]
      },
      {
       "output_type": "stream",
       "stream": "stdout",
       "text": [
        " 176\n",
        "\t0 N_{ss}:   51 mu_{ss}: -0.85\n",
        "prior_mu 7.5209252036\n",
        "\t1 N_{ss}:   49 mu_{ss}: 2.05\n",
        "prior_mu 7.5209252036\n",
        "iteration"
       ]
      },
      {
       "output_type": "stream",
       "stream": "stdout",
       "text": [
        " 201\n",
        "\t0 N_{ss}:   48 mu_{ss}: -0.92\n",
        "prior_mu 7.75628361067\n",
        "\t1 N_{ss}:   52 mu_{ss}: 1.95\n",
        "prior_mu 7.75628361067\n",
        "iteration"
       ]
      },
      {
       "output_type": "stream",
       "stream": "stdout",
       "text": [
        " 226\n",
        "\t0 N_{ss}:   52 mu_{ss}: -0.81\n",
        "prior_mu 7.336887795\n",
        "\t1 N_{ss}:   48 mu_{ss}: 2.06\n",
        "prior_mu 7.336887795\n",
        "iteration"
       ]
      },
      {
       "output_type": "stream",
       "stream": "stdout",
       "text": [
        " 251\n",
        "\t0 N_{ss}:   50 mu_{ss}: -0.88\n",
        "prior_mu 6.78039422717\n",
        "\t1 N_{ss}:   50 mu_{ss}: 2.02\n",
        "prior_mu 6.78039422717\n",
        "iteration"
       ]
      },
      {
       "output_type": "stream",
       "stream": "stdout",
       "text": [
        " 276\n",
        "\t0 N_{ss}:   49 mu_{ss}: -0.91\n",
        "prior_mu 6.48076796104\n",
        "\t1 N_{ss}:   51 mu_{ss}: 2.00\n",
        "prior_mu 6.48076796104\n",
        "iteration"
       ]
      },
      {
       "output_type": "stream",
       "stream": "stdout",
       "text": [
        " 301\n",
        "\t0 N_{ss}:   48 mu_{ss}: -0.93\n",
        "prior_mu 6.71751544586\n",
        "\t1 N_{ss}:   52 mu_{ss}: 1.95\n",
        "prior_mu 6.71751544586\n",
        "iteration"
       ]
      },
      {
       "output_type": "stream",
       "stream": "stdout",
       "text": [
        " 326\n",
        "\t0 N_{ss}:   50 mu_{ss}: -0.88\n",
        "prior_mu 6.78494707212\n",
        "\t1 N_{ss}:   50 mu_{ss}: 2.02\n",
        "prior_mu 6.78494707212\n",
        "iteration"
       ]
      },
      {
       "output_type": "stream",
       "stream": "stdout",
       "text": [
        " 351\n",
        "\t0 N_{ss}:   48 mu_{ss}: -0.94\n",
        "prior_mu 6.88935648575\n",
        "\t1 N_{ss}:   52 mu_{ss}: 1.97\n",
        "prior_mu 6.88935648575\n",
        "iteration"
       ]
      },
      {
       "output_type": "stream",
       "stream": "stdout",
       "text": [
        " 376\n",
        "\t0 N_{ss}:   50 mu_{ss}: -0.89\n",
        "prior_mu 7.39308761424\n",
        "\t1 N_{ss}:   50 mu_{ss}: 2.03\n",
        "prior_mu 7.39308761424\n",
        "iteration"
       ]
      },
      {
       "output_type": "stream",
       "stream": "stdout",
       "text": [
        " 401\n",
        "\t0 N_{ss}:   48 mu_{ss}: -0.93\n",
        "prior_mu 7.70376388641\n",
        "\t1 N_{ss}:   52 mu_{ss}: 1.96\n",
        "prior_mu 7.70376388641\n",
        "iteration"
       ]
      },
      {
       "output_type": "stream",
       "stream": "stdout",
       "text": [
        " 426\n",
        "\t0 N_{ss}:   50 mu_{ss}: -0.87\n",
        "prior_mu 7.0431992056\n",
        "\t1 N_{ss}:   50 mu_{ss}: 2.01\n",
        "prior_mu 7.0431992056\n",
        "iteration"
       ]
      },
      {
       "output_type": "stream",
       "stream": "stdout",
       "text": [
        " 451\n",
        "\t0 N_{ss}:   47 mu_{ss}: -0.97\n",
        "prior_mu 6.90356751899\n",
        "\t1 N_{ss}:   53 mu_{ss}: 1.93\n",
        "prior_mu 6.90356751899\n",
        "iteration"
       ]
      },
      {
       "output_type": "stream",
       "stream": "stdout",
       "text": [
        " 476\n",
        "\t0 N_{ss}:   49 mu_{ss}: -0.91\n",
        "prior_mu 6.82587251008\n",
        "\t1 N_{ss}:   51 mu_{ss}: 1.99\n",
        "prior_mu 6.82587251008\n",
        "iteration"
       ]
      },
      {
       "output_type": "stream",
       "stream": "stdout",
       "text": [
        " 501\n",
        "\t0 N_{ss}:   51 mu_{ss}: -0.85\n",
        "prior_mu 6.47984538632\n",
        "\t1 N_{ss}:   49 mu_{ss}: 2.05\n",
        "prior_mu 6.47984538632\n",
        "iteration"
       ]
      },
      {
       "output_type": "stream",
       "stream": "stdout",
       "text": [
        " 526\n",
        "\t0 N_{ss}:   51 mu_{ss}: -0.85\n",
        "prior_mu 6.87124754695\n",
        "\t1 N_{ss}:   49 mu_{ss}: 2.05\n",
        "prior_mu 6.87124754695\n",
        "iteration"
       ]
      },
      {
       "output_type": "stream",
       "stream": "stdout",
       "text": [
        " 551\n",
        "\t0 N_{ss}:   51 mu_{ss}: -0.85\n",
        "prior_mu 6.72686781358\n",
        "\t1 N_{ss}:   49 mu_{ss}: 2.05\n",
        "prior_mu 6.72686781358\n",
        "iteration"
       ]
      },
      {
       "output_type": "stream",
       "stream": "stdout",
       "text": [
        " 576\n",
        "\t0 N_{ss}:   51 mu_{ss}: -0.84\n",
        "prior_mu 7.1159039047\n",
        "\t1 N_{ss}:   49 mu_{ss}: 2.04\n",
        "prior_mu 7.1159039047\n",
        "iteration"
       ]
      },
      {
       "output_type": "stream",
       "stream": "stdout",
       "text": [
        " 601\n",
        "\t0 N_{ss}:   49 mu_{ss}: -0.91\n",
        "prior_mu 6.79773029485\n",
        "\t1 N_{ss}:   51 mu_{ss}: 2.00\n",
        "prior_mu 6.79773029485\n",
        "iteration"
       ]
      },
      {
       "output_type": "stream",
       "stream": "stdout",
       "text": [
        " 626\n",
        "\t0 N_{ss}:   50 mu_{ss}: -0.89\n",
        "prior_mu 6.60659310743\n",
        "\t1 N_{ss}:   50 mu_{ss}: 2.03\n",
        "prior_mu 6.60659310743\n",
        "iteration"
       ]
      },
      {
       "output_type": "stream",
       "stream": "stdout",
       "text": [
        " 651\n",
        "\t0 N_{ss}:   50 mu_{ss}: -0.88\n",
        "prior_mu 6.77629262219\n",
        "\t1 N_{ss}:   50 mu_{ss}: 2.02\n",
        "prior_mu 6.77629262219\n",
        "iteration"
       ]
      },
      {
       "output_type": "stream",
       "stream": "stdout",
       "text": [
        " 676\n",
        "\t0 N_{ss}:   49 mu_{ss}: -0.91\n",
        "prior_mu 6.4607788667\n",
        "\t1 N_{ss}:   51 mu_{ss}: 2.00\n",
        "prior_mu 6.4607788667\n",
        "iteration"
       ]
      },
      {
       "output_type": "stream",
       "stream": "stdout",
       "text": [
        " 701\n",
        "\t0 N_{ss}:   50 mu_{ss}: -0.88\n",
        "prior_mu 6.64861254344\n",
        "\t1 N_{ss}:   50 mu_{ss}: 2.02\n",
        "prior_mu 6.64861254344\n",
        "iteration"
       ]
      },
      {
       "output_type": "stream",
       "stream": "stdout",
       "text": [
        " 726\n",
        "\t0 N_{ss}:   51 mu_{ss}: -0.85\n",
        "prior_mu 6.21481641589\n",
        "\t1 N_{ss}:   49 mu_{ss}: 2.05\n",
        "prior_mu 6.21481641589\n",
        "iteration"
       ]
      },
      {
       "output_type": "stream",
       "stream": "stdout",
       "text": [
        " 751\n",
        "\t0 N_{ss}:   50 mu_{ss}: -0.87\n",
        "prior_mu 6.56892000513\n",
        "\t1 N_{ss}:   50 mu_{ss}: 2.01\n",
        "prior_mu 6.56892000513\n",
        "iteration"
       ]
      },
      {
       "output_type": "stream",
       "stream": "stdout",
       "text": [
        " 776\n",
        "\t0 N_{ss}:   48 mu_{ss}: -0.94\n",
        "prior_mu 6.31573614275\n",
        "\t1 N_{ss}:   52 mu_{ss}: 1.96\n",
        "prior_mu 6.31573614275\n",
        "iteration"
       ]
      },
      {
       "output_type": "stream",
       "stream": "stdout",
       "text": [
        " 801\n",
        "\t0 N_{ss}:   50 mu_{ss}: -0.87\n",
        "prior_mu 5.54556397768\n",
        "\t1 N_{ss}:   50 mu_{ss}: 2.01\n",
        "prior_mu 5.54556397768\n",
        "iteration"
       ]
      },
      {
       "output_type": "stream",
       "stream": "stdout",
       "text": [
        " 826\n",
        "\t0 N_{ss}:   50 mu_{ss}: -0.89\n",
        "prior_mu 4.8741493437\n",
        "\t1 N_{ss}:   50 mu_{ss}: 2.03\n",
        "prior_mu 4.8741493437\n",
        "iteration"
       ]
      },
      {
       "output_type": "stream",
       "stream": "stdout",
       "text": [
        " 851\n",
        "\t0 N_{ss}:   51 mu_{ss}: -0.85\n",
        "prior_mu 4.5055590424\n",
        "\t1 N_{ss}:   49 mu_{ss}: 2.05\n",
        "prior_mu 4.5055590424\n",
        "iteration"
       ]
      },
      {
       "output_type": "stream",
       "stream": "stdout",
       "text": [
        " 876\n",
        "\t0 N_{ss}:   51 mu_{ss}: -0.83\n",
        "prior_mu 4.5472525627\n",
        "\t1 N_{ss}:   49 mu_{ss}: 2.03\n",
        "prior_mu 4.5472525627\n",
        "iteration"
       ]
      },
      {
       "output_type": "stream",
       "stream": "stdout",
       "text": [
        " 901\n",
        "\t0 N_{ss}:   48 mu_{ss}: -0.92\n",
        "prior_mu 5.12349195946\n",
        "\t1 N_{ss}:   52 mu_{ss}: 1.94\n",
        "prior_mu 5.12349195946\n",
        "iteration"
       ]
      },
      {
       "output_type": "stream",
       "stream": "stdout",
       "text": [
        " 926\n",
        "\t0 N_{ss}:   48 mu_{ss}: -0.93\n",
        "prior_mu 4.8302000173\n",
        "\t1 N_{ss}:   52 mu_{ss}: 1.96\n",
        "prior_mu 4.8302000173\n",
        "iteration"
       ]
      },
      {
       "output_type": "stream",
       "stream": "stdout",
       "text": [
        " 951\n",
        "\t0 N_{ss}:   50 mu_{ss}: -0.89\n",
        "prior_mu 4.71127470369\n",
        "\t1 N_{ss}:   50 mu_{ss}: 2.03\n",
        "prior_mu 4.71127470369\n",
        "iteration"
       ]
      },
      {
       "output_type": "stream",
       "stream": "stdout",
       "text": [
        " 976\n",
        "\t0 N_{ss}:   48 mu_{ss}: -0.93\n",
        "prior_mu 4.9638015344\n",
        "\t1 N_{ss}:   52 mu_{ss}: 1.95\n",
        "prior_mu 4.9638015344\n"
       ]
      }
     ],
     "prompt_number": 31
    },
    {
     "cell_type": "code",
     "collapsed": false,
     "input": [
      "pd.Series(model_scores).plot(title=\"Total Model Score\")"
     ],
     "language": "python",
     "metadata": {},
     "outputs": [
      {
       "metadata": {},
       "output_type": "pyout",
       "prompt_number": 33,
       "text": [
        "<matplotlib.axes._subplots.AxesSubplot at 0x10b4af790>"
       ]
      },
      {
       "metadata": {},
       "output_type": "display_data",
       "png": "[encoded data removed]",
       "text": [
        "<matplotlib.figure.Figure at 0x10b22e790>"
       ]
      }
     ],
     "prompt_number": 33
    },
    {
     "cell_type": "code",
     "collapsed": false,
     "input": [
      "ax = plt.figure().add_subplot(111)\n",
      "ax.set_title(\"Distribution of component means\")\n",
      "\n",
      "_ = plt.hist(np.array(posterior_mu_dist)[10:], histtype='stepfilled', normed=True, alpha=.7, bins=np.arange(-3, 3, .1))"
     ],
     "language": "python",
     "metadata": {},
     "outputs": [
      {
       "metadata": {},
       "output_type": "display_data",
       "png": "[encoded data removed]",
       "text": [
        "<matplotlib.figure.Figure at 0x10be25190>"
       ]
      }
     ],
     "prompt_number": 34
    },
    {
     "cell_type": "code",
     "collapsed": false,
     "input": [
      "ax = plt.figure().add_subplot(111)\n",
      "ax.set_title(\"Distribution of mixture weights (pi)\")\n",
      "_ = plt.hist(np.array(posterior_pi_dist)[10:], histtype='stepfilled', normed=True, alpha=.4, bins=np.arange(0, .8, .05))"
     ],
     "language": "python",
     "metadata": {},
     "outputs": [
      {
       "metadata": {},
       "output_type": "display_data",
       "png": "[encoded data removed]",
       "text": [
        "<matplotlib.figure.Figure at 0x10b41b610>"
       ]
      }
     ],
     "prompt_number": 35
    },
    {
     "cell_type": "code",
     "collapsed": false,
     "input": [],
     "language": "python",
     "metadata": {},
     "outputs": []
    }
   ],
   "metadata": {}
  }
 ]
}